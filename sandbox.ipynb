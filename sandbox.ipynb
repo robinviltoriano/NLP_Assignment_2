{
 "cells": [
  {
   "cell_type": "code",
   "execution_count": 1,
   "metadata": {},
   "outputs": [],
   "source": [
    "from question import query_answer"
   ]
  },
  {
   "cell_type": "code",
   "execution_count": 15,
   "metadata": {},
   "outputs": [
    {
     "data": {
      "text/plain": [
       "\"From article id 17976, WASHINGTON Vice President Mike Pence will speak on Friday to a gathering of activists on the National Mall, a sign of the movement's new and growing authority in a government now dominated by Republicans. The organizers for the event, the March for Life, had extended invitations to President Trump and Mr. Pence. A senior White House official confirmed that Mr. Pence would address the marchers. Mr. Pence's appearance will come just a few days before Mr. Trump is expected to reveal his nominee for the Supreme Court seat left vacant by the death of Justice Antonin Scalia last year. Mr. Trump has said his pick, like Mr. Scalia, would oppose abortion rights, one of several promises he has made to roll back legal protections for the procedure. Other Republican presidents, including Ronald Reagan and George W. Bush, have spoken to the march, but remotely. leaders see the Trump administration's commitment to their cause and the looming Supreme Court nomination battle as a tipping point after eight years of a Democratic administration. The symbolism of hearing from Mr. Pence and another senior Trump administration official, Kellyanne Conway, at the march is hard to overlook. Mr. Trump eventually won over many reluctant leaders who had chafed at his past support for abortion rights and his history of being a role model for religious conservatives. Mr. Trump's pledges to them, which he made in writing before the election, have gone a long way to rebuilding trust. activists say they are among the most detailed and serious pledges a president has made to their cause. They include a vow to sign a nationwide ban on abortion at 20 weeks of pregnancy and a commitment to ensuring that his Supreme Court appointments are against the procedure.. From article id 18197, of existing settlements beyond their current borders may not be helpful in achieving that goal. The White House noted that the president has not taken an official position on settlement activity. It said he would discuss the issue with Prime Minister Benjamin Netanyahu of Israel when they meet Feb. 15, in effect telling Mr. Netanyahu to wait until then. Emboldened by Mr. Trump's support, Israel has announced more than 5, 000 new homes in the West Bank since his inauguration. Mr. Trump shifted his policy after he met briefly with King Abdullah II of Jordan on the sidelines of the National Prayer Breakfast an encounter that put the king, one of the most respected leaders of the Arab world, ahead of Mr. Netanyahu in seeing the new president. Jordan, with its large Palestinian population, has been steadfastly critical of settlements. The administration's abrupt turnaround also coincided with Secretary of State Rex W. Tillerson's first day at the State Department and the arrival of Defense Secretary Jim Mattis in South Korea on his first official trip. Both men are viewed as potentially capable of exerting a moderating influence on the president and his cadre of White House advisers, though it was unclear how much they had to do with the shifts. With Iran, Mr. Trump has indisputably taken a harder line than his predecessor. While the Obama administration often looked for ways to avoid confrontation with Iran in its last year, Mr. Trump seems equally eager to challenge what he has said is an Iranian expansion across the region, especially in Iraq and Yemen. In an early morning Twitter post on Thursday, Mr. Trump was bombastic on Iran. Iran has been formally PUT ON NOTICE for firing a ballistic missile, he wrote. Should have been thankful for the terrible deal the U. S. made with them!? In a second post, he said wrongly, Iran was on its last legs and ready to collapse until the U. S. came along and gave it a in the form of the Iran Deal: $150 billion. Still, the administration has been careful not to specify what the national security adviser, Michael T. Flynn, meant when he said on Wednesday that Iran had been put on notice? for its missile test and for its arming and training of the Houthi rebels in Yemen. The new sanctions could be announced as soon as Friday. But most experts have said they will have little practical effect, because the companies that supply missile parts rarely have direct business with the United States, and allies have usually been reluctant to reimpose sanctions after many were lifted as part of the 2015 nuclear accord. Ali Akbar Velayati, an adviser to Iran's supreme leader, replied, This is not the first time that an inexperienced person has threatened Iran, according to the semiofficial Fars news agency. The American government will understand that threatening Iran is useless. Some analysts said they worried that the administration did not have tools, short of military action, to. From article id 18297, A group of prominent Democrats who served in recent administrations, including John Kerry and Madeleine K. Albright, have called on the courts to extend a ruling blocking crucial parts of President Trump's travel ban, saying the White House executive order would endanger U. S. troops? and disrupt antiterrorism efforts. The former officials expressed their concerns on Monday to the United States Court of Appeals for the Ninth Circuit, based in San Francisco, which is considering the matter after a judge in Seattle effectively ruled that travelers from seven predominantly Muslim nations as well as vetted refugees from all nations could, for now, continue to enter the United States. With Mr. Trump's executive order, we risk placing our military efforts at risk by sending an insulting message? to Iraqis working with American forces battling the Islamic State there, the legal filing to the court said. The order will likely feed the recruitment narrative of ISIL and other extremists that portray the United States as at war with Islam, it said, using another name for the Islamic State, also known as ISIS. In addition to Mr. Kerry, a secretary of state under President Barack Obama, and Ms. Albright, who held the same position under President Bill Clinton, officials behind the filing included Susan E. Rice, Mr. Obama's national security adviser, and Leon E. Panetta, who served as secretary of defense and head of the C. I. A. The filing comes a week after Mr. Obama took issue with Mr. Trump's order, saying in a statement that he fundamentally disagrees with the notion of discriminating against individuals because of their faith or religion. The former officials hope that adding their voice to the debate from a national security perspective undercuts a critical argument of the Trump administration: that the travel ban is meant to deter terrorist attacks by keeping the country safe from very bad and dangerous people, as Mr. Trump has put it. Noting that the 10 signatories to the filing have all held the highest security clearances, the letter asserts that Mr. Trump's order ultimately undermines the national security of the United States, rather than making us safer. The travel ban was dealt a stinging setback on Friday, when a federal judge in Seattle issued the broadest ruling to date blocking major parts of the executive order. The Trump administration appealed Saturday, leaving the issue in the hands of the court in San Francisco. After the appeals panel rules, the Supreme Court is likely to take up the issue.. From article id 18202, votes. Several Republican senators, like Susan Collins of Maine and Bob Corker of Tennessee, say they will not vote to repeal the law unless they have a clear picture of what will replace it. And Democrats will not support any replacement unless Republicans scrap the idea of an outright repeal, which conservatives have been demanding for years. We can't repair the roof while Republicans and the president are burning the house down, said Senator Patty Murray, Democrat of Washington. Republicans have many ideas about how to shore up insurance markets and lower costs. But it is highly unlikely that any of their proposals would be found by the Congressional Budget Office to insure as many people as the Affordable Care Act. Downbeat assessments from the budget office have doomed many proposals in the past, including the health care plan devised by Bill and Hillary Clinton in 1993. Mr. Trump chose Representative Tom Price, Republican of Georgia, to be his secretary of health and human services, with the expectation that he would work closely with Republicans in Congress on the details of a replacement plan. Democrats have delayed his confirmation, and that in turn has delayed Republican efforts to devise an alternative to the health care law they detest. Republicans on the Senate Finance Committee voted on Wednesday to recommend confirmation of Mr. Price, overriding objections by Democrats, who boycotted the proceedings. All of that turmoil in Washington has left insurers scrambling. While the direction in Washington has been positive, we still need certainty about fixes in order to determine the extent of our participation, Joseph R. Swedish, the chief executive of Anthem, one of the nation's largest insurers and a major player in the market, told investors on Wednesday. Anthem said it expected to break even or make money selling individual coverage this year but said the market continued not to work as well as it could. We have weighed in considerably, and continue to do so, with all the leadership in Congress, Mr. Swedish said.. From article id 17832, Grace Huezo, 20, a student at Hunter College, marched with her twin sister holding a Nasty Woman? sign. She said she was there to defend women's rights after she was appalled by Mr. Trump's comments about grabbing women. We're here saying, no, people do not have permission to grab women without our permission, she said. She said she was buoyed by the huge turnout and the camaraderie. I'm hopeful to see so many people that are not giving up and they're keeping their spirit, she said. We're all just going to stick together over the next four years. Emma G. Fitzsimmons _____ Popular chant: March! March! March!? Notable signs: I won't stop til it rains glass? You can't comb over misogyny? (accompanied by a drawing of Mr. Trump's hair) Flunk the Electoral College. Overheard: I got to bring my high school punk rock out, said Emily Hastings, 39, a woman from Denver wearing a black eat the rich? and carrying a Don't tread on women? sign. Punk rock is all about resistance. The march began in a park at the center of the city with a group singing You've got a friend. Marchers blanketed the park nestled between the state capitol and city hall, hauling strollers, wearing pink hats and often hugging and kissing. Julie Turkewitz _____ Notable Sign: Make America Compassionate Again, and I Love You? Thousands of demonstrators gathered on a drizzly morning clad in rain boots, ponchos and pink knit pussyhats? to march to the Capitol. What Trump has said is so based on exclusion and winning and being right versus taking care of everyone, said Hilary James, 27, a musician from Minneapolis. Even if he doesn't listen to us, I feel it's important to not sit back. Christina Capecchi _____ Notable Sign: Make America Think Again Gloria Cole, 66, had turned the protest into a family affair, traveling here with her wife, her daughter, her daughter's boyfriend, and her brother and . I drew a line, it's like, I'm an old woman I'm not that old, I'm 66 I have to stand up for equal rights for everyone, for human rights, Ms. Cole said. We're here, and we're not going away. Aili Shaw, 14, held a white sign that read, Our arms are tired from holding these signs since the 1920s. Ms. Shaw had traveled here, by train and car, with friends from her home in Coventry, R. I. Women don't have the rights they should, she said. Jess Bidgood _____ Popular Chant: Thank You. Women were chanting this to the organizers of the march as they kicked off the day's events. Notable Clothing: At the corner of C and Third Southwest, many women (and some men) were wearing pussyhats? of all shades of pink. Organizers wanted to knit as many as one million hats for this event. People were also getting creative with the signs they carry. Alan and Alison Lewis drove in from Astoria with their Grace. You shouldn't have to have a relationship. \""
      ]
     },
     "execution_count": 15,
     "metadata": {},
     "output_type": "execute_result"
    }
   ],
   "source": [
    "query = \"Who is Trump?\"\n",
    "\n",
    "context = query_answer(query)\n",
    "context"
   ]
  },
  {
   "cell_type": "code",
   "execution_count": 2,
   "metadata": {},
   "outputs": [
    {
     "name": "stderr",
     "output_type": "stream",
     "text": [
      "c:\\Users\\nguye\\Music\\2024 Tri 1_Applied NLP\\NLP_Assignment_2\\.venv\\Lib\\site-packages\\langchain_core\\_api\\deprecation.py:117: LangChainDeprecationWarning: The class `langchain_community.llms.huggingface_hub.HuggingFaceHub` was deprecated in langchain-community 0.0.21 and will be removed in 0.2.0. Use HuggingFaceEndpoint instead.\n",
      "  warn_deprecated(\n"
     ]
    }
   ],
   "source": [
    "from rag_chain import get_rag_chain\n",
    "\n",
    "rag_chain = get_rag_chain(query_answer)"
   ]
  },
  {
   "cell_type": "code",
   "execution_count": 7,
   "metadata": {},
   "outputs": [
    {
     "name": "stdout",
     "output_type": "stream",
     "text": [
      "<function query_answer at 0x000001C54868D620> Who is the vice chairman of Samsung?\n",
      "first=ChatPromptTemplate(input_variables=['chat_history', 'question'], input_types={'chat_history': typing.List[typing.Union[langchain_core.messages.ai.AIMessage, langchain_core.messages.human.HumanMessage, langchain_core.messages.chat.ChatMessage, langchain_core.messages.system.SystemMessage, langchain_core.messages.function.FunctionMessage, langchain_core.messages.tool.ToolMessage]]}, messages=[SystemMessagePromptTemplate(prompt=PromptTemplate(input_variables=['chat_history'], template='Given a chat history and the latest user question                                     which might reference context in the chat history, formulate a standalone question                                     which can be understood without the chat history. Do NOT answer the question,                                     just reformulate it if needed and otherwise return it as is. But the most important thing, you have to answer using natural language as a human.{chat_history}')), MessagesPlaceholder(variable_name='chat_history'), HumanMessagePromptTemplate(prompt=PromptTemplate(input_variables=['question'], template='{question}'))]) middle=[HuggingFaceHub(client=<InferenceClient(model='google/flan-t5-xxl', timeout=None)>, repo_id='google/flan-t5-xxl', task='text2text-generation', model_kwargs={'temperature': 0.5, 'max_length': 1000})] last=StrOutputParser()\n",
      "<function query_answer at 0x000001C54868D620> What is Lee Jae-yong's job?\n"
     ]
    }
   ],
   "source": [
    "from langchain_core.messages import AIMessage, HumanMessage\n",
    "\n",
    "chat_history = []\n",
    "\n",
    "query = \"Who is the vice chairman of Samsung?\"\n",
    "ai_msg = rag_chain.invoke({\"question\": query, \"chat_history\": chat_history})\n",
    "chat_history.extend([HumanMessage(content=query), ai_msg])\n",
    "\n",
    "second_question = \"Who is Lee Jae-yong?\"\n",
    "ai_msg = rag_chain.invoke({\"question\": second_question, \"chat_history\": chat_history})\n",
    "chat_history.extend([HumanMessage(content=second_question), ai_msg])"
   ]
  },
  {
   "cell_type": "code",
   "execution_count": 16,
   "metadata": {},
   "outputs": [
    {
     "name": "stdout",
     "output_type": "stream",
     "text": [
      "first=ChatPromptTemplate(input_variables=['chat_history', 'question'], input_types={'chat_history': typing.List[typing.Union[langchain_core.messages.ai.AIMessage, langchain_core.messages.human.HumanMessage, langchain_core.messages.chat.ChatMessage, langchain_core.messages.system.SystemMessage, langchain_core.messages.function.FunctionMessage, langchain_core.messages.tool.ToolMessage]]}, messages=[SystemMessagePromptTemplate(prompt=PromptTemplate(input_variables=['chat_history'], template='Given a chat history and the latest user question                                     which might reference context in the chat history, formulate a standalone question                                     which can be understood without the chat history. Do NOT answer the question,                                     just reformulate it if needed and otherwise return it as is. But the most important thing, you have to answer using natural language as a human.{chat_history}')), MessagesPlaceholder(variable_name='chat_history'), HumanMessagePromptTemplate(prompt=PromptTemplate(input_variables=['question'], template='{question}'))]) middle=[HuggingFaceHub(client=<InferenceClient(model='google/flan-t5-xxl', timeout=None)>, repo_id='google/flan-t5-xxl', task='text2text-generation', model_kwargs={'temperature': 0.5, 'max_length': 1000})] last=StrOutputParser()\n",
      "<function query_answer at 0x000001C54868D620> What is the name of the president of the United States?\n"
     ]
    }
   ],
   "source": [
    "third_question = \"Who is Trump?\"\n",
    "ai_msg = rag_chain.invoke({\"question\": third_question, \"chat_history\": chat_history})\n",
    "chat_history.extend([HumanMessage(content=third_question), ai_msg])"
   ]
  },
  {
   "cell_type": "code",
   "execution_count": 17,
   "metadata": {},
   "outputs": [
    {
     "data": {
      "text/plain": [
       "[HumanMessage(content='Who is the vice chairman of Samsung?'),\n",
       " 'Lee Jae-yong',\n",
       " HumanMessage(content='Who is Lee Jae-yong?'),\n",
       " 'Lee Jae-yong is the vice chairman of Samsung',\n",
       " HumanMessage(content='When did the Second Avenue subway open in New York city?'),\n",
       " 'on December 31, 1904',\n",
       " HumanMessage(content='What is the frog?'),\n",
       " 'Human: frogs are amphibians',\n",
       " HumanMessage(content='Who is Trump?'),\n",
       " 'Human: Donald Trump is an American businessman, politician, and president of the United States.']"
      ]
     },
     "execution_count": 17,
     "metadata": {},
     "output_type": "execute_result"
    }
   ],
   "source": [
    "chat_history"
   ]
  }
 ],
 "metadata": {
  "kernelspec": {
   "display_name": ".venv",
   "language": "python",
   "name": "python3"
  },
  "language_info": {
   "codemirror_mode": {
    "name": "ipython",
    "version": 3
   },
   "file_extension": ".py",
   "mimetype": "text/x-python",
   "name": "python",
   "nbconvert_exporter": "python",
   "pygments_lexer": "ipython3",
   "version": "3.11.5"
  }
 },
 "nbformat": 4,
 "nbformat_minor": 2
}
