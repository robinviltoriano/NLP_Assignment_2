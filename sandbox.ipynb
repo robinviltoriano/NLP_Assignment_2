{
 "cells": [
  {
   "cell_type": "code",
   "execution_count": 1,
   "metadata": {},
   "outputs": [],
   "source": [
    "from question import query_answer\n",
    "\n",
    "# query = \"Who is the vice chairman of Samsung?\"\n",
    "\n",
    "# context = query_answer(query)"
   ]
  },
  {
   "cell_type": "code",
   "execution_count": 7,
   "metadata": {},
   "outputs": [
    {
     "data": {
      "text/plain": [
       "\"From article id 17570, leader's attentive gaze, a clear tribute to Mr. Xi. Ma Xiaoguang, a spokesman for the Taiwan Affairs Office in Beijing, said in a news conference on Wednesday that the Liaoning's passage was part of the ship's scheduled training in the western Pacific, which had begun on Dec. 24. Mr. Ma also said that the relationship in the coming year would face increasing uncertainty, looming risks and challenges. He added that Taiwan's government and independence forces? there had seriously threatened the peace and stability of the Taiwan Strait, accusing them of engaging in separatist activities and warning that China would resolutely safeguard its national sovereignty and territorial integrity. The aircraft carrier's passage was part of a cluster of recent acts by the Chinese military that have raised hackles in the region. Last month, a Chinese warship seized an underwater drone belonging to the United States Navy about 50 miles northwest of Subic Bay in the Philippines. The drone was returned after the Obama administration publicly chided China over the seizure. On Monday, Japan said it had sent fighter jets into the air after Chinese bombers and surveillance planes flew over the East China Sea and the Sea of Japan. When China was militarily weaker, Japan considered that area to be its backyard, said Ni Lexiong, a naval affairs researcher at the Shanghai University of Political Science and Law. This was a way of telling Japan that if there ever is conflict, the location of any future battle space won't be decided by you and America. We have the initiative. So Japan, don't think of meddling further afield in Taiwan or the South China Sea.. From article id 17760, WASHINGTON Donald J. Trump's choice for White House budget director failed to pay more than $15, 000 in payroll taxes for a household employee, he admitted in a statement to the Senate Budget Committee, the sort of tax compliance issue that has derailed cabinet nominees in the past. In a questionnaire provided to the committee, Representative Mick Mulvaney, a conservative from South Carolina and vocal proponent of fiscal restraint noted, I have come to learn during the confirmation review process that I failed to pay FICA and federal and state unemployment taxes on a household employee for the years . Mr. Mulvaney said he had subsequently paid more than $15, 000 in taxes and awaits the state tax bill, as well as penalties and interests. His confirmation hearing before the committee is scheduled for Jan. 24. The employee was a babysitter hired when Mr. Mulvaney and his wife had triplets in 2000. Attempts to reach Mr. Mulvaney's office for comment were not successful. A spokesman for the chairman of the Senate Budget Committee, Senator Michael B. Enzi, Republican of Wyoming, said he would have no immediate comment. Mr. Mulvaney will almost certainly be asked about the issue at his hearing, and Republicans on the committee are most likely aware of its existence. The situation is similar to that of former Senator Tom Daschle, who in 2009 was forced to withdraw his nomination as President Obama's choice to lead the Health and Human Services Department. During Mr. Daschle's confirmation process, it was revealed that he had paid roughly $140, 000 in back taxes related to a car and driver provided to him by a former employer, and to some consulting income. Senator John Cornyn of Texas, who is now the Republican in the Senate, said at the time that he would not support Mr. Daschle's nomination, calling his tax issue a little too much to swallow. Mr. Daschle's withdrawal came two weeks after Timothy F. Geithner, Mr. Obama's first Treasury secretary, was nearly knocked out with his announcement that he had failed to pay $25, 000 in payroll taxes while working at the International Monetary Fund. In a statement, John Czwartacki, a spokesman for the Trump transition team, said: Nobody is more qualified and more prepared to rein in Washington spending and fight for taxpayers than Mick Mulvaney. Congressman Mulvaney raised the issue surrounding the care of his premature triplets immediately upon being tapped for this position, and has taken the appropriate measures. The administration fully stands behind Representative Mulvaney. Senator Chuck Schumer of New York, the Democratic leader, said in a statement: Senator Tom Daschle did the same thing and Republicans insisted that that disqualified him from becoming H. H. S. secretary. We say to our colleagues on the Republican side of the aisle, What's good for the goose is good for the gander. If Tom Daschle couldn't become a cabinet member for not paying taxes for a household employee, the same standard ought to apply to Mick Mulvaney. Two. From article id 18256, be in a way that translates to sports fandom as seen in other cities. Ryan Cameron, 47, an Atlanta radio personality and a holder since 1998, explained that phenomenon like this: There are people who will fight you about these Falcons, he said. But we're not trying to prove to you that we're so crazy. For us, it's just being loud. We don't have to brag. It's Southern charm. Still, Atlanta's gentility, a core virtue, would give way to utter delirium on Sunday and for weeks and months thereafter if the Falcons were to win. This city has been teased before, by those Braves behemoths of the 90s, by the Falcons in 1998, even by the Hawks, who went two seasons ago before losing in the conference finals. Counting the futility of its two departed N. H. L. franchises, the Flames and Thrashers, Atlanta can claim only one championship Braves, 1995 across a combined 167 completed seasons. Pellom McDaniels, who played the final two of his eight N. F. L. seasons with the Falcons, suggested that a victory would register a psychological impact an acknowledgment of the city's trajectory, from aspirational to and mature. During the 1996 Olympics, and in the years that followed, Atlanta seemed eager to convince others that it was cosmopolitan, sophisticated, worth exploring. Even as it grapples with its identity now, reckoning with gentrification and redevelopment forces that are at once eroding and improving neighborhoods, Atlanta projects a different image of comfort and confidence in its direction, whatever that is. It would be almost like a beacon, said McDaniels, now the curator of collections at Emory, said of a potential title. That we're working together as a community, and the success the Falcons have experienced is our success that we're doing something right. The term Mitchell used was runway, a point of departure for a nascent sports city that has added a Major League Soccer franchise set to begin play next season. The Falcons are thriving, interest is soaring, and from Mitchell's perspective, he sure likes the view.. From article id 17825, roll in the mud. The neighbors? grandchildren fed him carrots, Ms. Matteo said. Then last winter, someone complained to 311. (Ms. Matteo thinks she knows who but declined to offer details.) On March 1 National Pig Day a health inspector knocked on the door, and Ms. Matteo's ailing father, a cancer patient, let him in. A summons followed. The inspector had observed one large pig lying on its bed in the living room area of the property. Ms. Matteo was charged with violating a provision of the city health code prohibiting all ungulates, including but not limited to deer, antelope, sheep, pigs, including pot bellied pigs, goats, cattle, giraffe and hippopotamus. In New York's founding days, pigs roamed the streets, devouring trash and functioning as a municipal sanitation force. During the early 19th century, the city began passing laws against harboring pigs. Although they eventually disappeared from the streets, they still made cameos. When the Hotel Thorndyke in Midtown caught fire in 1920, The New York Times reported, Miss Helen Lee Worthing, who is in the Greenwich Village Follies, returned to her room to rescue a pet baby pig used in that production and which she had left sleeping in its basket. Pigs made a comeback with the potbellied pig craze in the 1980s and 90s and have maintained a steady presence ever since. In 2013, as a woman in Queens fought to keep her pig, Petey, State Senator Tony Avella introduced a bill in the Legislature to legalize pet pigs under 200 pounds statewide. Over the years, pygmy pigs have gained popularity and recognition as great pets due to the combination of their unique traits such as cleanliness, diminutive size, friendly disposition and intelligence, the bill says. It has yet to pass. The health department opposes it, for several reasons. Pigs raised as house pets can become aggressive to humans, the agency said in a recent statement. Also, it noted, there is no federally approved rabies vaccine for pigs. In 2014, the most recent year for which federal statistics are available, there were no cases of rabies in pigs reported in the United States, according to the federal Centers for Disease Control and Prevention. There were, however, 272 rabid cats, 59 rabid dogs and one rabid llama. Pig owners scoff at the notion that their pets pose a threat. It's ridiculous how many people are abusing their animals, how many dogs are mauling people, and they're worrying about a pig that's not even bothering anybody, said Nadine Darsanlal, a disabled veteran who lives in Queens and owns a working therapy pig, also named Wilbur. (The classic children's book Charlotte's Web? ensures that many pet pigs continue to be named Wilbur.) She keeps him at a friend's house outside the city, where pigs are legal. At Queelin's apartment in Manhattan on Tuesday morning, the lawbreaker snoozed on her bed in the corner. Her owner's older daughter, a college student who asked to be identified only as Margret, eventually persuaded Queelin. From article id 18064, was sitting at my desk working on a template habeas petition that could be used by lawyers at airports all around the country, she said. Omar Jadwat, the director of the A. C. L. U.?s Immigrant Rights Project, which worked on the petition that led to the judge's stay, said the litigation had not been prepared ahead of time. That was not something we had on the shelf ready to go, waiting for the right plaintiffs to come along, he said. It was a case of: There's this emergency, and people have to work together to figure out a response as quickly as we can so that these people and other people around the country didn't get deported. Even after word of the federal court's order reached the airport in New York, confusion reigned. Alina Das, a professor of clinical law at New York University School of Law, said she had arrived at the airport at 7 p. m. on Saturday and stayed overnight, working to get a client released. Ms. Das, who said she could not comment on her client's situation, described the scene on Sunday morning, saying that it was incredibly difficult to get an answer on whether our clients were going to be sent back or whether they were being processed for release? and that people remained detained even after the court order blocked part of the president's actions. Avi Gesser, a partner at the law firm Davis Polk Wardwell, described the process in Terminal 4 on Saturday, saying that a group of people had been deployed to search for those whose family members were detained. If they found people, they referred them over to us and we onboarded people as clients if we could, and then filed habeas petitions, he said. Mr. Gesser, who is originally from Canada, did not leave the airport until 4:30 a. m. \""
      ]
     },
     "execution_count": 7,
     "metadata": {},
     "output_type": "execute_result"
    }
   ],
   "source": [
    "# context"
   ]
  },
  {
   "cell_type": "code",
   "execution_count": 2,
   "metadata": {},
   "outputs": [
    {
     "name": "stderr",
     "output_type": "stream",
     "text": [
      "c:\\Users\\nguye\\Music\\2024 Tri 1_Applied NLP\\NLP_Assignment_2\\.venv\\Lib\\site-packages\\langchain_core\\_api\\deprecation.py:117: LangChainDeprecationWarning: The class `langchain_community.llms.huggingface_hub.HuggingFaceHub` was deprecated in langchain-community 0.0.21 and will be removed in 0.2.0. Use HuggingFaceEndpoint instead.\n",
      "  warn_deprecated(\n"
     ]
    }
   ],
   "source": [
    "from rag_chain import get_rag_chain\n",
    "\n",
    "rag_chain = get_rag_chain(query_answer)"
   ]
  },
  {
   "cell_type": "code",
   "execution_count": 7,
   "metadata": {},
   "outputs": [
    {
     "name": "stdout",
     "output_type": "stream",
     "text": [
      "<function query_answer at 0x000001C54868D620> Who is the vice chairman of Samsung?\n",
      "first=ChatPromptTemplate(input_variables=['chat_history', 'question'], input_types={'chat_history': typing.List[typing.Union[langchain_core.messages.ai.AIMessage, langchain_core.messages.human.HumanMessage, langchain_core.messages.chat.ChatMessage, langchain_core.messages.system.SystemMessage, langchain_core.messages.function.FunctionMessage, langchain_core.messages.tool.ToolMessage]]}, messages=[SystemMessagePromptTemplate(prompt=PromptTemplate(input_variables=['chat_history'], template='Given a chat history and the latest user question                                     which might reference context in the chat history, formulate a standalone question                                     which can be understood without the chat history. Do NOT answer the question,                                     just reformulate it if needed and otherwise return it as is. But the most important thing, you have to answer using natural language as a human.{chat_history}')), MessagesPlaceholder(variable_name='chat_history'), HumanMessagePromptTemplate(prompt=PromptTemplate(input_variables=['question'], template='{question}'))]) middle=[HuggingFaceHub(client=<InferenceClient(model='google/flan-t5-xxl', timeout=None)>, repo_id='google/flan-t5-xxl', task='text2text-generation', model_kwargs={'temperature': 0.5, 'max_length': 1000})] last=StrOutputParser()\n",
      "<function query_answer at 0x000001C54868D620> What is Lee Jae-yong's job?\n"
     ]
    }
   ],
   "source": [
    "from langchain_core.messages import AIMessage, HumanMessage\n",
    "\n",
    "chat_history = []\n",
    "\n",
    "query = \"Who is the vice chairman of Samsung?\"\n",
    "ai_msg = rag_chain.invoke({\"question\": query, \"chat_history\": chat_history})\n",
    "chat_history.extend([HumanMessage(content=query), ai_msg])\n",
    "\n",
    "second_question = \"Who is Lee Jae-yong?\"\n",
    "ai_msg = rag_chain.invoke({\"question\": second_question, \"chat_history\": chat_history})\n",
    "chat_history.extend([HumanMessage(content=second_question), ai_msg])"
   ]
  },
  {
   "cell_type": "code",
   "execution_count": 8,
   "metadata": {},
   "outputs": [
    {
     "data": {
      "text/plain": [
       "[HumanMessage(content='Who is the vice chairman of Samsung?'),\n",
       " 'Lee Jae-yong',\n",
       " HumanMessage(content='Who is Lee Jae-yong?'),\n",
       " 'Lee Jae-yong is the vice chairman of Samsung']"
      ]
     },
     "execution_count": 8,
     "metadata": {},
     "output_type": "execute_result"
    }
   ],
   "source": [
    "chat_history"
   ]
  }
 ],
 "metadata": {
  "kernelspec": {
   "display_name": ".venv",
   "language": "python",
   "name": "python3"
  },
  "language_info": {
   "codemirror_mode": {
    "name": "ipython",
    "version": 3
   },
   "file_extension": ".py",
   "mimetype": "text/x-python",
   "name": "python",
   "nbconvert_exporter": "python",
   "pygments_lexer": "ipython3",
   "version": "3.11.5"
  }
 },
 "nbformat": 4,
 "nbformat_minor": 2
}
