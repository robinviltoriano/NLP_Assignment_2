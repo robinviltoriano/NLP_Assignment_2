{
   "cells": [
      {
         "cell_type": "code",
         "execution_count": 2,
         "metadata": {},
         "outputs": [],
         "source": [
            "from sentence_transformers import SentenceTransformer\n",
            "from sentence_transformers import CrossEncoder\n",
            "\n",
            "model = SentenceTransformer('msmarco-distilbert-base-dot-prod-v3')\n",
            "cross_model = CrossEncoder('cross-encoder/ms-marco-TinyBERT-L-6', max_length=512)"
         ]
      },
      {
         "cell_type": "code",
         "execution_count": 2,
         "metadata": {},
         "outputs": [],
         "source": [
            "from question import query_answer\n",
            "from langchain_core.messages import HumanMessage\n",
            "from langchain_core.retrievers import BaseRetriever\n",
            "from langchain_core.callbacks import CallbackManagerForRetrieverRun\n",
            "from rag_chain import get_rag_chain"
         ]
      },
      {
         "cell_type": "code",
         "execution_count": 3,
         "metadata": {},
         "outputs": [],
         "source": [
            "query = \"Who is the president of Samsung?\"\n",
            "\n",
            "# context = query_answer(query)\n",
            "context = \"\"\"\n",
            "Lorem ipsum dolor sit amet, consectetur adipiscing elit. Donec sit amet arcu non dolor semper dignissim. Lorem ipsum dolor sit amet, consectetur adipiscing elit. Fusce nec facilisis arcu. Vestibulum ac maximus tortor, at sollicitudin sapien. Fusce ac tortor augue. Proin ac lobortis libero, non rhoncus mi. Integer urna eros, dapibus vel turpis vitae, malesuada auctor dolor.\n",
            "Vivamus a dignissim diam. Orci varius natoque penatibus et magnis dis parturient montes, nascetur ridiculus mus. Mauris rhoncus in nibh quis maximus. In hac habitasse platea dictumst. In vel ipsum tempor mi ultricies molestie vitae ut ante. Nullam velit justo, ullamcorper finibus tempor quis, pellentesque quis lectus. Ut dictum nibh sed diam semper lobortis. Donec vel ipsum commodo, venenatis orci quis, placerat ex. Donec interdum imperdiet mi, ac maximus lacus lacinia id. Vivamus pulvinar aliquam ligula, non tempor nisl facilisis sit amet. Vestibulum tristique, dui id lacinia varius, lacus tortor pellentesque quam, eu convallis erat sapien ut ex. Aenean bibendum enim auctor fermentum efficitur. Lorem ipsum dolor sit amet, consectetur adipiscing elit. Vestibulum pulvinar ligula leo, nec egestas erat bibendum nec.\n",
            "\"\"\""
         ]
      },
      {
         "cell_type": "code",
         "execution_count": 1,
         "metadata": {},
         "outputs": [
            {
               "ename": "ModuleNotFoundError",
               "evalue": "No module named 'langchain'",
               "output_type": "error",
               "traceback": [
                  "\u001b[0;31m---------------------------------------------------------------------------\u001b[0m",
                  "\u001b[0;31mModuleNotFoundError\u001b[0m                       Traceback (most recent call last)",
                  "Cell \u001b[0;32mIn[1], line 1\u001b[0m\n\u001b[0;32m----> 1\u001b[0m \u001b[38;5;28;01mfrom\u001b[39;00m \u001b[38;5;21;01mrag_chain\u001b[39;00m \u001b[38;5;28;01mimport\u001b[39;00m get_rag_chain\n\u001b[1;32m      3\u001b[0m rag_chain \u001b[38;5;241m=\u001b[39m get_rag_chain(query_answer)\n",
                  "File \u001b[0;32m~/Library/CloudStorage/Box-Box/Trimester 1 2024/NLP/NLP_Assignment_2/rag_chain.py:5\u001b[0m\n\u001b[1;32m      3\u001b[0m \u001b[38;5;28;01mfrom\u001b[39;00m \u001b[38;5;21;01mlangchain_community\u001b[39;00m\u001b[38;5;21;01m.\u001b[39;00m\u001b[38;5;21;01mvectorstores\u001b[39;00m\u001b[38;5;21;01m.\u001b[39;00m\u001b[38;5;21;01mfaiss\u001b[39;00m \u001b[38;5;28;01mimport\u001b[39;00m FAISS\n\u001b[1;32m      4\u001b[0m \u001b[38;5;66;03m# from PyPDF2 import PdfReader\u001b[39;00m\n\u001b[0;32m----> 5\u001b[0m \u001b[38;5;28;01mfrom\u001b[39;00m \u001b[38;5;21;01mlangchain\u001b[39;00m\u001b[38;5;21;01m.\u001b[39;00m\u001b[38;5;21;01mtext_splitter\u001b[39;00m \u001b[38;5;28;01mimport\u001b[39;00m CharacterTextSplitter\n\u001b[1;32m      6\u001b[0m \u001b[38;5;28;01mfrom\u001b[39;00m \u001b[38;5;21;01mlangchain\u001b[39;00m\u001b[38;5;21;01m.\u001b[39;00m\u001b[38;5;21;01mmemory\u001b[39;00m \u001b[38;5;28;01mimport\u001b[39;00m ConversationBufferWindowMemory\n\u001b[1;32m      7\u001b[0m \u001b[38;5;28;01mfrom\u001b[39;00m \u001b[38;5;21;01mlangchain\u001b[39;00m\u001b[38;5;21;01m.\u001b[39;00m\u001b[38;5;21;01mchains\u001b[39;00m \u001b[38;5;28;01mimport\u001b[39;00m ConversationChain\n",
                  "\u001b[0;31mModuleNotFoundError\u001b[0m: No module named 'langchain'"
               ]
            },
            {
               "data": {
                  "text/plain": [
                     "[HumanMessage(content='Who is the vice chairman of Samsung?'),\n",
                     " AIMessage(content=\"I don't know.\"),\n",
                     " HumanMessage(content='What is frog?'),\n",
                     " AIMessage(content=\"I don't know.\")]"
                  ]
               },
               "execution_count": 5,
               "metadata": {},
               "output_type": "execute_result"
            }
         ],
         "source": [
            "handle_qa(\"What is frog?\")"
         ]
      },
      {
         "cell_type": "code",
         "execution_count": 6,
         "metadata": {},
         "outputs": [
            {
               "name": "stdout",
               "output_type": "stream",
               "text": [
                  "fffffff What is your name?\n",
                  "query:  What is your name?\n",
                  "Conversation: {'question': 'What do you call yourself', 'chat_history': [HumanMessage(content='Who is the vice chairman of Samsung?'), AIMessage(content=\"I don't know.\"), HumanMessage(content='What is frog?'), AIMessage(content=\"I don't know.\")], 'context': 'Lorem ipsum dolor sit amet, consectetur adipiscing elit, sed do eiusmod tempor incididunt ut labore et dolore magna aliqua. Ut enim ad minim veniam, quis nostrud exercitation ullamco laboris nisi ut aliquip ex ea commodo consequat. Duis aute irure dolor in reprehenderit in voluptate velit esse cillum dolore eu fugiat nulla pariatur. Excepteur sint occaecat cupidatat non proident, sunt in culpa qui officia deserunt mollit anim id est laborum.'}\n"
               ]
            },
            {
               "data": {
                  "text/plain": [
                     "[HumanMessage(content='Who is the vice chairman of Samsung?'),\n",
                     " AIMessage(content=\"I don't know.\"),\n",
                     " HumanMessage(content='What is frog?'),\n",
                     " AIMessage(content=\"I don't know.\"),\n",
                     " HumanMessage(content='What do you call yourself'),\n",
                     " AIMessage(content='I am an AI assistant.')]"
                  ]
               },
               "execution_count": 6,
               "metadata": {},
               "output_type": "execute_result"
            }
         ],
         "source": [
            "handle_qa(\"What do you call yourself\")\n"
         ]
      },
      {
         "cell_type": "code",
         "execution_count": 7,
         "metadata": {},
         "outputs": [
            {
               "name": "stdout",
               "output_type": "stream",
               "text": [
                  "fffffff Who is Donald Trump?\n",
                  "query:  Who is Donald Trump?\n",
                  "Conversation: {'question': 'Who is Donald Trump?', 'chat_history': [HumanMessage(content='Who is the vice chairman of Samsung?'), AIMessage(content=\"I don't know.\"), HumanMessage(content='What is frog?'), AIMessage(content=\"I don't know.\"), HumanMessage(content='What do you call yourself'), AIMessage(content='I am an AI assistant.')], 'context': 'Lorem ipsum dolor sit amet, consectetur adipiscing elit, sed do eiusmod tempor incididunt ut labore et dolore magna aliqua. Ut enim ad minim veniam, quis nostrud exercitation ullamco laboris nisi ut aliquip ex ea commodo consequat. Duis aute irure dolor in reprehenderit in voluptate velit esse cillum dolore eu fugiat nulla pariatur. Excepteur sint occaecat cupidatat non proident, sunt in culpa qui officia deserunt mollit anim id est laborum.'}\n"
               ]
            },
            {
               "data": {
                  "text/plain": [
                     "[HumanMessage(content='Who is the vice chairman of Samsung?'),\n",
                     " AIMessage(content=\"I don't know.\"),\n",
                     " HumanMessage(content='What is frog?'),\n",
                     " AIMessage(content=\"I don't know.\"),\n",
                     " HumanMessage(content='What do you call yourself'),\n",
                     " AIMessage(content='I am an AI assistant.'),\n",
                     " HumanMessage(content='Who is Donald Trump?'),\n",
                     " AIMessage(content=\"I don't know.\")]"
                  ]
               },
               "execution_count": 7,
               "metadata": {},
               "output_type": "execute_result"
            }
         ],
         "source": [
            "handle_qa(\"Who is Donald Trump?\")\n"
         ]
      },
      {
         "cell_type": "code",
         "execution_count": 8,
         "metadata": {},
         "outputs": [
            {
               "name": "stdout",
               "output_type": "stream",
               "text": [
                  "fffffff Why did Jennifer Holliday decide to withdraw from performing at the inauguration concert for Donald Trump?\n",
                  "query:  Why did Jennifer Holliday decide to withdraw from performing at the inauguration concert for Donald Trump?\n",
                  "Conversation: {'question': 'Why did Jennifer Holliday decide to withdraw from performing at the inauguration concert for Donald Trump?', 'chat_history': [HumanMessage(content='Who is the vice chairman of Samsung?'), AIMessage(content=\"I don't know.\"), HumanMessage(content='What is frog?'), AIMessage(content=\"I don't know.\"), HumanMessage(content='What do you call yourself'), AIMessage(content='I am an AI assistant.'), HumanMessage(content='Who is Donald Trump?'), AIMessage(content=\"I don't know.\")], 'context': 'Lorem ipsum dolor sit amet, consectetur adipiscing elit, sed do eiusmod tempor incididunt ut labore et dolore magna aliqua. Ut enim ad minim veniam, quis nostrud exercitation ullamco laboris nisi ut aliquip ex ea commodo consequat. Duis aute irure dolor in reprehenderit in voluptate velit esse cillum dolore eu fugiat nulla pariatur. Excepteur sint occaecat cupidatat non proident, sunt in culpa qui officia deserunt mollit anim id est laborum.'}\n"
               ]
            },
            {
               "data": {
                  "text/plain": [
                     "[HumanMessage(content='Who is the vice chairman of Samsung?'),\n",
                     " AIMessage(content=\"I don't know.\"),\n",
                     " HumanMessage(content='What is frog?'),\n",
                     " AIMessage(content=\"I don't know.\"),\n",
                     " HumanMessage(content='What do you call yourself'),\n",
                     " AIMessage(content='I am an AI assistant.'),\n",
                     " HumanMessage(content='Who is Donald Trump?'),\n",
                     " AIMessage(content=\"I don't know.\"),\n",
                     " HumanMessage(content='Why did Jennifer Holliday decide to withdraw from performing at the inauguration concert for Donald Trump?'),\n",
                     " AIMessage(content=\"I don't know.\")]"
                  ]
               },
               "execution_count": 8,
               "metadata": {},
               "output_type": "execute_result"
            }
         ],
         "source": [
            "handle_qa(\"Why did Jennifer Holliday decide to withdraw from performing at the inauguration concert for Donald Trump?\")"
         ]
      },
      {
         "cell_type": "code",
         "execution_count": null,
         "metadata": {},
         "outputs": [],
         "source": []
      }
   ],
   "metadata": {
      "kernelspec": {
         "display_name": ".venv",
         "language": "python",
         "name": "python3"
      },
      "language_info": {
         "codemirror_mode": {
            "name": "ipython",
            "version": 3
         },
         "file_extension": ".py",
         "mimetype": "text/x-python",
         "name": "python",
         "nbconvert_exporter": "python",
         "pygments_lexer": "ipython3",
         "version": "3.10.12"
      }
   },
   "nbformat": 4,
   "nbformat_minor": 2
}
