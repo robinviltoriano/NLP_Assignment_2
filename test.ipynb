{
 "cells": [
  {
   "cell_type": "code",
   "execution_count": 1,
   "metadata": {},
   "outputs": [],
   "source": [
    "from question import query_answer"
   ]
  },
  {
   "cell_type": "code",
   "execution_count": 2,
   "metadata": {},
   "outputs": [
    {
     "data": {
      "text/html": [
       "<div>\n",
       "<style scoped>\n",
       "    .dataframe tbody tr th:only-of-type {\n",
       "        vertical-align: middle;\n",
       "    }\n",
       "\n",
       "    .dataframe tbody tr th {\n",
       "        vertical-align: top;\n",
       "    }\n",
       "\n",
       "    .dataframe thead th {\n",
       "        text-align: right;\n",
       "    }\n",
       "</style>\n",
       "<table border=\"1\" class=\"dataframe\">\n",
       "  <thead>\n",
       "    <tr style=\"text-align: right;\">\n",
       "      <th></th>\n",
       "      <th>id</th>\n",
       "      <th>article</th>\n",
       "      <th>score</th>\n",
       "    </tr>\n",
       "  </thead>\n",
       "  <tbody>\n",
       "    <tr>\n",
       "      <th>0</th>\n",
       "      <td>175741</td>\n",
       "      <td>SEOUL, South Korea A special prosecutor invest...</td>\n",
       "      <td>0.932384</td>\n",
       "    </tr>\n",
       "    <tr>\n",
       "      <th>1</th>\n",
       "      <td>177641</td>\n",
       "      <td>SEOUL, South Korea A South Korean court on Thu...</td>\n",
       "      <td>0.755741</td>\n",
       "    </tr>\n",
       "    <tr>\n",
       "      <th>2</th>\n",
       "      <td>177642</td>\n",
       "      <td>from state prosecutors last month, has called ...</td>\n",
       "      <td>0.046902</td>\n",
       "    </tr>\n",
       "    <tr>\n",
       "      <th>3</th>\n",
       "      <td>175742</td>\n",
       "      <td>over the investigations from the state prosecu...</td>\n",
       "      <td>0.006561</td>\n",
       "    </tr>\n",
       "    <tr>\n",
       "      <th>4</th>\n",
       "      <td>178513</td>\n",
       "      <td>said Don Rosenberg, a lawyer for Qualcomm. The...</td>\n",
       "      <td>0.001054</td>\n",
       "    </tr>\n",
       "    <tr>\n",
       "      <th>5</th>\n",
       "      <td>176291</td>\n",
       "      <td>LOS ANGELES The chief executive of Sony's unde...</td>\n",
       "      <td>0.000271</td>\n",
       "    </tr>\n",
       "    <tr>\n",
       "      <th>6</th>\n",
       "      <td>173541</td>\n",
       "      <td>The Wall Street lawyer Walter J. Clayton does ...</td>\n",
       "      <td>0.000181</td>\n",
       "    </tr>\n",
       "    <tr>\n",
       "      <th>7</th>\n",
       "      <td>183332</td>\n",
       "      <td>an Android device. More than 46 billion digita...</td>\n",
       "      <td>0.000171</td>\n",
       "    </tr>\n",
       "    <tr>\n",
       "      <th>8</th>\n",
       "      <td>178303</td>\n",
       "      <td>Brothers in trouble, is all over prime time, e...</td>\n",
       "      <td>0.000171</td>\n",
       "    </tr>\n",
       "    <tr>\n",
       "      <th>9</th>\n",
       "      <td>184433</td>\n",
       "      <td>as chairman of his transition months before El...</td>\n",
       "      <td>0.000170</td>\n",
       "    </tr>\n",
       "  </tbody>\n",
       "</table>\n",
       "</div>"
      ],
      "text/plain": [
       "       id                                            article     score\n",
       "0  175741  SEOUL, South Korea A special prosecutor invest...  0.932384\n",
       "1  177641  SEOUL, South Korea A South Korean court on Thu...  0.755741\n",
       "2  177642  from state prosecutors last month, has called ...  0.046902\n",
       "3  175742  over the investigations from the state prosecu...  0.006561\n",
       "4  178513  said Don Rosenberg, a lawyer for Qualcomm. The...  0.001054\n",
       "5  176291  LOS ANGELES The chief executive of Sony's unde...  0.000271\n",
       "6  173541  The Wall Street lawyer Walter J. Clayton does ...  0.000181\n",
       "7  183332  an Android device. More than 46 billion digita...  0.000171\n",
       "8  178303  Brothers in trouble, is all over prime time, e...  0.000171\n",
       "9  184433  as chairman of his transition months before El...  0.000170"
      ]
     },
     "execution_count": 2,
     "metadata": {},
     "output_type": "execute_result"
    }
   ],
   "source": [
    "query = \"Who is the vice chairman of Samsung?\"\n",
    "\n",
    "context = query_answer(query)\n",
    "context"
   ]
  },
  {
   "cell_type": "code",
   "execution_count": 3,
   "metadata": {},
   "outputs": [],
   "source": [
    "import pandas as pd\n",
    "data = pd.DataFrame(context)\n",
    "data.to_csv('article_indexing_result.csv')"
   ]
  }
 ],
 "metadata": {
  "kernelspec": {
   "display_name": ".venv",
   "language": "python",
   "name": "python3"
  },
  "language_info": {
   "codemirror_mode": {
    "name": "ipython",
    "version": 3
   },
   "file_extension": ".py",
   "mimetype": "text/x-python",
   "name": "python",
   "nbconvert_exporter": "python",
   "pygments_lexer": "ipython3",
   "version": "3.10.12"
  }
 },
 "nbformat": 4,
 "nbformat_minor": 2
}
