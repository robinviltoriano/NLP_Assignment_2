{
 "cells": [
  {
   "cell_type": "code",
   "execution_count": 1,
   "metadata": {},
   "outputs": [
    {
     "name": "stderr",
     "output_type": "stream",
     "text": [
      "/media/james/2b44c141-eec6-4c63-a888-30e9ac5660bd/git/NLP_Assignment_2/.venv/lib/python3.10/site-packages/tqdm/auto.py:21: TqdmWarning: IProgress not found. Please update jupyter and ipywidgets. See https://ipywidgets.readthedocs.io/en/stable/user_install.html\n",
      "  from .autonotebook import tqdm as notebook_tqdm\n"
     ]
    }
   ],
   "source": [
    "from question import query_answer\n",
    "from langchain_core.messages import HumanMessage\n",
    "from langchain_core.retrievers import BaseRetriever\n",
    "from langchain_core.callbacks import CallbackManagerForRetrieverRun\n",
    "from rag_chain import get_rag_chain\n",
    "from langchain_community.llms.huggingface_hub import HuggingFaceHub\n"
   ]
  },
  {
   "cell_type": "code",
   "execution_count": 2,
   "metadata": {},
   "outputs": [],
   "source": [
    "class CustomRetriever(BaseRetriever):\n",
    "    \n",
    "    def _get_relevant_documents(\n",
    "        self, query: str, *, run_manager: CallbackManagerForRetrieverRun\n",
    "    ):\n",
    "        return query_answer(query)\n",
    "\n",
    "retriever = CustomRetriever()\n",
    "rag_chain = get_rag_chain(retriever)"
   ]
  },
  {
   "cell_type": "code",
   "execution_count": 3,
   "metadata": {},
   "outputs": [],
   "source": [
    "chat_history = []\n",
    "\n",
    "def handle_qa(query):\n",
    "    ai_msg = rag_chain.invoke({\"question\": query, \"chat_history\": chat_history})\n",
    "    if len(chat_history) >= 10:\n",
    "        chat_history.pop(0)\n",
    "        chat_history.pop(0)\n",
    "    chat_history.extend([HumanMessage(content=query), ai_msg])\n",
    "    return chat_history"
   ]
  },
  {
   "cell_type": "code",
   "execution_count": 4,
   "metadata": {},
   "outputs": [
    {
     "name": "stdout",
     "output_type": "stream",
     "text": [
      "query:  Who is the vice chairman of Samsung?\n",
      "Conversation: {'question': 'Who is the vice chairman of Samsung?', 'chat_history': [], 'context': \"SEOUL, South Korea A special prosecutor investigating the corruption scandal that led to President Park s impeachment summoned the de facto head of Samsung for questioning on Wednesday, calling him a bribery suspect. The de facto leader, Jay Y. Lee, the vice chairman of Samsung, will be questioned on Thursday, according to the special prosecutor's office, which recommended that he also be investigated on suspicion of perjury. Mr. Lee effectively runs Samsung, South Korea's largest conglomerate he is the son of its chairman, Lee who has been incapacitated with health problems. He is expected to be asked whether donations that Samsung made to two foundations controlled by Choi a longtime friend of the president, amounted to bribes, and what role, if any, he played in the decision to give the money. Investigators at the special prosecutor's office have questioned other senior Samsung executives as suspects about the bribery accusations. Neither Samsung nor Mr. Lee responded immediately to the announcement on Wednesday. Allegations that Ms. Park helped Ms. Choi extort millions in bribes from Samsung and other companies are at the heart of the corruption scandal that led to the National Assembly's vote to impeach her last month. Since then, Ms. Park's powers have been suspended, and she is on trial at the Constitutional Court, which will ultimately decide whether to end her presidency. Last month, Mr. Lee testified at a National Assembly hearing that he was not involved in the decision by Samsung to make the donations. He also said that the donations were not voluntary, suggesting that the company was a victim of extortion, not a participant in bribery. The reference on Wednesday to possible perjury charges against Mr. Lee stemmed from that testimony. The special prosecutor's office said it had evidence that Mr. Lee had received a request for bribery from the president and ordered Samsung subsidiaries to send bribes to destinations designated by the president. It asked the National Assembly to file a perjury complaint against Mr. Lee, which would authorize the special prosecutor to open an investigation of that charge. Asked whether investigators would seek to arrest Mr. Lee on bribery charges, a spokesman for the special prosecutor's office, Lee said, All possibilities are open. In November, state prosecutors indicted Ms. Choi on charges of coercing 53 big businesses, including Samsung, to contribute $69 million to her two foundations. They identified Ms. Park as an accomplice but stopped short of filing any charges against the businesses, all of which insisted that they were under government pressure to donate. In its impeachment bill, the National Assembly asserted that the donations were bribes, made with the expectation of political favors from the president. The special prosecutor, which took over the investigations from the state prosecutors last month, has been looking into possible bribery charges against not only Ms. Park but the businesses, particularly Samsung. Ms. Park cannot be indicted while in office. Samsung gave the largest donations to Ms. Choi's foundations, totaling $17 million. Unlike the other corporate SEOUL, South Korea A South Korean court on Thursday blocked a prosecutor's attempt to arrest Jay Y. Lee, the leader of Samsung, saying there was not enough evidence that Mr. Lee had bribed President Park in a scandal that led to her impeachment. A justice on the Central District Court in Seoul, Cho rejected the prosecutor's request to issue an arrest warrant, saying said it was difficult to recognize the need? to incarcerate Mr. Lee. Mr. Lee, a scion and vice chairman of Samsung, one of the world's biggest conglomerates, was immediately released from a detention center outside Seoul, where he had been waiting for the court to decide whether he should be formally arrested. South Koreans have paid keen attention to the fate of Mr. Lee. Some analysts said his case was a test of whether the country's relatively youthful democracy and judicial system are ready to crack down on the crimes of conglomerates. No Samsung leader has ever been jailed, though the company has been investigated many times for corruption. The court's decision is likely to anger many South Koreans who have held weekend rallies calling for Ms. Park's ouster and the arrest of business tycoons on corruption charges. The special prosecutor called the court decision very regrettable. But he has yet to announce whether he will offer more evidence in a renewed effort to have Mr. Lee arrested. He can also indict Mr. Lee on bribery or lesser charges without arresting him. We will take necessary steps and persist in our investigation without wavering, said Lee a spokesman for the special prosecutor, without elaborating. Samsung welcomed the court's decision. For now, the ruling allows Mr. Lee to continue to lead Samsung. It dealt a blow to the special prosecutor who had tried to build a bribery case against Mr. Lee and Ms. Park. Mr. Lee's father has twice been convicted of bribery and tax evasion but has never spent a day in prison. Each time, he received a presidential pardon and returned to management. Mr. Lee, 48, was accused of paying $36 million to Ms. Park's secretive confidante, Choi . The special prosecutor and Mr. Lee's lawyers have been arguing over how to characterize the money. In November, state prosecutors indicted Ms. Choi on extortion charges, saying she leveraged her connections with Ms. Park to coerce Samsung and scores of other big businesses to contribute tens of millions of dollars to two foundations Ms. Choi controlled or to companies run by her or her associates. They identified Ms. Park as an accomplice, but they brought no charges against the businesses, which they saw as victims of extortion. But the special prosecutor, Park who took over the investigation from state prosecutors last month, has called Samsung's contributions bribes that were exchanged for political favors from Ms. Park. That includes government support for a merger of two Samsung affiliates in 2015, which helped Mr. Lee inherit corporate control from his incapacitated father, the chairman, Lee according to the prosecutor. said Don Rosenberg, a lawyer for Qualcomm. The regulators, he said, were prodded and misled by commercial interests. In an email, Jee, a spokeswoman for Samsung, said it was one of many multinational corporations? that responded to questions from South Korean regulators. Qualcomm's lawyer figures the Korean case may take years to move through the courts. And recent events, including the impeachment of South Korea's president and a bribery scandal at Samsung, could complicate, or eliminate, Qualcomm's regulatory issues there. Additionally, the F. T. C. has just three of its normal five commissioners. One of those, Maureen Ohlhausen, a Republican, voted against the suit. She may be named chairwoman when the current chairwoman, Edith Ramirez, a Democrat, steps down on Feb. 10. Neither the F. T. C. nor Apple would comment on the United States case against Qualcomm. It's disappointing when our partners want to pay less after we've contributed to their success, said Derek Aberle, Qualcomm's president. Now it must get out ahead of other technology inventors in 5G, possibly while paying billions in fines and dealing with a painful restructuring and fraying relationships with its biggest customers. We're not sitting still? while the problems are sorted, Mr. Aberle said. You have to invest, and invent cool stuff that will change the way people live their lives. In other words, create unique technology so people will keep paying for Qualcomm's expensive intellectual property. \"}\n"
     ]
    },
    {
     "data": {
      "text/plain": [
       "[HumanMessage(content='Who is the vice chairman of Samsung?'),\n",
       " AIMessage(content='The vice chairman of Samsung is Jay Y. Lee.')]"
      ]
     },
     "execution_count": 4,
     "metadata": {},
     "output_type": "execute_result"
    }
   ],
   "source": [
    "handle_qa('Who is the vice chairman of Samsung?')"
   ]
  },
  {
   "cell_type": "code",
   "execution_count": 5,
   "metadata": {},
   "outputs": [
    {
     "name": "stdout",
     "output_type": "stream",
     "text": [
      "Who is the vice chairman of Samsung?\n",
      "The vice chairman of Samsung is Jay Y. Lee.\n"
     ]
    }
   ],
   "source": [
    "for mess in chat_history:\n",
    "    print(mess.content)"
   ]
  },
  {
   "cell_type": "code",
   "execution_count": null,
   "metadata": {},
   "outputs": [],
   "source": []
  }
 ],
 "metadata": {
  "kernelspec": {
   "display_name": ".venv",
   "language": "python",
   "name": "python3"
  },
  "language_info": {
   "codemirror_mode": {
    "name": "ipython",
    "version": 3
   },
   "file_extension": ".py",
   "mimetype": "text/x-python",
   "name": "python",
   "nbconvert_exporter": "python",
   "pygments_lexer": "ipython3",
   "version": "3.10.12"
  }
 },
 "nbformat": 4,
 "nbformat_minor": 2
}
