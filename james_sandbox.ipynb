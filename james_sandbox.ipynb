{
 "cells": [
  {
   "cell_type": "code",
   "execution_count": 1,
   "metadata": {},
   "outputs": [
    {
     "name": "stderr",
     "output_type": "stream",
     "text": [
      "/media/james/2b44c141-eec6-4c63-a888-30e9ac5660bd/git/NLP_Assignment_2/.venv/lib/python3.10/site-packages/tqdm/auto.py:21: TqdmWarning: IProgress not found. Please update jupyter and ipywidgets. See https://ipywidgets.readthedocs.io/en/stable/user_install.html\n",
      "  from .autonotebook import tqdm as notebook_tqdm\n"
     ]
    }
   ],
   "source": [
    "from question import query_answer\n",
    "from langchain_core.messages import HumanMessage\n",
    "from langchain_core.retrievers import BaseRetriever\n",
    "from langchain_core.callbacks import CallbackManagerForRetrieverRun\n",
    "from rag_chain import get_rag_chain"
   ]
  },
  {
   "cell_type": "code",
   "execution_count": 2,
   "metadata": {},
   "outputs": [],
   "source": [
    "class CustomRetriever(BaseRetriever):\n",
    "    \n",
    "    def _get_relevant_documents(\n",
    "        self, query: str, *, run_manager: CallbackManagerForRetrieverRun\n",
    "    ):\n",
    "        return query_answer(query)\n",
    "\n",
    "retriever = CustomRetriever()\n",
    "rag_chain = get_rag_chain(retriever)"
   ]
  },
  {
   "cell_type": "code",
   "execution_count": 3,
   "metadata": {},
   "outputs": [],
   "source": [
    "chat_history = []\n",
    "\n",
    "def handle_qa(query):\n",
    "    ai_msg = rag_chain.invoke({\"question\": query, \"chat_history\": chat_history})\n",
    "    if len(chat_history) >= 10:\n",
    "        chat_history.pop(0)\n",
    "        chat_history.pop(0)\n",
    "    chat_history.extend([HumanMessage(content=query), ai_msg])\n",
    "    return chat_history"
   ]
  },
  {
   "cell_type": "code",
   "execution_count": 4,
   "metadata": {},
   "outputs": [
    {
     "name": "stdout",
     "output_type": "stream",
     "text": [
      "fffffff Who is the vice chairman of Samsung?\n",
      "query:  Who is the vice chairman of Samsung?\n",
      "Conversation: {'question': 'Who is the vice chairman of Samsung?', 'chat_history': [], 'context': 'Lorem ipsum dolor sit amet, consectetur adipiscing elit, sed do eiusmod tempor incididunt ut labore et dolore magna aliqua. Ut enim ad minim veniam, quis nostrud exercitation ullamco laboris nisi ut aliquip ex ea commodo consequat. Duis aute irure dolor in reprehenderit in voluptate velit esse cillum dolore eu fugiat nulla pariatur. Excepteur sint occaecat cupidatat non proident, sunt in culpa qui officia deserunt mollit anim id est laborum.'}\n"
     ]
    },
    {
     "data": {
      "text/plain": [
       "[HumanMessage(content='Who is the vice chairman of Samsung?'),\n",
       " AIMessage(content=\"I don't know.\")]"
      ]
     },
     "execution_count": 4,
     "metadata": {},
     "output_type": "execute_result"
    }
   ],
   "source": [
    "handle_qa('Who is the vice chairman of Samsung?')"
   ]
  },
  {
   "cell_type": "code",
   "execution_count": 5,
   "metadata": {},
   "outputs": [
    {
     "name": "stdout",
     "output_type": "stream",
     "text": [
      "fffffff What is a frog?\n",
      "query:  What is a frog?\n",
      "Conversation: {'question': 'What is frog?', 'chat_history': [HumanMessage(content='Who is the vice chairman of Samsung?'), AIMessage(content=\"I don't know.\")], 'context': 'Lorem ipsum dolor sit amet, consectetur adipiscing elit, sed do eiusmod tempor incididunt ut labore et dolore magna aliqua. Ut enim ad minim veniam, quis nostrud exercitation ullamco laboris nisi ut aliquip ex ea commodo consequat. Duis aute irure dolor in reprehenderit in voluptate velit esse cillum dolore eu fugiat nulla pariatur. Excepteur sint occaecat cupidatat non proident, sunt in culpa qui officia deserunt mollit anim id est laborum.'}\n"
     ]
    },
    {
     "data": {
      "text/plain": [
       "[HumanMessage(content='Who is the vice chairman of Samsung?'),\n",
       " AIMessage(content=\"I don't know.\"),\n",
       " HumanMessage(content='What is frog?'),\n",
       " AIMessage(content=\"I don't know.\")]"
      ]
     },
     "execution_count": 5,
     "metadata": {},
     "output_type": "execute_result"
    }
   ],
   "source": [
    "handle_qa(\"What is frog?\")"
   ]
  },
  {
   "cell_type": "code",
   "execution_count": 6,
   "metadata": {},
   "outputs": [
    {
     "name": "stdout",
     "output_type": "stream",
     "text": [
      "fffffff What is your name?\n",
      "query:  What is your name?\n",
      "Conversation: {'question': 'What do you call yourself', 'chat_history': [HumanMessage(content='Who is the vice chairman of Samsung?'), AIMessage(content=\"I don't know.\"), HumanMessage(content='What is frog?'), AIMessage(content=\"I don't know.\")], 'context': 'Lorem ipsum dolor sit amet, consectetur adipiscing elit, sed do eiusmod tempor incididunt ut labore et dolore magna aliqua. Ut enim ad minim veniam, quis nostrud exercitation ullamco laboris nisi ut aliquip ex ea commodo consequat. Duis aute irure dolor in reprehenderit in voluptate velit esse cillum dolore eu fugiat nulla pariatur. Excepteur sint occaecat cupidatat non proident, sunt in culpa qui officia deserunt mollit anim id est laborum.'}\n"
     ]
    },
    {
     "data": {
      "text/plain": [
       "[HumanMessage(content='Who is the vice chairman of Samsung?'),\n",
       " AIMessage(content=\"I don't know.\"),\n",
       " HumanMessage(content='What is frog?'),\n",
       " AIMessage(content=\"I don't know.\"),\n",
       " HumanMessage(content='What do you call yourself'),\n",
       " AIMessage(content='I am an AI assistant.')]"
      ]
     },
     "execution_count": 6,
     "metadata": {},
     "output_type": "execute_result"
    }
   ],
   "source": [
    "handle_qa(\"What do you call yourself\")\n"
   ]
  },
  {
   "cell_type": "code",
   "execution_count": 7,
   "metadata": {},
   "outputs": [
    {
     "name": "stdout",
     "output_type": "stream",
     "text": [
      "fffffff I don't know.\n",
      "query:  I don't know.\n",
      "Conversation: {'question': 'Who is Donald Trump?', 'chat_history': [HumanMessage(content='Who is the vice chairman of Samsung?'), AIMessage(content=\"I don't know.\"), HumanMessage(content='What is frog?'), AIMessage(content=\"I don't know.\"), HumanMessage(content='What do you call yourself'), AIMessage(content='I am an AI assistant.')], 'context': 'Lorem ipsum dolor sit amet, consectetur adipiscing elit, sed do eiusmod tempor incididunt ut labore et dolore magna aliqua. Ut enim ad minim veniam, quis nostrud exercitation ullamco laboris nisi ut aliquip ex ea commodo consequat. Duis aute irure dolor in reprehenderit in voluptate velit esse cillum dolore eu fugiat nulla pariatur. Excepteur sint occaecat cupidatat non proident, sunt in culpa qui officia deserunt mollit anim id est laborum.'}\n"
     ]
    },
    {
     "data": {
      "text/plain": [
       "[HumanMessage(content='Who is the vice chairman of Samsung?'),\n",
       " AIMessage(content=\"I don't know.\"),\n",
       " HumanMessage(content='What is frog?'),\n",
       " AIMessage(content=\"I don't know.\"),\n",
       " HumanMessage(content='What do you call yourself'),\n",
       " AIMessage(content='I am an AI assistant.'),\n",
       " HumanMessage(content='Who is Donald Trump?'),\n",
       " AIMessage(content=\"I don't know.\")]"
      ]
     },
     "execution_count": 7,
     "metadata": {},
     "output_type": "execute_result"
    }
   ],
   "source": [
    "handle_qa(\"Who is Donald Trump?\")\n"
   ]
  },
  {
   "cell_type": "code",
   "execution_count": 8,
   "metadata": {},
   "outputs": [
    {
     "name": "stdout",
     "output_type": "stream",
     "text": [
      "fffffff Why did Jennifer Holliday withdraw from performing at the inauguration concert for Donald Trump?\n",
      "query:  Why did Jennifer Holliday withdraw from performing at the inauguration concert for Donald Trump?\n",
      "Conversation: {'question': 'Why did Jennifer Holliday decide to withdraw from performing at the inauguration concert for Donald Trump?', 'chat_history': [HumanMessage(content='Who is the vice chairman of Samsung?'), AIMessage(content=\"I don't know.\"), HumanMessage(content='What is frog?'), AIMessage(content=\"I don't know.\"), HumanMessage(content='What do you call yourself'), AIMessage(content='I am an AI assistant.'), HumanMessage(content='Who is Donald Trump?'), AIMessage(content=\"I don't know.\")], 'context': 'Lorem ipsum dolor sit amet, consectetur adipiscing elit, sed do eiusmod tempor incididunt ut labore et dolore magna aliqua. Ut enim ad minim veniam, quis nostrud exercitation ullamco laboris nisi ut aliquip ex ea commodo consequat. Duis aute irure dolor in reprehenderit in voluptate velit esse cillum dolore eu fugiat nulla pariatur. Excepteur sint occaecat cupidatat non proident, sunt in culpa qui officia deserunt mollit anim id est laborum.'}\n"
     ]
    },
    {
     "data": {
      "text/plain": [
       "[HumanMessage(content='Who is the vice chairman of Samsung?'),\n",
       " AIMessage(content=\"I don't know.\"),\n",
       " HumanMessage(content='What is frog?'),\n",
       " AIMessage(content=\"I don't know.\"),\n",
       " HumanMessage(content='What do you call yourself'),\n",
       " AIMessage(content='I am an AI assistant.'),\n",
       " HumanMessage(content='Who is Donald Trump?'),\n",
       " AIMessage(content=\"I don't know.\"),\n",
       " HumanMessage(content='Why did Jennifer Holliday decide to withdraw from performing at the inauguration concert for Donald Trump?'),\n",
       " AIMessage(content=\"I don't know.\")]"
      ]
     },
     "execution_count": 8,
     "metadata": {},
     "output_type": "execute_result"
    }
   ],
   "source": [
    "handle_qa(\"Why did Jennifer Holliday decide to withdraw from performing at the inauguration concert for Donald Trump?\")"
   ]
  },
  {
   "cell_type": "code",
   "execution_count": null,
   "metadata": {},
   "outputs": [],
   "source": []
  }
 ],
 "metadata": {
  "kernelspec": {
   "display_name": ".venv",
   "language": "python",
   "name": "python3"
  },
  "language_info": {
   "codemirror_mode": {
    "name": "ipython",
    "version": 3
   },
   "file_extension": ".py",
   "mimetype": "text/x-python",
   "name": "python",
   "nbconvert_exporter": "python",
   "pygments_lexer": "ipython3",
   "version": "3.10.12"
  }
 },
 "nbformat": 4,
 "nbformat_minor": 2
}
