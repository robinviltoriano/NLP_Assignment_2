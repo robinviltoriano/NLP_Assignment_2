{
 "cells": [
  {
   "cell_type": "markdown",
   "metadata": {},
   "source": [
    "# Loading the model\n",
    "testing on simple QA"
   ]
  },
  {
   "cell_type": "code",
   "execution_count": 1,
   "metadata": {},
   "outputs": [
    {
     "name": "stderr",
     "output_type": "stream",
     "text": [
      "/Users/robinviltoriano/Library/CloudStorage/Box-Box/Trimester 1 2024/NLP/NLP_Assignment_2/nlp_assignment_2/lib/python3.11/site-packages/tqdm/auto.py:21: TqdmWarning: IProgress not found. Please update jupyter and ipywidgets. See https://ipywidgets.readthedocs.io/en/stable/user_install.html\n",
      "  from .autonotebook import tqdm as notebook_tqdm\n"
     ]
    }
   ],
   "source": [
    "from transformers import pipeline\n",
    "\n",
    "# Replace this with your own checkpoint\n",
    "model_checkpoint = \"huggingface-course/bert-finetuned-squad\"\n",
    "question_answerer = pipeline(\"question-answering\", model=model_checkpoint)"
   ]
  },
  {
   "cell_type": "code",
   "execution_count": 2,
   "metadata": {},
   "outputs": [
    {
     "data": {
      "text/plain": [
       "{'score': 0.9978998899459839,\n",
       " 'start': 78,\n",
       " 'end': 105,\n",
       " 'answer': 'Jax, PyTorch and TensorFlow'}"
      ]
     },
     "execution_count": 2,
     "metadata": {},
     "output_type": "execute_result"
    }
   ],
   "source": [
    "context = \"\"\"\n",
    "🤗 Transformers is backed by the three most popular deep learning libraries — Jax, PyTorch and TensorFlow — with a seamless integration\n",
    "between them. It's straightforward to train your models with one before loading them for inference with the other.\n",
    "\"\"\"\n",
    "question = \"Which deep learning libraries back 🤗 Transformers?\"\n",
    "question_answerer(question=question, context=context)"
   ]
  },
  {
   "cell_type": "code",
   "execution_count": 15,
   "metadata": {},
   "outputs": [
    {
     "data": {
      "text/plain": [
       "{'score': 0.9920369386672974, 'start': 53, 'end': 60, 'answer': 'Jakarta'}"
      ]
     },
     "execution_count": 15,
     "metadata": {},
     "output_type": "execute_result"
    }
   ],
   "source": [
    "context = \"\"\"\n",
    "Indonesia is a big country, it has a lot of island. Jakarta, the capital city, located in Java island.\n",
    "\"\"\"\n",
    "question = \"What is the capital city of Indonesia?\"\n",
    "question_answerer(question=question, context=context)"
   ]
  },
  {
   "cell_type": "markdown",
   "metadata": {},
   "source": [
    "# Testing on the Data"
   ]
  },
  {
   "cell_type": "code",
   "execution_count": 2,
   "metadata": {},
   "outputs": [],
   "source": [
    "import pandas as pd\n",
    "import pprint\n",
    "from utils import *"
   ]
  },
  {
   "cell_type": "code",
   "execution_count": 3,
   "metadata": {},
   "outputs": [
    {
     "data": {
      "text/html": [
       "<div>\n",
       "<style scoped>\n",
       "    .dataframe tbody tr th:only-of-type {\n",
       "        vertical-align: middle;\n",
       "    }\n",
       "\n",
       "    .dataframe tbody tr th {\n",
       "        vertical-align: top;\n",
       "    }\n",
       "\n",
       "    .dataframe thead th {\n",
       "        text-align: right;\n",
       "    }\n",
       "</style>\n",
       "<table border=\"1\" class=\"dataframe\">\n",
       "  <thead>\n",
       "    <tr style=\"text-align: right;\">\n",
       "      <th></th>\n",
       "      <th>id</th>\n",
       "      <th>author</th>\n",
       "      <th>date</th>\n",
       "      <th>year</th>\n",
       "      <th>month</th>\n",
       "      <th>topic</th>\n",
       "      <th>article</th>\n",
       "    </tr>\n",
       "  </thead>\n",
       "  <tbody>\n",
       "    <tr>\n",
       "      <th>0</th>\n",
       "      <td>17307</td>\n",
       "      <td>Marlise Simons</td>\n",
       "      <td>1/01/2017</td>\n",
       "      <td>2017</td>\n",
       "      <td>1</td>\n",
       "      <td>architecture</td>\n",
       "      <td>PARIS  ?   When the Islamic State was about to...</td>\n",
       "    </tr>\n",
       "    <tr>\n",
       "      <th>1</th>\n",
       "      <td>17292</td>\n",
       "      <td>Andy Newman</td>\n",
       "      <td>31/12/2016</td>\n",
       "      <td>2016</td>\n",
       "      <td>12</td>\n",
       "      <td>art</td>\n",
       "      <td>Angels are everywhere in the Mu?iz family?s ap...</td>\n",
       "    </tr>\n",
       "    <tr>\n",
       "      <th>2</th>\n",
       "      <td>17298</td>\n",
       "      <td>Emma G. Fitzsimmons</td>\n",
       "      <td>2/01/2017</td>\n",
       "      <td>2017</td>\n",
       "      <td>1</td>\n",
       "      <td>business</td>\n",
       "      <td>Finally. The Second Avenue subway opened in Ne...</td>\n",
       "    </tr>\n",
       "    <tr>\n",
       "      <th>3</th>\n",
       "      <td>17311</td>\n",
       "      <td>Carl Hulse</td>\n",
       "      <td>3/01/2017</td>\n",
       "      <td>2017</td>\n",
       "      <td>1</td>\n",
       "      <td>business</td>\n",
       "      <td>WASHINGTON  ?   It?s   or   time for Republica...</td>\n",
       "    </tr>\n",
       "    <tr>\n",
       "      <th>4</th>\n",
       "      <td>17339</td>\n",
       "      <td>Jim Rutenberg</td>\n",
       "      <td>5/01/2017</td>\n",
       "      <td>2017</td>\n",
       "      <td>1</td>\n",
       "      <td>business</td>\n",
       "      <td>For Megyn Kelly, the shift from Fox News to NB...</td>\n",
       "    </tr>\n",
       "  </tbody>\n",
       "</table>\n",
       "</div>"
      ],
      "text/plain": [
       "      id               author        date  year month         topic  \\\n",
       "0  17307       Marlise Simons   1/01/2017  2017     1  architecture   \n",
       "1  17292          Andy Newman  31/12/2016  2016    12           art   \n",
       "2  17298  Emma G. Fitzsimmons   2/01/2017  2017     1      business   \n",
       "3  17311           Carl Hulse   3/01/2017  2017     1      business   \n",
       "4  17339        Jim Rutenberg   5/01/2017  2017     1      business   \n",
       "\n",
       "                                             article  \n",
       "0  PARIS  ?   When the Islamic State was about to...  \n",
       "1  Angels are everywhere in the Mu?iz family?s ap...  \n",
       "2  Finally. The Second Avenue subway opened in Ne...  \n",
       "3  WASHINGTON  ?   It?s   or   time for Republica...  \n",
       "4  For Megyn Kelly, the shift from Fox News to NB...  "
      ]
     },
     "execution_count": 3,
     "metadata": {},
     "output_type": "execute_result"
    }
   ],
   "source": [
    "df = pd.read_csv('news_dataset.csv', encoding='iso-8859-1')\n",
    "df.head()"
   ]
  },
  {
   "cell_type": "code",
   "execution_count": 9,
   "metadata": {},
   "outputs": [
    {
     "name": "stdout",
     "output_type": "stream",
     "text": [
      "(\"WASHINGTON It's or time for Republicans. After a tumultuous decade that has \"\n",
      " 'seen profound changes in the makeup and character of their party, '\n",
      " 'Republicans are poised to complete their slow but steady climb back to power '\n",
      " 'as they seize control of the House, Senate and the White House for the first '\n",
      " 'time since 2006. That political triad will leave them with a splendid '\n",
      " 'opportunity for success. But there is little room for failure if they hope '\n",
      " 'to satisfy their impatient constituents and deliver on bold promises to '\n",
      " \"reshape the nation's health care delivery system, restructure the tax code, \"\n",
      " 'drive job creation, muscle up American foreign policy, rebuild a crumbling '\n",
      " 'infrastructure and set America on a new course. Republicans who will take '\n",
      " 'command of the Senate and House as the 115th Congress convenes on Tuesday '\n",
      " 'have long been itching for a chance to do it their way, constantly grousing '\n",
      " 'that President Obama and Congressional Democrats held back American progress '\n",
      " 'and economic growth. Now they must show they can deliver. And they know it. '\n",
      " 'When you have both houses and the presidency, there is no acceptable excuse '\n",
      " 'for not passing major legislation, said Representative Tom Cole, a senior '\n",
      " 'Republican from Oklahoma. There is a lot of pressure on Republican members '\n",
      " 'to produce and to produce quickly. That will not be easy. There is a mutual '\n",
      " 'wariness between many Republicans in Congress and Donald J. Trump, leaving '\n",
      " 'it unclear how often their interests and priorities will coalesce or '\n",
      " 'collide. Some of the biggest fights might well be between Republicans on '\n",
      " 'Capitol Hill and the White House occupied by a man who campaigned against '\n",
      " 'the establishment and some of the very Republicans running Congress. '\n",
      " 'Republicans must also maneuver while facing slightly expanded Democratic '\n",
      " 'minorities in the House and Senate, in a climate that is, in many respects, '\n",
      " 'even more hostile than it was before the November elections. Democrats '\n",
      " 'remain angry at how Republicans treated President Obama, including their '\n",
      " 'refusal to consider the nomination of federal Judge Merrick B. Garland to '\n",
      " 'the United States Supreme Court. Democrats want payback for the cold '\n",
      " \"shoulder given to Mr. Garland's nomination to satisfy themselves and to show \"\n",
      " 'their supporters that they are not going to roll over for the new Republican '\n",
      " 'government. While they cannot employ the filibuster to block most '\n",
      " 'nominations, they still retain it for Supreme Court picks and legislation at '\n",
      " 'least for now. Perhaps most important, Republicans themselves are going to '\n",
      " 'need something of an attitude adjustment. The contemporary Republican Party '\n",
      " 'has been built out of fierce opposition to Mr. Obama and deep disdain for '\n",
      " 'activist government. Nearly of current House Republicans have never served '\n",
      " 'with a Republican president and their entire time in Washington has been '\n",
      " 'spent fighting the executive branch. As a result, Republicans have had the '\n",
      " 'luxury of being able to argue for positions that appealed to their '\n",
      " 'conservative base but that they knew would not become law because Senate '\n",
      " 'Democrats would block them or because the president would veto them. Now, if '\n",
      " 'they can assemble the votes, their ideas will become law with all the '\n",
      " 'attendant consequences. Republicans who have shied from the responsibility '\n",
      " 'of government will now be called upon to support increases in the debt '\n",
      " 'limit, approve annual budgets, endorse spending bills and back other '\n",
      " 'measures that they formerly left to the Democrats and some of their more '\n",
      " 'compromising colleagues. With Democrats unlikely to help on many of those '\n",
      " 'votes after being castigated for them by Republicans, the Republicans who '\n",
      " 'belonged to the vote no, hope yes? caucus when it came to critical '\n",
      " 'legislation in recent years now will have to vote yes and hope things go '\n",
      " \"well. This isn't the same style of Republican majority pushed from power \"\n",
      " 'after being routed in the 2006 midterm elections after the public backlash '\n",
      " 'to the administration of President George W. Bush and his handling of the '\n",
      " 'war in Iraq. Forged by the Tea Party revolt that restored Republicans to '\n",
      " 'control of the House in the 2010 elections, and in the Senate in 2014, this '\n",
      " 'party is much more conservative with a membership that tends to see '\n",
      " 'government as an impediment to be leveled, not as a force to be shaped to '\n",
      " 'their views to the benefit of their constituents. Eight years of railing '\n",
      " 'against the Obama administration has infused them and their constituents '\n",
      " 'with a hostility and disregard for the government that Republicans must now '\n",
      " 'lead rather than ridicule. Tensions could arise between House and Senate '\n",
      " 'Republicans as well. When the Newt party took over the House in 1995 for the '\n",
      " 'first time in four decades, newly empowered Republicans sent a raft of '\n",
      " 'legislation to the Senate, only to see it stall there. With President Bill '\n",
      " 'Clinton in the White House at the time, Republicans knew much of it would '\n",
      " 'not be enacted. Now, with Mr. Trump soon to occupy the Oval Office, it is '\n",
      " 'unlikely that House Republicans will be willing to watch Democrats bottle up '\n",
      " 'legislation in the Senate. Demands that their Senate counterparts eliminate '\n",
      " 'the filibuster could mount quickly. While they understand the challenges, '\n",
      " 'Republicans are nonetheless jubilant at their enviable position. A '\n",
      " 'Republican in the White House and a Republican majority in Congress present '\n",
      " 'tremendous opportunity to make real progress, Senator Cory Gardner, '\n",
      " \"Republican of Colorado, said in the party's weekly radio address on \"\n",
      " \"Saturday. We assume that responsibility with the promise that we'll work \"\n",
      " 'hard to do everything that we can to deliver more opportunities to Americans '\n",
      " 'tomorrow than they have today. I am pretty giddy, said Mr. Cole as he looked '\n",
      " 'ahead. Republicans have won their chance. Now it is time to see what they '\n",
      " 'can do with it.')\n"
     ]
    }
   ],
   "source": [
    "i = 3\n",
    "passage = clean_text(df.article.iloc[i])\n",
    "pprint.pprint(passage)"
   ]
  },
  {
   "cell_type": "code",
   "execution_count": 8,
   "metadata": {},
   "outputs": [
    {
     "data": {
      "text/plain": [
       "False"
      ]
     },
     "execution_count": 8,
     "metadata": {},
     "output_type": "execute_result"
    }
   ],
   "source": [
    "'1904' in passage"
   ]
  },
  {
   "cell_type": "code",
   "execution_count": 22,
   "metadata": {},
   "outputs": [
    {
     "data": {
      "text/plain": [
       "{'score': 0.9971815347671509, 'start': 61, 'end': 67, 'answer': 'Sunday'}"
      ]
     },
     "execution_count": 22,
     "metadata": {},
     "output_type": "execute_result"
    }
   ],
   "source": [
    "question = 'When did the Second Avenue subway open?'\n",
    "\"\"\"\n",
    "Answer:\n",
    "The Second Avenue subway opened in New York City on Sunday\n",
    "\"\"\"\n",
    "question_answerer(question=question, context=passage)"
   ]
  },
  {
   "cell_type": "code",
   "execution_count": 24,
   "metadata": {},
   "outputs": [
    {
     "data": {
      "text/plain": [
       "{'score': 0.6189155578613281, 'start': 728, 'end': 733, 'answer': 'three'}"
      ]
     },
     "execution_count": 24,
     "metadata": {},
     "output_type": "execute_result"
    }
   ],
   "source": [
    "question2 = 'How many subway station did the city open?'\n",
    "\"\"\"\n",
    "Answer:\n",
    "With the opening, the map of the city's loved and loathed subway adds three new stations\n",
    "\"\"\"\n",
    "question_answerer(question=question2, context=passage)\n"
   ]
  },
  {
   "cell_type": "markdown",
   "metadata": {},
   "source": [
    "The answer is correct"
   ]
  },
  {
   "cell_type": "code",
   "execution_count": 30,
   "metadata": {},
   "outputs": [
    {
     "data": {
      "text/plain": [
       "{'score': 0.984620213508606, 'start': 61, 'end': 67, 'answer': 'Sunday'}"
      ]
     },
     "execution_count": 30,
     "metadata": {},
     "output_type": "execute_result"
    }
   ],
   "source": [
    "question3 = 'When did the Second Avenue subway open and how many subway station did the city open?'\n",
    "\"\"\"\n",
    "Answer:\n",
    "Sunday and three\n",
    "\"\"\"\n",
    "question_answerer(question=question3, context=passage)\n"
   ]
  },
  {
   "cell_type": "code",
   "execution_count": 31,
   "metadata": {},
   "outputs": [
    {
     "data": {
      "text/plain": [
       "{'score': 0.9407651424407959, 'start': 61, 'end': 67, 'answer': 'Sunday'}"
      ]
     },
     "execution_count": 31,
     "metadata": {},
     "output_type": "execute_result"
    }
   ],
   "source": [
    "question3 = 'How many subway station did the city open and when did the Second Avenue subway open?'\n",
    "\"\"\"\n",
    "Answer:\n",
    "Sunday and three\n",
    "\"\"\"\n",
    "question_answerer(question=question3, context=passage)\n"
   ]
  },
  {
   "cell_type": "code",
   "execution_count": 32,
   "metadata": {},
   "outputs": [
    {
     "data": {
      "text/plain": [
       "{'score': 0.08172976970672607, 'start': 6025, 'end': 6032, 'answer': '3 p. m.'}"
      ]
     },
     "execution_count": 32,
     "metadata": {},
     "output_type": "execute_result"
    }
   ],
   "source": [
    "question4 = 'When did the delay of the Q line happend and what caused the the delay of the of the Q line?'\n",
    "\"\"\"\n",
    "Answer:\n",
    "Around 3 p. m. there were delays on the Q line because of a train with mechanical problems at the City Hall station\n",
    "\"\"\"\n",
    "question_answerer(question=question4, context=passage)\n"
   ]
  },
  {
   "cell_type": "markdown",
   "metadata": {},
   "source": [
    "Can't answer 2 questions at a time"
   ]
  },
  {
   "cell_type": "code",
   "execution_count": 1,
   "metadata": {},
   "outputs": [
    {
     "ename": "NameError",
     "evalue": "name 'question_answerer' is not defined",
     "output_type": "error",
     "traceback": [
      "\u001b[0;31m---------------------------------------------------------------------------\u001b[0m",
      "\u001b[0;31mNameError\u001b[0m                                 Traceback (most recent call last)",
      "Cell \u001b[0;32mIn[1], line 1\u001b[0m\n\u001b[0;32m----> 1\u001b[0m \u001b[43mquestion_answerer\u001b[49m(question\u001b[38;5;241m=\u001b[39m\u001b[38;5;124m'\u001b[39m\u001b[38;5;124mwho is frog?\u001b[39m\u001b[38;5;124m'\u001b[39m, context\u001b[38;5;241m=\u001b[39mpassage)\n",
      "\u001b[0;31mNameError\u001b[0m: name 'question_answerer' is not defined"
     ]
    }
   ],
   "source": [
    "question_answerer(question='who is frog?', context=passage)"
   ]
  },
  {
   "cell_type": "markdown",
   "metadata": {},
   "source": [
    "As we can see, the model still produced an answere, however the score is low."
   ]
  },
  {
   "cell_type": "code",
   "execution_count": 38,
   "metadata": {},
   "outputs": [
    {
     "data": {
      "text/plain": [
       "{'score': 0.5348999500274658,\n",
       " 'start': 770,\n",
       " 'end': 782,\n",
       " 'answer': 'Betsy Morris'}"
      ]
     },
     "execution_count": 38,
     "metadata": {},
     "output_type": "execute_result"
    }
   ],
   "source": [
    "question5 = 'who was standing with her mother?'\n",
    "\"\"\"\n",
    "Answer:\n",
    "the younger Ms. Tallmer said while standing with her mother, a lifelong New Yorker who is in a wheelchair.\n",
    "\"\"\"\n",
    "question_answerer(question=question5, context=passage)"
   ]
  },
  {
   "cell_type": "markdown",
   "metadata": {},
   "source": [
    "wrong answer"
   ]
  },
  {
   "cell_type": "code",
   "execution_count": 45,
   "metadata": {},
   "outputs": [
    {
     "data": {
      "text/plain": [
       "{'score': 0.9335105419158936, 'start': 7466, 'end': 7472, 'answer': 'Ian Ma'}"
      ]
     },
     "execution_count": 45,
     "metadata": {},
     "output_type": "execute_result"
    }
   ],
   "source": [
    "question6 = 'who lives in Sheepshead Bay?'\n",
    "\"\"\"\n",
    "Answer:\n",
    "Another celebrant, Ian Ma, 15, lives in Sheepshead Bay\n",
    "\"\"\"\n",
    "question_answerer(question=question6, context=passage)"
   ]
  },
  {
   "cell_type": "markdown",
   "metadata": {},
   "source": [
    "Could answer the context from the last paragraph"
   ]
  },
  {
   "cell_type": "code",
   "execution_count": null,
   "metadata": {},
   "outputs": [],
   "source": []
  }
 ],
 "metadata": {
  "kernelspec": {
   "display_name": "nlp_assignment_2",
   "language": "python",
   "name": "python3"
  },
  "language_info": {
   "codemirror_mode": {
    "name": "ipython",
    "version": 3
   },
   "file_extension": ".py",
   "mimetype": "text/x-python",
   "name": "python",
   "nbconvert_exporter": "python",
   "pygments_lexer": "ipython3",
   "version": "3.11.4"
  }
 },
 "nbformat": 4,
 "nbformat_minor": 2
}
