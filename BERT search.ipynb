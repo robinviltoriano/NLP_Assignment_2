{
 "cells": [
  {
   "cell_type": "code",
   "execution_count": 6,
   "metadata": {},
   "outputs": [],
   "source": [
    "import numpy as np \n",
    "import pandas as pd\n",
    "import re\n",
    "from sklearn.model_selection import train_test_split"
   ]
  },
  {
   "cell_type": "code",
   "execution_count": 8,
   "metadata": {},
   "outputs": [
    {
     "data": {
      "text/html": [
       "<div>\n",
       "<style scoped>\n",
       "    .dataframe tbody tr th:only-of-type {\n",
       "        vertical-align: middle;\n",
       "    }\n",
       "\n",
       "    .dataframe tbody tr th {\n",
       "        vertical-align: top;\n",
       "    }\n",
       "\n",
       "    .dataframe thead th {\n",
       "        text-align: right;\n",
       "    }\n",
       "</style>\n",
       "<table border=\"1\" class=\"dataframe\">\n",
       "  <thead>\n",
       "    <tr style=\"text-align: right;\">\n",
       "      <th></th>\n",
       "      <th>id</th>\n",
       "      <th>article</th>\n",
       "    </tr>\n",
       "  </thead>\n",
       "  <tbody>\n",
       "    <tr>\n",
       "      <th>0</th>\n",
       "      <td>17307</td>\n",
       "      <td>PARIS  ?   When the Islamic State was about to...</td>\n",
       "    </tr>\n",
       "    <tr>\n",
       "      <th>1</th>\n",
       "      <td>17292</td>\n",
       "      <td>Angels are everywhere in the Mu?iz family?s ap...</td>\n",
       "    </tr>\n",
       "    <tr>\n",
       "      <th>2</th>\n",
       "      <td>17298</td>\n",
       "      <td>Finally. The Second Avenue subway opened in Ne...</td>\n",
       "    </tr>\n",
       "    <tr>\n",
       "      <th>3</th>\n",
       "      <td>17311</td>\n",
       "      <td>WASHINGTON  ?   It?s   or   time for Republica...</td>\n",
       "    </tr>\n",
       "    <tr>\n",
       "      <th>4</th>\n",
       "      <td>17339</td>\n",
       "      <td>For Megyn Kelly, the shift from Fox News to NB...</td>\n",
       "    </tr>\n",
       "  </tbody>\n",
       "</table>\n",
       "</div>"
      ],
      "text/plain": [
       "      id                                            article\n",
       "0  17307  PARIS  ?   When the Islamic State was about to...\n",
       "1  17292  Angels are everywhere in the Mu?iz family?s ap...\n",
       "2  17298  Finally. The Second Avenue subway opened in Ne...\n",
       "3  17311  WASHINGTON  ?   It?s   or   time for Republica...\n",
       "4  17339  For Megyn Kelly, the shift from Fox News to NB..."
      ]
     },
     "execution_count": 8,
     "metadata": {},
     "output_type": "execute_result"
    }
   ],
   "source": [
    "df = pd.read_csv('news_dataset.csv', encoding='latin-1')\n",
    "data = df[['id', 'article']]\n",
    "data.head()"
   ]
  },
  {
   "cell_type": "code",
   "execution_count": 9,
   "metadata": {},
   "outputs": [
    {
     "data": {
      "text/plain": [
       "'PARIS  ?   When the Islamic State was about to be driven out of the ancient city of Palmyra in March, Yves Ubelmann got a call from Syria?s director of antiquities to come over in a hurry. An architect by training, Mr. Ubelmann, 36, had worked in Syria before the country was engulfed by war. But now there was special urgency for the kind of work his youthful team of architects, mathematicians and designers did from their cramped offices in Paris: producing digital copies of threatened historical sites. Palmyra, parts of it already destroyed by the Islamists who deemed these monuments idolatrous, was still rigged with explosives. So he and Houmam Saad, his Syrian colleague, spent four days flying a drone with a robot camera over the crumbled arches and temples. ?Drones with four or six rotors can hover really close and register structural details, every crack and hole, and we can take very precise measurements,? said Mr. Ubelmann, who founded the company Iconem. ?This is the stuff architects and archaeologists need. ? They need it in a new push for virtual preservation that scientists, archaeologists and others, like Mr. Ubelmann, are compiling on a large scale. The records could be used to create computer models that would show how monuments and endangered historical sites might one day be restored, repaired or reconstructed. Of special interest today are ancient sites in Syria, and also Iraq, that have suffered from war, looting and the Islamic State. ?Palmyra was very difficult,? Mr. Ubelmann said. ?The terrorists were uploading videos with them blowing up monuments and smashing statues to manipulate public opinion,? he said. ?We felt the best response was to magnify the pictures of these places and show their splendor and their importance to the culture. It became a war of images. ? The latest front in that war is in the exhibition halls of the Grand Palais in Paris, where, through Jan. 9, many of the 40, 000 images he and his team took at Palmyra have become the basis for displays. Called ?Eternal Sites: From Bamiyan to Palmyra,? the show aims to draw attention to the rising threats to global heritage. To underscore the exhibition?s political importance, it was opened several weeks ago by President Fran?ois Hollande of France, who described it as ?an act of resistance? against terror and intolerance. Showing the beauty of the Middle Eastern heritage, he said, ?is the best answer to the Islamist propaganda of hate, destruction and death. ?   Martinez, the director of the Louvre and the lead curator of the show, said the sites had been chosen because ?all are under threat from pillaging, neglect or destruction and are not accessible to the public. ? He said it aimed to mobilize public opinion ?in the face of the devastation of unique heritage. ? Besides images from Palmyra, the multimedia show projects enormous   photographs and videos, immersing visitors in different eras, including the ancient Iraqi city of Khorsabad around 700 B. C. an   mosque in Damascus and a medieval Christian citadel. Mr. Ubelmann dismissed any criticism of collaboration with the government of the Syrian president, Bashar  . ?We were working pro bono, not for any government, but to help the archaeologists,? he said. They shared their work with the Syrian archaeologists, he said, adding, ?We also train our colleagues so they can later do this on their own. ? What is paramount is memory and potential restoration. In the last year, his team has flown drones over some 20 historic sites in Syria. Recently, it moved into   zones in Iraq, close to the front line in the fight against the Islamic State. The team is now analyzing the war?s effects on the remains of once thriving cities dating back some 3, 000 years, including Nineveh, Khorsabad and the thrashed temple and palace of Nimrud, where the government drove out the jihadists in November. In 2015, Islamists sent out videos showing militants using sledgehammers to break reliefs of human figures and mythical winged bulls as part of their   campaign. ?Nimrud was probably the most splendid of the Assyrian cities,? Layla Abdulkarim, a Syrian architect, said as she analyzed aerial photographs. Using drones in archaeological work is not entirely new, specialists say, but at a recent gathering in Paris researchers from Europe and the Middle East said they were now having to practice ?war archaeology,? that is, collecting reliable data from   areas. The images from the drones in war zones had proved immensely valuable. But these were barely scratching the surface. Before the war, close to 150 archaeological projects were underway, just in Syria, researchers said. Experts from many countries are trying to assess the damage in Syria?s old cities but also in the area where the Islamic State held sway that is straddling Iraq and Syria, the region that is seen as central to human history and often called the birthplace of modern economics and writing. There is an outcry for data about the havoc wreaked in Yemen by Saudi bombing. ?People are exchanging satellite images and data on blogs and other research platforms, but we have no real assessment yet because so many ancient sites are not accessible,? said Pascal Butterlin, a professor of archaeology at the Sorbonne in Paris. Time is of the essence, even in the case of    ruins, Mr. Butterlin said. He has led expeditions for more than 20 years to Mari, near Syria?s border with Iraq. Before fleeing, the guards at Mari reported that looters had come from Iraq, he said. ?We need to know what places need to be stabilized and how looters have altered the sites,? he said. ?Important evidence, like clandestine pits, can disappear very quickly through sandstorms and erosion. ? Cheikhmous Ali, a Syrian archaeologist based in France, who founded the international group the Association for the Protection of Syrian Archaeology, said reports of organized pillaging continued. A first wave of looting began in 2012, Mr. Ali said, and looting has accelerated since 2014 with the arrival of the Islamic State. While jihadists were more motivated to destroy the artifacts, they had also allowed looters to operate in exchange for money. Mr. Ali said he kept an ever changing tally of museums bombed, objects carted off, safes stolen. The exhibition in Paris, which is drawing large crowds, coincides with ?History Begins in Mesopotamia,? a show at the Louvre?s regional museum in Lens. Both exhibitions highlight the French government?s active concern about cultural damage in Syria, which was briefly controlled by France in the first half of the 20th century. Mr. Hollande has taken a strong interest, condemning the deliberate destruction of patrimony by all sides as ?war crimes. ? This past month, France offered $30 million toward a proposed $100 million fund to protect sites as fighting abates, provide emergency storage for artifacts and eventually rehabilitate monuments. At the ?Eternal Sites? opening at the Grand Palais, Mr. Hollande stressed that France was taking in more Syrian refugees trying to protect monuments of great historical and cultural importance did not mean ignoring the suffering of the population. ?Should we be concerned about the patrimony?? he asked. ?What is more important, saving lives or saving stones? In reality, these two are inseparable. ?'"
      ]
     },
     "execution_count": 9,
     "metadata": {},
     "output_type": "execute_result"
    }
   ],
   "source": [
    "data['article'][0]"
   ]
  },
  {
   "cell_type": "code",
   "execution_count": 10,
   "metadata": {},
   "outputs": [],
   "source": [
    "# Create a function to clean data\n",
    "def clean_text(text):\n",
    "    \n",
    "    text = re.sub(r'(\\s\\?)',' ',text)\n",
    "    text = re.sub(r'\\s+', ' ', text)\n",
    "    text = re.sub(r\"\\b\\?\\b\", \"\\'\", text)\n",
    "    text = re.sub(r\"(,\\?)\",\",\", text)\n",
    "    text = re.sub(r\"\\?+\", \"?\", text)\n",
    "    text = text.strip()\n",
    "\n",
    "    return text"
   ]
  },
  {
   "cell_type": "code",
   "execution_count": 11,
   "metadata": {},
   "outputs": [],
   "source": [
    "def chunk_text(data_index, data_text, chunk_size, chunk_overlap):\n",
    "\n",
    "    list_chunk_text = []\n",
    "\n",
    "    for position in range(len(data_index)):\n",
    "\n",
    "        words = clean_text(data_text[position]).split()\n",
    "\n",
    "        start = 0\n",
    "        while start < len(words):\n",
    "            end = start + chunk_size\n",
    "            segment = ' '.join(words[start:end])\n",
    "            list_chunk_text.append((data_index[position], segment))\n",
    "            start += (chunk_size - chunk_overlap)\n",
    "\n",
    "    return pd.DataFrame(list_chunk_text, columns=['id', 'article'])"
   ]
  },
  {
   "cell_type": "code",
   "execution_count": 12,
   "metadata": {},
   "outputs": [],
   "source": [
    "data_chunk = chunk_text(data['id'], data['article'], 500, 50)"
   ]
  },
  {
   "cell_type": "code",
   "execution_count": 13,
   "metadata": {},
   "outputs": [
    {
     "data": {
      "text/html": [
       "<div>\n",
       "<style scoped>\n",
       "    .dataframe tbody tr th:only-of-type {\n",
       "        vertical-align: middle;\n",
       "    }\n",
       "\n",
       "    .dataframe tbody tr th {\n",
       "        vertical-align: top;\n",
       "    }\n",
       "\n",
       "    .dataframe thead th {\n",
       "        text-align: right;\n",
       "    }\n",
       "</style>\n",
       "<table border=\"1\" class=\"dataframe\">\n",
       "  <thead>\n",
       "    <tr style=\"text-align: right;\">\n",
       "      <th></th>\n",
       "      <th>id</th>\n",
       "      <th>article</th>\n",
       "    </tr>\n",
       "  </thead>\n",
       "  <tbody>\n",
       "    <tr>\n",
       "      <th>0</th>\n",
       "      <td>17307</td>\n",
       "      <td>PARIS When the Islamic State was about to be d...</td>\n",
       "    </tr>\n",
       "    <tr>\n",
       "      <th>1</th>\n",
       "      <td>17307</td>\n",
       "      <td>to mobilize public opinion in the face of the ...</td>\n",
       "    </tr>\n",
       "    <tr>\n",
       "      <th>2</th>\n",
       "      <td>17307</td>\n",
       "      <td>the guards at Mari reported that looters had c...</td>\n",
       "    </tr>\n",
       "    <tr>\n",
       "      <th>3</th>\n",
       "      <td>17292</td>\n",
       "      <td>Angels are everywhere in the Mu'iz family's ap...</td>\n",
       "    </tr>\n",
       "    <tr>\n",
       "      <th>4</th>\n",
       "      <td>17292</td>\n",
       "      <td>and his lower jaw and cut a hole through his e...</td>\n",
       "    </tr>\n",
       "  </tbody>\n",
       "</table>\n",
       "</div>"
      ],
      "text/plain": [
       "      id                                            article\n",
       "0  17307  PARIS When the Islamic State was about to be d...\n",
       "1  17307  to mobilize public opinion in the face of the ...\n",
       "2  17307  the guards at Mari reported that looters had c...\n",
       "3  17292  Angels are everywhere in the Mu'iz family's ap...\n",
       "4  17292  and his lower jaw and cut a hole through his e..."
      ]
     },
     "execution_count": 13,
     "metadata": {},
     "output_type": "execute_result"
    }
   ],
   "source": [
    "data_chunk.head()"
   ]
  },
  {
   "cell_type": "code",
   "execution_count": 15,
   "metadata": {},
   "outputs": [],
   "source": [
    "from transformers import BertTokenizer, BertModel\n",
    "import torch\n",
    "\n",
    "tokenizer = BertTokenizer.from_pretrained(\"bert-base-uncased\")\n",
    "model = BertModel.from_pretrained(\"bert-base-uncased\")"
   ]
  },
  {
   "cell_type": "code",
   "execution_count": 17,
   "metadata": {},
   "outputs": [],
   "source": [
    "def get_tokenized_and_embedded_text(data, tokenizer, model):\n",
    "    id_list = []\n",
    "\n",
    "    for position in range(len(data)):\n",
    "        # Tokenize\n",
    "        encoding = tokenizer.encode_plus(data['article'][position],\n",
    "                                       add_special_tokens=True,\n",
    "                                       padding='longest',\n",
    "                                       truncation=True,\n",
    "                                       return_tensors='pt',\n",
    "                                       )\n",
    "        inputs = encoding['input_ids']\n",
    "        \n",
    "        # Get BERT model embeddings\n",
    "        with torch.no_grad():\n",
    "            outputs = model(inputs, attention_mask=encoding['attention_mask'])\n",
    "            \n",
    "        # Get embeddings from BERT output\n",
    "        embeddings = outputs.last_hidden_state\n",
    "        \n",
    "        # Aggregate token-level embeddings (e.g., mean pooling)\n",
    "        aggregated_embedding = torch.mean(embeddings, dim=1)\n",
    "\n",
    "        # Add to list\n",
    "        id_list.append((data['id'][position], aggregated_embedding))\n",
    "\n",
    "    return id_list"
   ]
  },
  {
   "cell_type": "code",
   "execution_count": 18,
   "metadata": {},
   "outputs": [],
   "source": [
    "id_list = get_tokenized_and_embedded_text(data_chunk, tokenizer, model)"
   ]
  },
  {
   "cell_type": "code",
   "execution_count": 19,
   "metadata": {},
   "outputs": [],
   "source": [
    "id_df = pd.DataFrame(id_list, columns=['id', 'embedding'])"
   ]
  },
  {
   "cell_type": "code",
   "execution_count": 20,
   "metadata": {},
   "outputs": [],
   "source": [
    "document_embeddings = [embed for embed in id_df['embedding']]\n",
    "document_embeddings = torch.cat(document_embeddings)"
   ]
  },
  {
   "cell_type": "code",
   "execution_count": 21,
   "metadata": {},
   "outputs": [],
   "source": [
    "query = 'Who is the vice chairman of Samsung?'\n",
    "query = clean_text(query)\n",
    "\n",
    "# Tokenize\n",
    "encoding = tokenizer.encode_plus(query, add_special_tokens=True, padding='longest', truncation=True, return_tensors='pt')\n",
    "\n",
    "# Get BERT model embeddings\n",
    "with torch.no_grad():\n",
    "    output = model(encoding['input_ids'], attention_mask=encoding['attention_mask'])\n",
    "\n",
    "# Get embedding\n",
    "query_embedding = output.last_hidden_state.mean(dim=1)"
   ]
  },
  {
   "cell_type": "code",
   "execution_count": 22,
   "metadata": {},
   "outputs": [],
   "source": [
    "from sklearn.metrics.pairwise import cosine_similarity\n",
    "\n",
    "# Calculate cosine similarity between the user query and all documents\n",
    "similarities = cosine_similarity(query_embedding, document_embeddings)\n",
    "\n",
    "# Find the index of the most similar document\n",
    "id_df['cosine similarity'] = similarities.reshape(-1, 1)"
   ]
  },
  {
   "cell_type": "code",
   "execution_count": 23,
   "metadata": {},
   "outputs": [
    {
     "data": {
      "text/html": [
       "<div>\n",
       "<style scoped>\n",
       "    .dataframe tbody tr th:only-of-type {\n",
       "        vertical-align: middle;\n",
       "    }\n",
       "\n",
       "    .dataframe tbody tr th {\n",
       "        vertical-align: top;\n",
       "    }\n",
       "\n",
       "    .dataframe thead th {\n",
       "        text-align: right;\n",
       "    }\n",
       "</style>\n",
       "<table border=\"1\" class=\"dataframe\">\n",
       "  <thead>\n",
       "    <tr style=\"text-align: right;\">\n",
       "      <th></th>\n",
       "      <th>id</th>\n",
       "      <th>embedding</th>\n",
       "      <th>cosine similarity</th>\n",
       "    </tr>\n",
       "  </thead>\n",
       "  <tbody>\n",
       "    <tr>\n",
       "      <th>0</th>\n",
       "      <td>17307</td>\n",
       "      <td>[[tensor(-0.0724), tensor(0.2000), tensor(0.21...</td>\n",
       "      <td>0.570158</td>\n",
       "    </tr>\n",
       "    <tr>\n",
       "      <th>1</th>\n",
       "      <td>17307</td>\n",
       "      <td>[[tensor(-0.1836), tensor(0.1234), tensor(0.08...</td>\n",
       "      <td>0.574872</td>\n",
       "    </tr>\n",
       "    <tr>\n",
       "      <th>2</th>\n",
       "      <td>17307</td>\n",
       "      <td>[[tensor(-0.1739), tensor(0.0417), tensor(0.06...</td>\n",
       "      <td>0.567738</td>\n",
       "    </tr>\n",
       "    <tr>\n",
       "      <th>3</th>\n",
       "      <td>17292</td>\n",
       "      <td>[[tensor(-0.0999), tensor(0.0080), tensor(0.29...</td>\n",
       "      <td>0.562260</td>\n",
       "    </tr>\n",
       "    <tr>\n",
       "      <th>4</th>\n",
       "      <td>17292</td>\n",
       "      <td>[[tensor(-0.1463), tensor(0.0739), tensor(0.32...</td>\n",
       "      <td>0.574617</td>\n",
       "    </tr>\n",
       "  </tbody>\n",
       "</table>\n",
       "</div>"
      ],
      "text/plain": [
       "      id                                          embedding  cosine similarity\n",
       "0  17307  [[tensor(-0.0724), tensor(0.2000), tensor(0.21...           0.570158\n",
       "1  17307  [[tensor(-0.1836), tensor(0.1234), tensor(0.08...           0.574872\n",
       "2  17307  [[tensor(-0.1739), tensor(0.0417), tensor(0.06...           0.567738\n",
       "3  17292  [[tensor(-0.0999), tensor(0.0080), tensor(0.29...           0.562260\n",
       "4  17292  [[tensor(-0.1463), tensor(0.0739), tensor(0.32...           0.574617"
      ]
     },
     "execution_count": 23,
     "metadata": {},
     "output_type": "execute_result"
    }
   ],
   "source": [
    "id_df.head()"
   ]
  },
  {
   "cell_type": "code",
   "execution_count": 24,
   "metadata": {},
   "outputs": [
    {
     "data": {
      "text/html": [
       "<div>\n",
       "<style scoped>\n",
       "    .dataframe tbody tr th:only-of-type {\n",
       "        vertical-align: middle;\n",
       "    }\n",
       "\n",
       "    .dataframe tbody tr th {\n",
       "        vertical-align: top;\n",
       "    }\n",
       "\n",
       "    .dataframe thead th {\n",
       "        text-align: right;\n",
       "    }\n",
       "</style>\n",
       "<table border=\"1\" class=\"dataframe\">\n",
       "  <thead>\n",
       "    <tr style=\"text-align: right;\">\n",
       "      <th></th>\n",
       "      <th>id</th>\n",
       "      <th>embedding</th>\n",
       "      <th>cosine similarity</th>\n",
       "    </tr>\n",
       "  </thead>\n",
       "  <tbody>\n",
       "    <tr>\n",
       "      <th>0</th>\n",
       "      <td>17692</td>\n",
       "      <td>[[tensor(-0.0022), tensor(-0.2842), tensor(0.6...</td>\n",
       "      <td>0.684490</td>\n",
       "    </tr>\n",
       "    <tr>\n",
       "      <th>1</th>\n",
       "      <td>18113</td>\n",
       "      <td>[[tensor(0.0653), tensor(-0.1018), tensor(0.32...</td>\n",
       "      <td>0.680131</td>\n",
       "    </tr>\n",
       "    <tr>\n",
       "      <th>2</th>\n",
       "      <td>17851</td>\n",
       "      <td>[[tensor(-0.0975), tensor(-0.0283), tensor(0.2...</td>\n",
       "      <td>0.667798</td>\n",
       "    </tr>\n",
       "    <tr>\n",
       "      <th>3</th>\n",
       "      <td>18213</td>\n",
       "      <td>[[tensor(-0.3222), tensor(-0.2396), tensor(0.2...</td>\n",
       "      <td>0.659565</td>\n",
       "    </tr>\n",
       "    <tr>\n",
       "      <th>4</th>\n",
       "      <td>17629</td>\n",
       "      <td>[[tensor(-0.2943), tensor(-0.0678), tensor(0.1...</td>\n",
       "      <td>0.659119</td>\n",
       "    </tr>\n",
       "    <tr>\n",
       "      <th>...</th>\n",
       "      <td>...</td>\n",
       "      <td>...</td>\n",
       "      <td>...</td>\n",
       "    </tr>\n",
       "    <tr>\n",
       "      <th>2976</th>\n",
       "      <td>17506</td>\n",
       "      <td>[[tensor(-0.3392), tensor(-0.4987), tensor(-0....</td>\n",
       "      <td>0.477313</td>\n",
       "    </tr>\n",
       "    <tr>\n",
       "      <th>2977</th>\n",
       "      <td>18186</td>\n",
       "      <td>[[tensor(-0.2281), tensor(-0.1184), tensor(-0....</td>\n",
       "      <td>0.460685</td>\n",
       "    </tr>\n",
       "    <tr>\n",
       "      <th>2978</th>\n",
       "      <td>17313</td>\n",
       "      <td>[[tensor(-0.2281), tensor(-0.1184), tensor(-0....</td>\n",
       "      <td>0.460685</td>\n",
       "    </tr>\n",
       "    <tr>\n",
       "      <th>2979</th>\n",
       "      <td>18185</td>\n",
       "      <td>[[tensor(-0.2281), tensor(-0.1184), tensor(-0....</td>\n",
       "      <td>0.460685</td>\n",
       "    </tr>\n",
       "    <tr>\n",
       "      <th>2980</th>\n",
       "      <td>17483</td>\n",
       "      <td>[[tensor(0.1796), tensor(-0.2989), tensor(-0.0...</td>\n",
       "      <td>0.430731</td>\n",
       "    </tr>\n",
       "  </tbody>\n",
       "</table>\n",
       "<p>2981 rows × 3 columns</p>\n",
       "</div>"
      ],
      "text/plain": [
       "         id                                          embedding  \\\n",
       "0     17692  [[tensor(-0.0022), tensor(-0.2842), tensor(0.6...   \n",
       "1     18113  [[tensor(0.0653), tensor(-0.1018), tensor(0.32...   \n",
       "2     17851  [[tensor(-0.0975), tensor(-0.0283), tensor(0.2...   \n",
       "3     18213  [[tensor(-0.3222), tensor(-0.2396), tensor(0.2...   \n",
       "4     17629  [[tensor(-0.2943), tensor(-0.0678), tensor(0.1...   \n",
       "...     ...                                                ...   \n",
       "2976  17506  [[tensor(-0.3392), tensor(-0.4987), tensor(-0....   \n",
       "2977  18186  [[tensor(-0.2281), tensor(-0.1184), tensor(-0....   \n",
       "2978  17313  [[tensor(-0.2281), tensor(-0.1184), tensor(-0....   \n",
       "2979  18185  [[tensor(-0.2281), tensor(-0.1184), tensor(-0....   \n",
       "2980  17483  [[tensor(0.1796), tensor(-0.2989), tensor(-0.0...   \n",
       "\n",
       "      cosine similarity  \n",
       "0              0.684490  \n",
       "1              0.680131  \n",
       "2              0.667798  \n",
       "3              0.659565  \n",
       "4              0.659119  \n",
       "...                 ...  \n",
       "2976           0.477313  \n",
       "2977           0.460685  \n",
       "2978           0.460685  \n",
       "2979           0.460685  \n",
       "2980           0.430731  \n",
       "\n",
       "[2981 rows x 3 columns]"
      ]
     },
     "execution_count": 24,
     "metadata": {},
     "output_type": "execute_result"
    }
   ],
   "source": [
    "most_similar_document = id_df.sort_values(by='cosine similarity', ascending=False).reset_index(drop=True)\n",
    "most_similar_document"
   ]
  },
  {
   "cell_type": "code",
   "execution_count": 25,
   "metadata": {},
   "outputs": [
    {
     "data": {
      "text/plain": [
       "12"
      ]
     },
     "execution_count": 25,
     "metadata": {},
     "output_type": "execute_result"
    }
   ],
   "source": [
    "most_similar_document['id'].tolist().index(17574)"
   ]
  }
 ],
 "metadata": {
  "kernelspec": {
   "display_name": ".venv",
   "language": "python",
   "name": "python3"
  },
  "language_info": {
   "codemirror_mode": {
    "name": "ipython",
    "version": 3
   },
   "file_extension": ".py",
   "mimetype": "text/x-python",
   "name": "python",
   "nbconvert_exporter": "python",
   "pygments_lexer": "ipython3",
   "version": "3.11.5"
  }
 },
 "nbformat": 4,
 "nbformat_minor": 2
}
