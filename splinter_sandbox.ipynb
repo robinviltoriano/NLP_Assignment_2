{
 "cells": [
  {
   "cell_type": "code",
   "execution_count": 1,
   "metadata": {},
   "outputs": [
    {
     "name": "stderr",
     "output_type": "stream",
     "text": [
      "/Users/robinviltoriano/Library/CloudStorage/Box-Box/Trimester 1 2024/NLP/NLP_Assignment_2/nlp_assignment_2/lib/python3.11/site-packages/tqdm/auto.py:21: TqdmWarning: IProgress not found. Please update jupyter and ipywidgets. See https://ipywidgets.readthedocs.io/en/stable/user_install.html\n",
      "  from .autonotebook import tqdm as notebook_tqdm\n"
     ]
    }
   ],
   "source": [
    "from transformers import AutoTokenizer, SplinterForQuestionAnswering\n",
    "import torch"
   ]
  },
  {
   "cell_type": "markdown",
   "metadata": {},
   "source": [
    "# Downloading the Model\n",
    "Pretrained on the QASS layer. \n",
    "\n",
    "QASS layer is a token contextualize to question represtentations"
   ]
  },
  {
   "cell_type": "code",
   "execution_count": 3,
   "metadata": {},
   "outputs": [],
   "source": [
    "tokenizer = AutoTokenizer.from_pretrained(\"tau/splinter-base-qass\")\n",
    "model = SplinterForQuestionAnswering.from_pretrained(\"tau/splinter-base-qass\")"
   ]
  },
  {
   "cell_type": "code",
   "execution_count": 55,
   "metadata": {},
   "outputs": [],
   "source": [
    "def search_span_text(question,passage):\n",
    "    inputs = tokenizer(question, passage, return_tensors=\"pt\")\n",
    "    with torch.no_grad():\n",
    "        outputs = model(**inputs)\n",
    "\n",
    "    # get the start and end index\n",
    "    answer_start_index = outputs.start_logits.argmax()\n",
    "    answer_end_index = outputs.end_logits.argmax()\n",
    "    \n",
    "    print(f\"start index: {answer_start_index}\")\n",
    "    print(f\"end index: {answer_end_index}\")\n",
    "    predict_answer_tokens = inputs.input_ids[0, answer_start_index : answer_end_index + 1]\n",
    "    \n",
    "    return tokenizer.decode(predict_answer_tokens)"
   ]
  },
  {
   "cell_type": "code",
   "execution_count": 57,
   "metadata": {},
   "outputs": [
    {
     "name": "stdout",
     "output_type": "stream",
     "text": [
      "start index: 1\n",
      "end index: 7\n"
     ]
    },
    {
     "data": {
      "text/plain": [
       "'What is the capital city of Indonesia'"
      ]
     },
     "execution_count": 57,
     "metadata": {},
     "output_type": "execute_result"
    }
   ],
   "source": [
    "question = \"Who was Jim Henson?\"\n",
    "text = 'Jim Henson was a nice puppet'\n",
    "\n",
    "question = 'What is the capital city of Indonesia?'\n",
    "text = \"Indonesia is a big country, it has a lot of island. Jakarta, the capital city, located in Java island.\"\n",
    "\n",
    "search_span_text(question,text)"
   ]
  },
  {
   "cell_type": "code",
   "execution_count": 44,
   "metadata": {},
   "outputs": [
    {
     "data": {
      "text/plain": [
       "tensor(7.9873, grad_fn=<DivBackward0>)"
      ]
     },
     "execution_count": 44,
     "metadata": {},
     "output_type": "execute_result"
    }
   ],
   "source": [
    "target_start_index = torch.tensor([14])\n",
    "target_end_index = torch.tensor([15])\n",
    "\n",
    "inputs = tokenizer(question, text, return_tensors=\"pt\")\n",
    "\n",
    "outputs = model(**inputs, start_positions=target_start_index, end_positions=target_end_index)\n",
    "loss = outputs.loss\n",
    "loss"
   ]
  },
  {
   "cell_type": "markdown",
   "metadata": {},
   "source": [
    "# Testing on the Data"
   ]
  },
  {
   "cell_type": "code",
   "execution_count": 66,
   "metadata": {},
   "outputs": [],
   "source": [
    "import pandas as pd\n",
    "import re\n",
    "import pprint"
   ]
  },
  {
   "cell_type": "code",
   "execution_count": 70,
   "metadata": {},
   "outputs": [],
   "source": [
    "def clean_text(text):\n",
    "    text = re.sub(r'(\\s\\?)',' ',text)\n",
    "    text = re.sub(r'\\s+', ' ', text)\n",
    "    text = re.sub(r\"\\b\\?\\b\", \"\\'\", text)\n",
    "    text = re.sub(r\"(,\\?)\",\",\", text)\n",
    "    text = re.sub(r\"\\?+\", \"?\", text)\n",
    "    text = text.strip()\n",
    "    return text"
   ]
  },
  {
   "cell_type": "code",
   "execution_count": 60,
   "metadata": {},
   "outputs": [
    {
     "data": {
      "text/html": [
       "<div>\n",
       "<style scoped>\n",
       "    .dataframe tbody tr th:only-of-type {\n",
       "        vertical-align: middle;\n",
       "    }\n",
       "\n",
       "    .dataframe tbody tr th {\n",
       "        vertical-align: top;\n",
       "    }\n",
       "\n",
       "    .dataframe thead th {\n",
       "        text-align: right;\n",
       "    }\n",
       "</style>\n",
       "<table border=\"1\" class=\"dataframe\">\n",
       "  <thead>\n",
       "    <tr style=\"text-align: right;\">\n",
       "      <th></th>\n",
       "      <th>id</th>\n",
       "      <th>author</th>\n",
       "      <th>date</th>\n",
       "      <th>year</th>\n",
       "      <th>month</th>\n",
       "      <th>topic</th>\n",
       "      <th>article</th>\n",
       "    </tr>\n",
       "  </thead>\n",
       "  <tbody>\n",
       "    <tr>\n",
       "      <th>0</th>\n",
       "      <td>17307</td>\n",
       "      <td>Marlise Simons</td>\n",
       "      <td>1/01/2017</td>\n",
       "      <td>2017</td>\n",
       "      <td>1</td>\n",
       "      <td>architecture</td>\n",
       "      <td>PARIS  ?   When the Islamic State was about to...</td>\n",
       "    </tr>\n",
       "    <tr>\n",
       "      <th>1</th>\n",
       "      <td>17292</td>\n",
       "      <td>Andy Newman</td>\n",
       "      <td>31/12/2016</td>\n",
       "      <td>2016</td>\n",
       "      <td>12</td>\n",
       "      <td>art</td>\n",
       "      <td>Angels are everywhere in the Mu?iz family?s ap...</td>\n",
       "    </tr>\n",
       "    <tr>\n",
       "      <th>2</th>\n",
       "      <td>17298</td>\n",
       "      <td>Emma G. Fitzsimmons</td>\n",
       "      <td>2/01/2017</td>\n",
       "      <td>2017</td>\n",
       "      <td>1</td>\n",
       "      <td>business</td>\n",
       "      <td>Finally. The Second Avenue subway opened in Ne...</td>\n",
       "    </tr>\n",
       "    <tr>\n",
       "      <th>3</th>\n",
       "      <td>17311</td>\n",
       "      <td>Carl Hulse</td>\n",
       "      <td>3/01/2017</td>\n",
       "      <td>2017</td>\n",
       "      <td>1</td>\n",
       "      <td>business</td>\n",
       "      <td>WASHINGTON  ?   It?s   or   time for Republica...</td>\n",
       "    </tr>\n",
       "    <tr>\n",
       "      <th>4</th>\n",
       "      <td>17339</td>\n",
       "      <td>Jim Rutenberg</td>\n",
       "      <td>5/01/2017</td>\n",
       "      <td>2017</td>\n",
       "      <td>1</td>\n",
       "      <td>business</td>\n",
       "      <td>For Megyn Kelly, the shift from Fox News to NB...</td>\n",
       "    </tr>\n",
       "  </tbody>\n",
       "</table>\n",
       "</div>"
      ],
      "text/plain": [
       "      id               author        date  year month         topic  \\\n",
       "0  17307       Marlise Simons   1/01/2017  2017     1  architecture   \n",
       "1  17292          Andy Newman  31/12/2016  2016    12           art   \n",
       "2  17298  Emma G. Fitzsimmons   2/01/2017  2017     1      business   \n",
       "3  17311           Carl Hulse   3/01/2017  2017     1      business   \n",
       "4  17339        Jim Rutenberg   5/01/2017  2017     1      business   \n",
       "\n",
       "                                             article  \n",
       "0  PARIS  ?   When the Islamic State was about to...  \n",
       "1  Angels are everywhere in the Mu?iz family?s ap...  \n",
       "2  Finally. The Second Avenue subway opened in Ne...  \n",
       "3  WASHINGTON  ?   It?s   or   time for Republica...  \n",
       "4  For Megyn Kelly, the shift from Fox News to NB...  "
      ]
     },
     "execution_count": 60,
     "metadata": {},
     "output_type": "execute_result"
    }
   ],
   "source": [
    "df = pd.read_csv('news_dataset.csv', encoding='iso-8859-1')\n",
    "df.head()"
   ]
  },
  {
   "cell_type": "code",
   "execution_count": 73,
   "metadata": {},
   "outputs": [
    {
     "name": "stdout",
     "output_type": "stream",
     "text": [
      "('Finally. The Second Avenue subway opened in New York City on Sunday, with '\n",
      " 'thousands of riders flooding into its polished stations to witness a piece '\n",
      " 'of history nearly a century in the making. They descended beneath the '\n",
      " 'streets of the Upper East Side of Manhattan to board Q trains bound for '\n",
      " 'Coney Island in Brooklyn. They cheered. Their eyes filled with tears. They '\n",
      " 'snapped selfies in front of colorful mosaics lining the walls of the '\n",
      " 'stations. It was the first day of 2017, and it felt like a new day for a '\n",
      " 'city that for so long struggled to build this sorely needed subway line. In '\n",
      " 'a rare display of unbridled optimism from hardened New Yorkers, they arrived '\n",
      " 'with huge grins and wide eyes, taking in the bells and whistles at three new '\n",
      " 'stations. I was very choked up, Betsy Morris, 70, said as she rode the first '\n",
      " 'train to leave the 96th Street station, at noon. How do you explain '\n",
      " \"something that you never thought would happen? It's going to change the way \"\n",
      " 'everybody lives as far as commuting goes. It was a major moment for New '\n",
      " \"York's sprawling transit system after decades of failed efforts to bring the \"\n",
      " 'line to one of the few corners of Manhattan the subway did not reach. The '\n",
      " 'opening of the first segment of the line an extension of the Q train to 96th '\n",
      " 'Street promises to lighten the crush of passengers on the Nos. 4, 5 and 6 '\n",
      " \"trains along Lexington Avenue, the nation's most overcrowded subway line, \"\n",
      " 'which had been the only line on the Upper East Side of Manhattan. When the '\n",
      " 'stations opened shortly before noon, they were quickly filled with giddy '\n",
      " 'riders both young and old, and strollers, suitcases and dogs all familiar '\n",
      " 'sights across the system. But for all the excitement, the line, with just '\n",
      " 'three new stops, is much more modest than the ambitious route running the '\n",
      " 'length of Manhattan that was once envisioned. It serves a relatively '\n",
      " 'affluent and not very diverse part of the city, which has more than eight '\n",
      " 'and a half million people and many and minority residents who live far from '\n",
      " 'a subway line. With the subway reaching its highest ridership levels since '\n",
      " '1948, much of the aging system is plagued by crowding and delays, even as '\n",
      " 'subway and bus fares are expected to rise again in March. Still, there was '\n",
      " 'reason to cheer. The opening of a new subway line is a rare occasion in the '\n",
      " 'United States and comes at a time of mounting concern about the '\n",
      " \"deteriorating state of the nation's infrastructure, from its roadways and \"\n",
      " 'bridges to its public transit systems. Few new subway stations have opened '\n",
      " 'in recent years, even as expansive subway networks have sprouted in Asia, '\n",
      " 'and most American cities never built any in the first place. The major '\n",
      " 'subways in the Northeast in New York, Washington and Boston are grappling '\n",
      " 'with old equipment and funding shortfalls, with Washington experiencing a '\n",
      " 'near meltdown over safety problems. With mounting bills for basic '\n",
      " 'maintenance, these subways have largely failed to grow. So the arrival of '\n",
      " 'the Second Avenue subway, which was first proposed in the 1920s, was a '\n",
      " 'notable achievement for the Metropolitan Transportation Authority, which '\n",
      " \"runs the city's vast network of subways, buses and commuter railroads. The \"\n",
      " 'first phase of the project took nearly a decade to build and cost about $4. '\n",
      " \"4 billion. With the opening, the map of the city's loved and loathed subway \"\n",
      " 'adds three new stations, bringing the total to 472 the most of any subway in '\n",
      " \"the world. A station that opened at Hudson Yards on Manhattan's Far West \"\n",
      " \"Side in 2015 was the city's first new station in a . On Sunday, New Yorkers \"\n",
      " 'were mesmerized by the artwork adorning the walls. At the 72nd Street stop, '\n",
      " 'Sumana Harihareswara stopped to gaze at a mosaic of a woman of South Asian '\n",
      " 'descent dressed in a burgundy sari, looking at her cellphone. Ms. '\n",
      " \"Harihareswara was overcome with emotion. I don't think I've ever come across \"\n",
      " 'subway art before that makes me feel so seen, she said through tears. This '\n",
      " 'woman could be my aunt she could be my cousin. She and a stranger exchanged '\n",
      " 'a knowing glance. Representation matters, they agreed. Ms. Harihareswara, a '\n",
      " 'longtime transit enthusiast from Astoria, Queens, said she was struck by the '\n",
      " 'diversity portrayed in the mosaics, including a mural of a gay couple '\n",
      " 'holding hands. There is no feeling quite like seeing yourself cemented into '\n",
      " 'the infrastructure of New York, Ms. Harihareswara said. After decades of '\n",
      " 'aborted efforts to build the Second Avenue line, and at least three '\n",
      " 'groundbreakings in the 1970s, construction on the current segment began in '\n",
      " '2007. The line was originally projected to open in 2013, but subway '\n",
      " 'officials pushed the deadline to the end of 2016 many years ago. Gov. Andrew '\n",
      " 'M. Cuomo, a Democrat who effectively controls the authority, pressed '\n",
      " 'officials to meet the December 2016 deadline even as concerns grew that the '\n",
      " 'subway would not be ready in time. Still, the agency made the deadline just '\n",
      " \"barely with a lavish inaugural ride on New Year's Eve for a collection of \"\n",
      " 'dignitaries that culminated in a midnight toast. Although many New Yorkers '\n",
      " 'believe the city runs the subways, it is actually the governor who appoints '\n",
      " \"the authority's chairman and holds considerable sway over the agency. Mr. \"\n",
      " 'Cuomo has capitalized on the Second Avenue opening to raise his national '\n",
      " 'profile, overshadowing his frequent nemesis Mayor Bill de Blasio, a Democrat '\n",
      " 'who attended the inaugural ride on Saturday but was not given a speaking '\n",
      " 'slot. Despite general good will over the opening, some transit advocates '\n",
      " 'expressed concerns over the high cost of the project and questioned whether '\n",
      " 'officials would move aggressively to extend the line to 125th Street in East '\n",
      " 'Harlem as planned. On Sunday morning, Mr. Cuomo arrived at the 96th Street '\n",
      " \"station with the authority's chairman, Thomas F. Prendergast, to join the \"\n",
      " 'first trip for regular riders, who cheered as the train pulled out of the '\n",
      " \"station. Then Mr. Cuomo's voice came over the loudspeaker. Rest assured: I'm \"\n",
      " 'not driving the train, he joked. The first day of service was smooth, '\n",
      " 'although there were a few hiccups. Around 3 p. m. there were delays on the Q '\n",
      " 'line because of a train with mechanical problems at the City Hall station. '\n",
      " 'About an hour earlier, the elevator at the new 86th Street stop had begun to '\n",
      " 'malfunction, stranding passengers above and below ground. Strollers were '\n",
      " 'wheeled onto steep escalators. Parents became upset. Jill Tallmer, 62, and '\n",
      " \"her mother, Margot Tallmer, 91, contemplated visiting another day. We've \"\n",
      " 'been waiting for 10 years, or more, to ride, the younger Ms. Tallmer said '\n",
      " 'while standing with her mother, a lifelong New Yorker who is in a '\n",
      " \"wheelchair. Hopefully, it's almost ready for us. It was not, and they left \"\n",
      " 'after a few minutes. At the 72nd Street station, George Braith, a jazz '\n",
      " 'saxophonist, was being mobbed by an eager pack of veritable paparazzi. The '\n",
      " 'reason for his newfound celebrity: His likeness is featured in a mosaic '\n",
      " 'there. Would you look at that guy? Mr. Braith, 77, said. Pretty handsome '\n",
      " 'fellow if you ask me. He is one of several local celebrities portrayed in '\n",
      " \"the artwork, including chef Daniel Boulud. In Mr. Braith's mosaic, he is \"\n",
      " 'clad in a slick red blazer and carrying his signature Braithophone, alto and '\n",
      " 'soprano saxophones melded into one. Taking the instrument from his suitcase, '\n",
      " 'he obliged the crowd with a brief tune. Are you famous? a asked, seeing the '\n",
      " 'hubbub. In the jazz world, Mr. Braith replied. The man shook his head and '\n",
      " \"said, Well, you're immortalized as far as I'm concerned. Another celebrant, \"\n",
      " 'Ian Ma, 15, lives in Sheepshead Bay, a waterfront neighborhood in southern '\n",
      " 'Brooklyn that is nowhere near the new subway line. But he has been enchanted '\n",
      " 'by trains since he started rolling toy models on the floor as a child, he '\n",
      " \"said, and he cajoled his parents into giving him a ride. I feel like I've \"\n",
      " 'been waiting for this train my whole life, he said, seemingly speaking for '\n",
      " 'many others.')\n"
     ]
    }
   ],
   "source": [
    "i = 2\n",
    "passage = clean_text(df.article.iloc[i])\n",
    "pprint.pprint(passage)"
   ]
  },
  {
   "cell_type": "code",
   "execution_count": 74,
   "metadata": {},
   "outputs": [],
   "source": [
    "question = 'When did the Second Avenue subway open?'"
   ]
  },
  {
   "cell_type": "code",
   "execution_count": 80,
   "metadata": {},
   "outputs": [
    {
     "name": "stdout",
     "output_type": "stream",
     "text": [
      "start index: 14\n",
      "end index: 18\n"
     ]
    },
    {
     "data": {
      "text/plain": [
       "'The Second Avenue subway opened'"
      ]
     },
     "execution_count": 80,
     "metadata": {},
     "output_type": "execute_result"
    }
   ],
   "source": [
    "search_span_text(question,passage[:151])\n"
   ]
  },
  {
   "cell_type": "code",
   "execution_count": null,
   "metadata": {},
   "outputs": [],
   "source": []
  }
 ],
 "metadata": {
  "kernelspec": {
   "display_name": "nlp_assignment_2",
   "language": "python",
   "name": "python3"
  },
  "language_info": {
   "codemirror_mode": {
    "name": "ipython",
    "version": 3
   },
   "file_extension": ".py",
   "mimetype": "text/x-python",
   "name": "python",
   "nbconvert_exporter": "python",
   "pygments_lexer": "ipython3",
   "version": "3.11.4"
  }
 },
 "nbformat": 4,
 "nbformat_minor": 2
}
