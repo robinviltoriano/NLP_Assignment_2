{
 "cells": [
  {
   "cell_type": "code",
   "execution_count": 24,
   "metadata": {},
   "outputs": [],
   "source": [
    "import pandas as pd\n",
    "import numpy as np\n",
    "import matplotlib.pyplot as plt\n",
    "from matplotlib.ticker import FuncFormatter\n"
   ]
  },
  {
   "cell_type": "code",
   "execution_count": 4,
   "metadata": {},
   "outputs": [],
   "source": [
    "df_train = pd.read_csv('news_dataset_train.csv', encoding='iso-8859-1')\n",
    "df_test = pd.read_csv('news_dataset_test.csv', encoding='iso-8859-1')"
   ]
  },
  {
   "cell_type": "code",
   "execution_count": 5,
   "metadata": {},
   "outputs": [
    {
     "data": {
      "text/plain": [
       "(899, 7)"
      ]
     },
     "execution_count": 5,
     "metadata": {},
     "output_type": "execute_result"
    }
   ],
   "source": [
    "df_train.shape"
   ]
  },
  {
   "cell_type": "code",
   "execution_count": 6,
   "metadata": {},
   "outputs": [
    {
     "data": {
      "text/plain": [
       "(100, 7)"
      ]
     },
     "execution_count": 6,
     "metadata": {},
     "output_type": "execute_result"
    }
   ],
   "source": [
    "df_test.shape"
   ]
  },
  {
   "cell_type": "code",
   "execution_count": 8,
   "metadata": {},
   "outputs": [
    {
     "data": {
      "text/plain": [
       "array(['lifestyle', 'business', 'entertainment', 'politics', 'law', 'art',\n",
       "       'crime', 'science', 'sports', 'technology', 'accidents',\n",
       "       'architecture', 'health'], dtype=object)"
      ]
     },
     "execution_count": 8,
     "metadata": {},
     "output_type": "execute_result"
    }
   ],
   "source": [
    "df_train.topic.unique()"
   ]
  },
  {
   "cell_type": "code",
   "execution_count": 9,
   "metadata": {},
   "outputs": [
    {
     "data": {
      "text/html": [
       "<div>\n",
       "<style scoped>\n",
       "    .dataframe tbody tr th:only-of-type {\n",
       "        vertical-align: middle;\n",
       "    }\n",
       "\n",
       "    .dataframe tbody tr th {\n",
       "        vertical-align: top;\n",
       "    }\n",
       "\n",
       "    .dataframe thead th {\n",
       "        text-align: right;\n",
       "    }\n",
       "</style>\n",
       "<table border=\"1\" class=\"dataframe\">\n",
       "  <thead>\n",
       "    <tr style=\"text-align: right;\">\n",
       "      <th></th>\n",
       "      <th>id</th>\n",
       "      <th>author</th>\n",
       "      <th>date</th>\n",
       "      <th>year</th>\n",
       "      <th>month</th>\n",
       "      <th>topic</th>\n",
       "      <th>article</th>\n",
       "    </tr>\n",
       "  </thead>\n",
       "  <tbody>\n",
       "    <tr>\n",
       "      <th>0</th>\n",
       "      <td>17552</td>\n",
       "      <td>Dwight Garner</td>\n",
       "      <td>11/01/2017</td>\n",
       "      <td>2017</td>\n",
       "      <td>1</td>\n",
       "      <td>lifestyle</td>\n",
       "      <td>The best cigarette you will ever smoke, Gregor...</td>\n",
       "    </tr>\n",
       "    <tr>\n",
       "      <th>1</th>\n",
       "      <td>17382</td>\n",
       "      <td>Gaia Pianigiani</td>\n",
       "      <td>25/01/2017</td>\n",
       "      <td>2017</td>\n",
       "      <td>1</td>\n",
       "      <td>business</td>\n",
       "      <td>LECCE, Italy  ?   One of his first students wa...</td>\n",
       "    </tr>\n",
       "    <tr>\n",
       "      <th>2</th>\n",
       "      <td>17547</td>\n",
       "      <td>Daniel Victor</td>\n",
       "      <td>11/01/2017</td>\n",
       "      <td>2017</td>\n",
       "      <td>1</td>\n",
       "      <td>entertainment</td>\n",
       "      <td>A man who admitted changing the Hollywood sign...</td>\n",
       "    </tr>\n",
       "    <tr>\n",
       "      <th>3</th>\n",
       "      <td>17778</td>\n",
       "      <td>Daniel Victor and Erin McCann</td>\n",
       "      <td>19/01/2017</td>\n",
       "      <td>2017</td>\n",
       "      <td>1</td>\n",
       "      <td>entertainment</td>\n",
       "      <td>A magician walks into a laboratory. It?s not t...</td>\n",
       "    </tr>\n",
       "    <tr>\n",
       "      <th>4</th>\n",
       "      <td>17841</td>\n",
       "      <td>Michael S. Schmidt, Nick Corasaniti and Matt F...</td>\n",
       "      <td>21/01/2017</td>\n",
       "      <td>2017</td>\n",
       "      <td>1</td>\n",
       "      <td>politics</td>\n",
       "      <td>WASHINGTON  ?   A spate of violence erupted on...</td>\n",
       "    </tr>\n",
       "  </tbody>\n",
       "</table>\n",
       "</div>"
      ],
      "text/plain": [
       "      id                                             author        date  year  \\\n",
       "0  17552                                      Dwight Garner  11/01/2017  2017   \n",
       "1  17382                                    Gaia Pianigiani  25/01/2017  2017   \n",
       "2  17547                                      Daniel Victor  11/01/2017  2017   \n",
       "3  17778                      Daniel Victor and Erin McCann  19/01/2017  2017   \n",
       "4  17841  Michael S. Schmidt, Nick Corasaniti and Matt F...  21/01/2017  2017   \n",
       "\n",
       "  month          topic                                            article  \n",
       "0     1      lifestyle  The best cigarette you will ever smoke, Gregor...  \n",
       "1     1       business  LECCE, Italy  ?   One of his first students wa...  \n",
       "2     1  entertainment  A man who admitted changing the Hollywood sign...  \n",
       "3     1  entertainment  A magician walks into a laboratory. It?s not t...  \n",
       "4     1       politics  WASHINGTON  ?   A spate of violence erupted on...  "
      ]
     },
     "execution_count": 9,
     "metadata": {},
     "output_type": "execute_result"
    }
   ],
   "source": [
    "df_train.head()"
   ]
  },
  {
   "cell_type": "code",
   "execution_count": 31,
   "metadata": {},
   "outputs": [
    {
     "data": {
      "text/plain": [
       "politics         32.369299\n",
       "business         20.800890\n",
       "entertainment    15.350389\n",
       "crime            11.012236\n",
       "lifestyle         7.786429\n",
       "law               4.115684\n",
       "sports            3.003337\n",
       "science           2.447164\n",
       "technology        1.779755\n",
       "accidents         0.444939\n",
       "architecture      0.444939\n",
       "art               0.222469\n",
       "health            0.222469\n",
       "Name: topic, dtype: float64"
      ]
     },
     "execution_count": 31,
     "metadata": {},
     "output_type": "execute_result"
    }
   ],
   "source": [
    "topic_counts*100"
   ]
  },
  {
   "cell_type": "code",
   "execution_count": 29,
   "metadata": {},
   "outputs": [
    {
     "data": {
      "image/png": "[encoded data removed]",
      "text/plain": [
       "<Figure size 800x600 with 1 Axes>"
      ]
     },
     "metadata": {},
     "output_type": "display_data"
    }
   ],
   "source": [
    "def percent_formatter(x, pos):\n",
    "    return f'{x:.0f}%'\n",
    "\n",
    "fig = plt.figure(figsize=(8, 6))\n",
    "topic_counts = df_train['topic'].value_counts(normalize=True)\n",
    "\n",
    "topic_counts_rounded = topic_counts.round(2) * 100\n",
    "ax = topic_counts_rounded.plot(kind='bar')\n",
    "# ax.bar_label(ax.containers[0])\n",
    "plt.gca().yaxis.set_major_formatter(FuncFormatter(percent_formatter))\n",
    "plt.xticks(rotation=45)\n",
    "plt.title('Distribution of Topics in Training Data')\n",
    "plt.show()\n",
    "\n",
    "\n"
   ]
  },
  {
   "cell_type": "code",
   "execution_count": 10,
   "metadata": {},
   "outputs": [
    {
     "data": {
      "text/plain": [
       "count     899.000000\n",
       "mean     1121.098999\n",
       "std       617.035103\n",
       "min       185.000000\n",
       "25%       758.500000\n",
       "50%      1055.000000\n",
       "75%      1359.000000\n",
       "max      5561.000000\n",
       "Name: word_count, dtype: float64"
      ]
     },
     "execution_count": 10,
     "metadata": {},
     "output_type": "execute_result"
    }
   ],
   "source": [
    "df_train['word_count'] = df_train['article'].apply(lambda x: len(x.split()))\n",
    "df_train['word_count'].describe()\n"
   ]
  }
 ],
 "metadata": {
  "kernelspec": {
   "display_name": "nlp_assignment_2",
   "language": "python",
   "name": "python3"
  },
  "language_info": {
   "codemirror_mode": {
    "name": "ipython",
    "version": 3
   },
   "file_extension": ".py",
   "mimetype": "text/x-python",
   "name": "python",
   "nbconvert_exporter": "python",
   "pygments_lexer": "ipython3",
   "version": "3.11.4"
  }
 },
 "nbformat": 4,
 "nbformat_minor": 2
}
