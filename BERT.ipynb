{
 "cells": [
  {
   "cell_type": "code",
   "execution_count": 127,
   "metadata": {},
   "outputs": [],
   "source": [
    "import numpy as np \n",
    "import pandas as pd\n",
    "import re\n",
    "from sklearn.model_selection import train_test_split\n",
    "\n",
    "import nltk\n",
    "from nltk.tokenize import word_tokenize\n",
    "from nltk.corpus import stopwords\n",
    "\n",
    "import spacy\n",
    "# Load the spaCy English model\n",
    "nlp = spacy.load('en_core_web_sm')\n",
    "\n",
    "from sklearn.metrics.pairwise import cosine_similarity"
   ]
  },
  {
   "cell_type": "code",
   "execution_count": 2,
   "metadata": {},
   "outputs": [
    {
     "name": "stderr",
     "output_type": "stream",
     "text": [
      "c:\\Users\\nguye\\Music\\2024 Tri 1_Applied NLP\\NLP_Assignment_2\\.venv\\Lib\\site-packages\\tqdm\\auto.py:21: TqdmWarning: IProgress not found. Please update jupyter and ipywidgets. See https://ipywidgets.readthedocs.io/en/stable/user_install.html\n",
      "  from .autonotebook import tqdm as notebook_tqdm\n"
     ]
    }
   ],
   "source": [
    "from transformers import BertTokenizer\n",
    "from transformers import BertModel\n",
    "from transformers import BertForQuestionAnswering\n",
    "import torch\n",
    "\n",
    "# Load pre-trained BERT tokenizer\n",
    "tokenizer = BertTokenizer.from_pretrained('bert-base-uncased')\n",
    "\n",
    "# Load pre-trained BERT model for question answering\n",
    "model = BertModel.from_pretrained('bert-base-uncased')"
   ]
  },
  {
   "cell_type": "code",
   "execution_count": 3,
   "metadata": {},
   "outputs": [
    {
     "data": {
      "text/html": [
       "<div>\n",
       "<style scoped>\n",
       "    .dataframe tbody tr th:only-of-type {\n",
       "        vertical-align: middle;\n",
       "    }\n",
       "\n",
       "    .dataframe tbody tr th {\n",
       "        vertical-align: top;\n",
       "    }\n",
       "\n",
       "    .dataframe thead th {\n",
       "        text-align: right;\n",
       "    }\n",
       "</style>\n",
       "<table border=\"1\" class=\"dataframe\">\n",
       "  <thead>\n",
       "    <tr style=\"text-align: right;\">\n",
       "      <th></th>\n",
       "      <th>id</th>\n",
       "      <th>author</th>\n",
       "      <th>date</th>\n",
       "      <th>year</th>\n",
       "      <th>month</th>\n",
       "      <th>topic</th>\n",
       "      <th>article</th>\n",
       "    </tr>\n",
       "  </thead>\n",
       "  <tbody>\n",
       "    <tr>\n",
       "      <th>0</th>\n",
       "      <td>17307</td>\n",
       "      <td>Marlise Simons</td>\n",
       "      <td>1/01/2017</td>\n",
       "      <td>2017</td>\n",
       "      <td>1</td>\n",
       "      <td>architecture</td>\n",
       "      <td>PARIS  ?   When the Islamic State was about to...</td>\n",
       "    </tr>\n",
       "    <tr>\n",
       "      <th>1</th>\n",
       "      <td>17292</td>\n",
       "      <td>Andy Newman</td>\n",
       "      <td>31/12/2016</td>\n",
       "      <td>2016</td>\n",
       "      <td>12</td>\n",
       "      <td>art</td>\n",
       "      <td>Angels are everywhere in the Mu?iz family?s ap...</td>\n",
       "    </tr>\n",
       "    <tr>\n",
       "      <th>2</th>\n",
       "      <td>17298</td>\n",
       "      <td>Emma G. Fitzsimmons</td>\n",
       "      <td>2/01/2017</td>\n",
       "      <td>2017</td>\n",
       "      <td>1</td>\n",
       "      <td>business</td>\n",
       "      <td>Finally. The Second Avenue subway opened in Ne...</td>\n",
       "    </tr>\n",
       "    <tr>\n",
       "      <th>3</th>\n",
       "      <td>17311</td>\n",
       "      <td>Carl Hulse</td>\n",
       "      <td>3/01/2017</td>\n",
       "      <td>2017</td>\n",
       "      <td>1</td>\n",
       "      <td>business</td>\n",
       "      <td>WASHINGTON  ?   It?s   or   time for Republica...</td>\n",
       "    </tr>\n",
       "    <tr>\n",
       "      <th>4</th>\n",
       "      <td>17339</td>\n",
       "      <td>Jim Rutenberg</td>\n",
       "      <td>5/01/2017</td>\n",
       "      <td>2017</td>\n",
       "      <td>1</td>\n",
       "      <td>business</td>\n",
       "      <td>For Megyn Kelly, the shift from Fox News to NB...</td>\n",
       "    </tr>\n",
       "  </tbody>\n",
       "</table>\n",
       "</div>"
      ],
      "text/plain": [
       "      id               author        date  year month         topic  \\\n",
       "0  17307       Marlise Simons   1/01/2017  2017     1  architecture   \n",
       "1  17292          Andy Newman  31/12/2016  2016    12           art   \n",
       "2  17298  Emma G. Fitzsimmons   2/01/2017  2017     1      business   \n",
       "3  17311           Carl Hulse   3/01/2017  2017     1      business   \n",
       "4  17339        Jim Rutenberg   5/01/2017  2017     1      business   \n",
       "\n",
       "                                             article  \n",
       "0  PARIS  ?   When the Islamic State was about to...  \n",
       "1  Angels are everywhere in the Mu?iz family?s ap...  \n",
       "2  Finally. The Second Avenue subway opened in Ne...  \n",
       "3  WASHINGTON  ?   It?s   or   time for Republica...  \n",
       "4  For Megyn Kelly, the shift from Fox News to NB...  "
      ]
     },
     "execution_count": 3,
     "metadata": {},
     "output_type": "execute_result"
    }
   ],
   "source": [
    "df = pd.read_csv('news_dataset.csv', encoding='latin-1')\n",
    "df.head()"
   ]
  },
  {
   "cell_type": "code",
   "execution_count": 4,
   "metadata": {},
   "outputs": [],
   "source": [
    "def chunk_text(data_index, data_text, chunk_size, chunk_overlap):\n",
    "\n",
    "    list_chunk_text = []\n",
    "\n",
    "    for position in range(len(data_index)):\n",
    "        # text = re.sub(r'\\s+', ' ', data_text[position])\n",
    "\n",
    "        words = data_text[position].split()\n",
    "\n",
    "        start = 0\n",
    "        while start < len(words):\n",
    "            end = start + chunk_size\n",
    "            segment = ' '.join(words[start:end])\n",
    "            list_chunk_text.append((data_index[position], segment))\n",
    "            start += (chunk_size - chunk_overlap)\n",
    "\n",
    "    return list_chunk_text"
   ]
  },
  {
   "cell_type": "code",
   "execution_count": 48,
   "metadata": {},
   "outputs": [
    {
     "data": {
      "text/plain": [
       "'PARIS  ?   When the Islamic State was about to be driven out of the ancient city of Palmyra in March, Yves Ubelmann got a call from Syria?s director of antiquities to come over in a hurry. An architect by training, Mr. Ubelmann, 36, had worked in Syria before the country was engulfed by war. But now there was special urgency for the kind of work his youthful team of architects, mathematicians and designers did from their cramped offices in Paris: producing digital copies of threatened historical sites. Palmyra, parts of it already destroyed by the Islamists who deemed these monuments idolatrous, was still rigged with explosives. So he and Houmam Saad, his Syrian colleague, spent four days flying a drone with a robot camera over the crumbled arches and temples. ?Drones with four or six rotors can hover really close and register structural details, every crack and hole, and we can take very precise measurements,? said Mr. Ubelmann, who founded the company Iconem. ?This is the stuff architects and archaeologists need. ? They need it in a new push for virtual preservation that scientists, archaeologists and others, like Mr. Ubelmann, are compiling on a large scale. The records could be used to create computer models that would show how monuments and endangered historical sites might one day be restored, repaired or reconstructed. Of special interest today are ancient sites in Syria, and also Iraq, that have suffered from war, looting and the Islamic State. ?Palmyra was very difficult,? Mr. Ubelmann said. ?The terrorists were uploading videos with them blowing up monuments and smashing statues to manipulate public opinion,? he said. ?We felt the best response was to magnify the pictures of these places and show their splendor and their importance to the culture. It became a war of images. ? The latest front in that war is in the exhibition halls of the Grand Palais in Paris, where, through Jan. 9, many of the 40, 000 images he and his team took at Palmyra have become the basis for displays. Called ?Eternal Sites: From Bamiyan to Palmyra,? the show aims to draw attention to the rising threats to global heritage. To underscore the exhibition?s political importance, it was opened several weeks ago by President Fran?ois Hollande of France, who described it as ?an act of resistance? against terror and intolerance. Showing the beauty of the Middle Eastern heritage, he said, ?is the best answer to the Islamist propaganda of hate, destruction and death. ?   Martinez, the director of the Louvre and the lead curator of the show, said the sites had been chosen because ?all are under threat from pillaging, neglect or destruction and are not accessible to the public. ? He said it aimed to mobilize public opinion ?in the face of the devastation of unique heritage. ? Besides images from Palmyra, the multimedia show projects enormous   photographs and videos, immersing visitors in different eras, including the ancient Iraqi city of Khorsabad around 700 B. C. an   mosque in Damascus and a medieval Christian citadel. Mr. Ubelmann dismissed any criticism of collaboration with the government of the Syrian president, Bashar  . ?We were working pro bono, not for any government, but to help the archaeologists,? he said. They shared their work with the Syrian archaeologists, he said, adding, ?We also train our colleagues so they can later do this on their own. ? What is paramount is memory and potential restoration. In the last year, his team has flown drones over some 20 historic sites in Syria. Recently, it moved into   zones in Iraq, close to the front line in the fight against the Islamic State. The team is now analyzing the war?s effects on the remains of once thriving cities dating back some 3, 000 years, including Nineveh, Khorsabad and the thrashed temple and palace of Nimrud, where the government drove out the jihadists in November. In 2015, Islamists sent out videos showing militants using sledgehammers to break reliefs of human figures and mythical winged bulls as part of their   campaign. ?Nimrud was probably the most splendid of the Assyrian cities,? Layla Abdulkarim, a Syrian architect, said as she analyzed aerial photographs. Using drones in archaeological work is not entirely new, specialists say, but at a recent gathering in Paris researchers from Europe and the Middle East said they were now having to practice ?war archaeology,? that is, collecting reliable data from   areas. The images from the drones in war zones had proved immensely valuable. But these were barely scratching the surface. Before the war, close to 150 archaeological projects were underway, just in Syria, researchers said. Experts from many countries are trying to assess the damage in Syria?s old cities but also in the area where the Islamic State held sway that is straddling Iraq and Syria, the region that is seen as central to human history and often called the birthplace of modern economics and writing. There is an outcry for data about the havoc wreaked in Yemen by Saudi bombing. ?People are exchanging satellite images and data on blogs and other research platforms, but we have no real assessment yet because so many ancient sites are not accessible,? said Pascal Butterlin, a professor of archaeology at the Sorbonne in Paris. Time is of the essence, even in the case of    ruins, Mr. Butterlin said. He has led expeditions for more than 20 years to Mari, near Syria?s border with Iraq. Before fleeing, the guards at Mari reported that looters had come from Iraq, he said. ?We need to know what places need to be stabilized and how looters have altered the sites,? he said. ?Important evidence, like clandestine pits, can disappear very quickly through sandstorms and erosion. ? Cheikhmous Ali, a Syrian archaeologist based in France, who founded the international group the Association for the Protection of Syrian Archaeology, said reports of organized pillaging continued. A first wave of looting began in 2012, Mr. Ali said, and looting has accelerated since 2014 with the arrival of the Islamic State. While jihadists were more motivated to destroy the artifacts, they had also allowed looters to operate in exchange for money. Mr. Ali said he kept an ever changing tally of museums bombed, objects carted off, safes stolen. The exhibition in Paris, which is drawing large crowds, coincides with ?History Begins in Mesopotamia,? a show at the Louvre?s regional museum in Lens. Both exhibitions highlight the French government?s active concern about cultural damage in Syria, which was briefly controlled by France in the first half of the 20th century. Mr. Hollande has taken a strong interest, condemning the deliberate destruction of patrimony by all sides as ?war crimes. ? This past month, France offered $30 million toward a proposed $100 million fund to protect sites as fighting abates, provide emergency storage for artifacts and eventually rehabilitate monuments. At the ?Eternal Sites? opening at the Grand Palais, Mr. Hollande stressed that France was taking in more Syrian refugees trying to protect monuments of great historical and cultural importance did not mean ignoring the suffering of the population. ?Should we be concerned about the patrimony?? he asked. ?What is more important, saving lives or saving stones? In reality, these two are inseparable. ?'"
      ]
     },
     "execution_count": 48,
     "metadata": {},
     "output_type": "execute_result"
    }
   ],
   "source": [
    "data = df[['id', 'article']]\n",
    "data['article'][0]"
   ]
  },
  {
   "cell_type": "code",
   "execution_count": 49,
   "metadata": {},
   "outputs": [
    {
     "data": {
      "text/plain": [
       "[(17307,\n",
       "  'PARIS ? When the Islamic State was about to be driven out of the ancient city of Palmyra in March, Yves Ubelmann got a call from Syria?s director of antiquities to come over in a hurry. An architect by training, Mr. Ubelmann, 36, had worked in Syria before the country was engulfed by war. But now there was special urgency for the kind of work his youthful team of architects, mathematicians and designers did from their cramped offices in Paris: producing digital copies of threatened historical sites. Palmyra, parts of it already destroyed by the Islamists who deemed these monuments idolatrous, was still rigged with explosives. So he and Houmam Saad, his Syrian colleague, spent four days flying a drone with a robot camera over the crumbled arches and temples. ?Drones with four or six rotors can hover really close and register structural details, every crack and hole, and we can take very precise measurements,? said Mr. Ubelmann, who founded the company Iconem. ?This is the stuff architects and archaeologists need. ? They need it in a new push for virtual preservation that scientists, archaeologists and others, like Mr. Ubelmann, are compiling on a large scale. The records could be used to create computer models that would show how monuments and endangered historical sites might one day be restored, repaired or reconstructed. Of special interest today are ancient sites in Syria, and also Iraq, that have suffered from war, looting and the Islamic State. ?Palmyra was very difficult,? Mr. Ubelmann said. ?The terrorists were uploading videos with them blowing up monuments and smashing statues to manipulate public opinion,? he said. ?We felt the best response was to magnify the pictures of these places and show their splendor and their importance to the culture. It became a war of images. ?'),\n",
       " (17307,\n",
       "  'said. ?The terrorists were uploading videos with them blowing up monuments and smashing statues to manipulate public opinion,? he said. ?We felt the best response was to magnify the pictures of these places and show their splendor and their importance to the culture. It became a war of images. ? The latest front in that war is in the exhibition halls of the Grand Palais in Paris, where, through Jan. 9, many of the 40, 000 images he and his team took at Palmyra have become the basis for displays. Called ?Eternal Sites: From Bamiyan to Palmyra,? the show aims to draw attention to the rising threats to global heritage. To underscore the exhibition?s political importance, it was opened several weeks ago by President Fran?ois Hollande of France, who described it as ?an act of resistance? against terror and intolerance. Showing the beauty of the Middle Eastern heritage, he said, ?is the best answer to the Islamist propaganda of hate, destruction and death. ? Martinez, the director of the Louvre and the lead curator of the show, said the sites had been chosen because ?all are under threat from pillaging, neglect or destruction and are not accessible to the public. ? He said it aimed to mobilize public opinion ?in the face of the devastation of unique heritage. ? Besides images from Palmyra, the multimedia show projects enormous photographs and videos, immersing visitors in different eras, including the ancient Iraqi city of Khorsabad around 700 B. C. an mosque in Damascus and a medieval Christian citadel. Mr. Ubelmann dismissed any criticism of collaboration with the government of the Syrian president, Bashar . ?We were working pro bono, not for any government, but to help the archaeologists,? he said. They shared their work with the Syrian archaeologists, he said, adding, ?We'),\n",
       " (17307,\n",
       "  'Damascus and a medieval Christian citadel. Mr. Ubelmann dismissed any criticism of collaboration with the government of the Syrian president, Bashar . ?We were working pro bono, not for any government, but to help the archaeologists,? he said. They shared their work with the Syrian archaeologists, he said, adding, ?We also train our colleagues so they can later do this on their own. ? What is paramount is memory and potential restoration. In the last year, his team has flown drones over some 20 historic sites in Syria. Recently, it moved into zones in Iraq, close to the front line in the fight against the Islamic State. The team is now analyzing the war?s effects on the remains of once thriving cities dating back some 3, 000 years, including Nineveh, Khorsabad and the thrashed temple and palace of Nimrud, where the government drove out the jihadists in November. In 2015, Islamists sent out videos showing militants using sledgehammers to break reliefs of human figures and mythical winged bulls as part of their campaign. ?Nimrud was probably the most splendid of the Assyrian cities,? Layla Abdulkarim, a Syrian architect, said as she analyzed aerial photographs. Using drones in archaeological work is not entirely new, specialists say, but at a recent gathering in Paris researchers from Europe and the Middle East said they were now having to practice ?war archaeology,? that is, collecting reliable data from areas. The images from the drones in war zones had proved immensely valuable. But these were barely scratching the surface. Before the war, close to 150 archaeological projects were underway, just in Syria, researchers said. Experts from many countries are trying to assess the damage in Syria?s old cities but also in the area where the Islamic State held sway that is straddling Iraq and Syria,'),\n",
       " (17307,\n",
       "  'barely scratching the surface. Before the war, close to 150 archaeological projects were underway, just in Syria, researchers said. Experts from many countries are trying to assess the damage in Syria?s old cities but also in the area where the Islamic State held sway that is straddling Iraq and Syria, the region that is seen as central to human history and often called the birthplace of modern economics and writing. There is an outcry for data about the havoc wreaked in Yemen by Saudi bombing. ?People are exchanging satellite images and data on blogs and other research platforms, but we have no real assessment yet because so many ancient sites are not accessible,? said Pascal Butterlin, a professor of archaeology at the Sorbonne in Paris. Time is of the essence, even in the case of ruins, Mr. Butterlin said. He has led expeditions for more than 20 years to Mari, near Syria?s border with Iraq. Before fleeing, the guards at Mari reported that looters had come from Iraq, he said. ?We need to know what places need to be stabilized and how looters have altered the sites,? he said. ?Important evidence, like clandestine pits, can disappear very quickly through sandstorms and erosion. ? Cheikhmous Ali, a Syrian archaeologist based in France, who founded the international group the Association for the Protection of Syrian Archaeology, said reports of organized pillaging continued. A first wave of looting began in 2012, Mr. Ali said, and looting has accelerated since 2014 with the arrival of the Islamic State. While jihadists were more motivated to destroy the artifacts, they had also allowed looters to operate in exchange for money. Mr. Ali said he kept an ever changing tally of museums bombed, objects carted off, safes stolen. The exhibition in Paris, which is drawing large crowds,'),\n",
       " (17307,\n",
       "  'of the Islamic State. While jihadists were more motivated to destroy the artifacts, they had also allowed looters to operate in exchange for money. Mr. Ali said he kept an ever changing tally of museums bombed, objects carted off, safes stolen. The exhibition in Paris, which is drawing large crowds, coincides with ?History Begins in Mesopotamia,? a show at the Louvre?s regional museum in Lens. Both exhibitions highlight the French government?s active concern about cultural damage in Syria, which was briefly controlled by France in the first half of the 20th century. Mr. Hollande has taken a strong interest, condemning the deliberate destruction of patrimony by all sides as ?war crimes. ? This past month, France offered $30 million toward a proposed $100 million fund to protect sites as fighting abates, provide emergency storage for artifacts and eventually rehabilitate monuments. At the ?Eternal Sites? opening at the Grand Palais, Mr. Hollande stressed that France was taking in more Syrian refugees trying to protect monuments of great historical and cultural importance did not mean ignoring the suffering of the population. ?Should we be concerned about the patrimony?? he asked. ?What is more important, saving lives or saving stones? In reality, these two are inseparable. ?')]"
      ]
     },
     "execution_count": 49,
     "metadata": {},
     "output_type": "execute_result"
    }
   ],
   "source": [
    "data_chunk = chunk_text(data['id'], data['article'], 300, 50)\n",
    "data_chunk[:5]"
   ]
  },
  {
   "cell_type": "code",
   "execution_count": 97,
   "metadata": {},
   "outputs": [],
   "source": [
    "def get_tokenized_and_embedded_text(list_id_text, tokenizer, model):\n",
    "    id_dict = {}\n",
    "\n",
    "    for position in range(len(list_id_text)):\n",
    "        # Tokenize\n",
    "        encoding = tokenizer.encode_plus(list_id_text[position][1],\n",
    "                                       add_special_tokens=True,\n",
    "                                       padding='longest',\n",
    "                                       return_tensors='pt',\n",
    "                                       )\n",
    "        inputs = encoding['input_ids']\n",
    "        \n",
    "        # Get BERT model embeddings\n",
    "        with torch.no_grad():\n",
    "            outputs = model(inputs, attention_mask=encoding['attention_mask'])\n",
    "            \n",
    "        # Get embeddings from BERT output\n",
    "        embeddings = outputs.last_hidden_state\n",
    "        \n",
    "        # Aggregate token-level embeddings (e.g., mean pooling)\n",
    "        aggregated_embedding = torch.mean(embeddings, dim=1)\n",
    "\n",
    "        # Add to dictionary\n",
    "        if list_id_text[position][0] not in id_dict:\n",
    "            id_dict[list_id_text[position][0]] = [(inputs, aggregated_embedding)]\n",
    "        else:\n",
    "            id_dict[list_id_text[position][0]].append((inputs, aggregated_embedding))\n",
    "\n",
    "    return id_dict"
   ]
  },
  {
   "cell_type": "code",
   "execution_count": 51,
   "metadata": {},
   "outputs": [],
   "source": [
    "id_dict = get_tokenized_and_embedded_text(data_chunk, tokenizer, model)"
   ]
  },
  {
   "cell_type": "code",
   "execution_count": 77,
   "metadata": {},
   "outputs": [
    {
     "data": {
      "text/plain": [
       "dict"
      ]
     },
     "execution_count": 77,
     "metadata": {},
     "output_type": "execute_result"
    }
   ],
   "source": [
    "type(id_dict)"
   ]
  },
  {
   "cell_type": "code",
   "execution_count": 55,
   "metadata": {},
   "outputs": [
    {
     "data": {
      "text/plain": [
       "torch.Size([1, 382])"
      ]
     },
     "execution_count": 55,
     "metadata": {},
     "output_type": "execute_result"
    }
   ],
   "source": [
    "id_dict[17307][0][0].shape"
   ]
  },
  {
   "cell_type": "code",
   "execution_count": 117,
   "metadata": {},
   "outputs": [],
   "source": [
    "query = 'Who is the vice chairman of Samsung?'\n",
    "\n",
    "# Tokenize\n",
    "encoding = tokenizer.encode_plus(query, padding=True, return_tensors='pt')\n",
    "\n",
    "# Get BERT model embeddings\n",
    "with torch.no_grad():\n",
    "    output = model(encoding['input_ids'], attention_mask=encoding['attention_mask'])\n",
    "\n",
    "# Get embedding\n",
    "query_embedding = output.last_hidden_state.mean(dim=1)"
   ]
  },
  {
   "cell_type": "code",
   "execution_count": 86,
   "metadata": {},
   "outputs": [],
   "source": [
    "def cosine_similarity_with_id(query, context):\n",
    "    list_similarity = []\n",
    "    for id_ in context:\n",
    "        for value in context[id_]:\n",
    "            similarity = cosine_similarity(query, value[1])\n",
    "            list_similarity.append((id_, similarity))\n",
    "\n",
    "    return sorted(list_similarity, key=lambda x: x[1], reverse=True)"
   ]
  },
  {
   "cell_type": "code",
   "execution_count": 85,
   "metadata": {},
   "outputs": [
    {
     "data": {
      "text/plain": [
       "array([[0.58106863]], dtype=float32)"
      ]
     },
     "execution_count": 85,
     "metadata": {},
     "output_type": "execute_result"
    }
   ],
   "source": [
    "cosine_similarity(query_embedding, id_dict[17307][0][1])"
   ]
  },
  {
   "cell_type": "code",
   "execution_count": 108,
   "metadata": {},
   "outputs": [
    {
     "data": {
      "text/plain": [
       "[(17728, array([[0.7069239]], dtype=float32)),\n",
       " (18213, array([[0.6918032]], dtype=float32)),\n",
       " (17368, array([[0.68622184]], dtype=float32)),\n",
       " (17629, array([[0.68490994]], dtype=float32)),\n",
       " (18259, array([[0.68436134]], dtype=float32)),\n",
       " (17464, array([[0.684266]], dtype=float32)),\n",
       " (17941, array([[0.6784443]], dtype=float32)),\n",
       " (18243, array([[0.677635]], dtype=float32)),\n",
       " (17571, array([[0.67690897]], dtype=float32)),\n",
       " (17556, array([[0.6762433]], dtype=float32)),\n",
       " (17734, array([[0.67554784]], dtype=float32)),\n",
       " (17851, array([[0.67484605]], dtype=float32)),\n",
       " (18177, array([[0.67329407]], dtype=float32)),\n",
       " (17851, array([[0.6727227]], dtype=float32)),\n",
       " (17741, array([[0.6721135]], dtype=float32)),\n",
       " (17731, array([[0.6717809]], dtype=float32)),\n",
       " (18018, array([[0.6713518]], dtype=float32)),\n",
       " (17695, array([[0.6704113]], dtype=float32)),\n",
       " (18114, array([[0.66989475]], dtype=float32)),\n",
       " (17563, array([[0.6687263]], dtype=float32)),\n",
       " (18068, array([[0.6679863]], dtype=float32)),\n",
       " (18213, array([[0.66708905]], dtype=float32)),\n",
       " (18184, array([[0.666821]], dtype=float32)),\n",
       " (17561, array([[0.66587853]], dtype=float32)),\n",
       " (18351, array([[0.6657027]], dtype=float32)),\n",
       " (18068, array([[0.6649452]], dtype=float32)),\n",
       " (17732, array([[0.66483283]], dtype=float32)),\n",
       " (17574, array([[0.6643442]], dtype=float32)),\n",
       " (17525, array([[0.66347325]], dtype=float32)),\n",
       " (17786, array([[0.66343963]], dtype=float32))]"
      ]
     },
     "execution_count": 108,
     "metadata": {},
     "output_type": "execute_result"
    }
   ],
   "source": [
    "cosine_similarity_with_id(query_embedding, id_dict)[:30]"
   ]
  },
  {
   "cell_type": "markdown",
   "metadata": {},
   "source": [
    "Embed full text"
   ]
  },
  {
   "cell_type": "code",
   "execution_count": 99,
   "metadata": {},
   "outputs": [],
   "source": [
    "def get_tokenized_and_embedded(data, tokenizer, model):\n",
    "    id_dict = {}\n",
    "\n",
    "    for position in range(len(data)):\n",
    "        # Tokenize\n",
    "        encoding = tokenizer.encode_plus(data['article'][position],\n",
    "                                         add_special_tokens=True,\n",
    "                                         truncation=True,\n",
    "                                         padding='longest',\n",
    "                                         return_tensors='pt',\n",
    "                                         )\n",
    "        inputs = encoding['input_ids']\n",
    "        \n",
    "        # Get BERT model embeddings\n",
    "        with torch.no_grad():\n",
    "            outputs = model(inputs, attention_mask=encoding['attention_mask'])\n",
    "            \n",
    "        # Get embeddings from BERT output\n",
    "        embeddings = outputs.last_hidden_state\n",
    "        \n",
    "        # Aggregate token-level embeddings (e.g., mean pooling)\n",
    "        aggregated_embedding = torch.mean(embeddings, dim=1)\n",
    "\n",
    "        # Add to dictionary\n",
    "        id_dict[data['id'][position]] = aggregated_embedding\n",
    "\n",
    "    return id_dict"
   ]
  },
  {
   "cell_type": "code",
   "execution_count": 110,
   "metadata": {},
   "outputs": [],
   "source": [
    "def get_cosine_similarity(query, context):\n",
    "    list_similarity = []\n",
    "    for id_, text_embedd in context.items():\n",
    "        similarity = cosine_similarity(query, text_embedd)\n",
    "        list_similarity.append((id_, similarity))\n",
    "\n",
    "    return sorted(list_similarity, key=lambda x: x[1], reverse=True)"
   ]
  },
  {
   "cell_type": "code",
   "execution_count": 111,
   "metadata": {},
   "outputs": [],
   "source": [
    "id_list = get_tokenized_and_embedded(data, tokenizer, model)"
   ]
  },
  {
   "cell_type": "code",
   "execution_count": 112,
   "metadata": {},
   "outputs": [
    {
     "data": {
      "text/plain": [
       "tensor([[-1.0826e-01,  1.5632e-01,  2.5611e-01, -2.2191e-02,  2.6427e-01,\n",
       "         -1.1113e-01, -8.9729e-02,  5.7650e-01, -1.2993e-01, -1.3186e-01,\n",
       "         -1.7976e-02, -2.4482e-01, -3.1864e-01,  3.7573e-01, -4.4931e-02,\n",
       "          5.5026e-01,  2.3220e-01, -8.4037e-02, -2.1442e-01,  5.3522e-01,\n",
       "          2.8642e-01, -9.2983e-02,  1.6004e-01,  6.8769e-01,  2.9719e-01,\n",
       "         -4.0378e-03, -7.9695e-02,  1.6915e-01, -3.6810e-01, -7.0673e-02,\n",
       "          4.1963e-01, -3.5793e-02, -2.4077e-01, -4.1164e-01, -9.1535e-03,\n",
       "          3.7298e-02, -4.0273e-03, -2.0717e-01, -2.8055e-02,  2.8056e-01,\n",
       "         -5.0087e-01, -3.7250e-01, -1.9589e-01,  8.7793e-02, -2.9733e-01,\n",
       "         -1.0532e-01,  4.3566e-01,  2.1728e-01,  5.7760e-02, -1.8717e-01,\n",
       "         -3.6283e-01,  2.0059e-01,  3.6989e-02, -7.5959e-02,  3.6083e-01,\n",
       "          6.4852e-01, -2.6122e-01, -3.1875e-01, -4.6161e-01, -4.0975e-01,\n",
       "          1.3257e-01, -9.1175e-02,  9.1371e-02, -4.3389e-01,  1.0564e-01,\n",
       "          2.5243e-01, -7.5565e-02,  1.8860e-01, -5.4171e-01, -1.6541e-01,\n",
       "         -1.6293e-01, -1.2707e-01, -2.3052e-01, -8.4023e-02, -1.8151e-01,\n",
       "         -1.5196e-01,  1.9961e-02,  2.0804e-01, -6.5212e-02,  1.5582e-02,\n",
       "         -1.0277e-01,  4.2302e-01, -1.3304e-01,  3.9703e-01,  1.8387e-01,\n",
       "          2.4691e-01, -3.7181e-03,  2.1524e-01, -2.7276e-01,  3.4899e-01,\n",
       "         -1.4239e-01, -3.3225e-01,  1.9860e-01,  6.1202e-02,  2.7774e-01,\n",
       "         -1.9614e-01,  3.1904e-01,  9.0541e-02, -3.3679e-01,  5.2495e-01,\n",
       "          2.0830e-01, -2.3739e-01,  2.7305e-01,  1.0996e-01, -5.1402e-02,\n",
       "         -1.4644e-01,  1.3716e-01,  2.5145e-01, -3.8965e-01,  3.1695e-01,\n",
       "          1.8670e-01, -1.5525e-01, -6.1454e-02, -4.0485e-01, -8.6705e-02,\n",
       "         -5.8905e-02,  9.5842e-02, -2.1517e-01,  3.6765e-02,  3.1564e-01,\n",
       "          2.0057e-01, -1.4714e-01,  3.1481e-02,  6.2330e-01, -2.6199e-01,\n",
       "         -9.3098e-02,  1.1299e-01,  2.9433e-01, -3.3485e-01, -1.6995e-01,\n",
       "          4.2305e-01,  3.3871e-01,  6.5525e-02, -3.4140e-01, -1.3494e-01,\n",
       "          1.8558e-01, -6.3357e-02, -3.9399e-01, -1.9813e-01,  2.5671e-01,\n",
       "          2.1319e-01, -1.8029e-01,  3.0366e-01,  8.4953e-02,  5.5741e-02,\n",
       "         -7.5224e-02, -7.9527e-02, -2.1881e-01,  1.8581e-01,  8.8380e-02,\n",
       "          1.8579e-01, -1.5282e-01, -3.2511e-02, -2.6210e-01, -8.7621e-02,\n",
       "         -1.3103e-01, -3.3997e-01,  2.0023e-01,  8.0602e-02, -9.6529e-02,\n",
       "          2.2221e-01, -2.1697e-01,  1.0541e-02,  1.6176e-01,  4.5498e-02,\n",
       "         -2.0995e-02,  1.1752e-02,  5.6550e-01, -1.5154e-01,  7.2655e-02,\n",
       "         -1.4930e-01, -1.3221e-01,  6.8040e-01,  2.3908e-02,  4.6506e-02,\n",
       "          6.5868e-03,  3.7742e-01,  3.1708e-02,  2.2345e-01,  9.2260e-02,\n",
       "         -6.9717e-01,  2.5502e-01,  2.6513e-02, -1.0533e-02,  2.9356e-01,\n",
       "         -7.5126e-02,  1.8541e-01, -1.7776e-01,  1.4837e-01, -7.7278e-02,\n",
       "         -3.2669e-01, -2.4589e-01, -2.4714e-01, -1.4422e-01,  1.1195e-01,\n",
       "         -1.0014e-01, -7.1562e-02,  6.1077e-02, -3.2986e-01, -2.7355e-02,\n",
       "         -5.2800e-02,  1.8036e-01,  2.0370e-01, -1.3443e-01,  7.8470e-02,\n",
       "         -3.7822e-01,  2.9699e-02, -2.2338e-01,  3.0734e-02,  2.4150e-01,\n",
       "         -3.1748e-01,  3.2943e-01, -5.6970e-02,  1.8546e-01, -2.5709e-01,\n",
       "          9.1425e-02,  9.0368e-03, -2.9880e-02,  6.1489e-02, -9.6612e-02,\n",
       "         -5.0500e-02,  1.8015e-01, -6.5108e-01,  3.1286e-01, -2.3889e-01,\n",
       "          8.2162e-01,  4.7205e-02, -6.8966e-01,  2.4616e-01,  4.0414e-01,\n",
       "          6.4677e-02, -2.3795e-01,  5.2812e-01, -2.1962e-01, -6.4922e-02,\n",
       "         -8.8840e-02, -3.9753e-01, -1.5636e-01,  2.6688e-01, -3.9114e-01,\n",
       "         -1.1435e-01,  3.4640e-01,  4.4204e-01,  2.6879e-02,  3.9992e-02,\n",
       "         -1.5403e-01,  3.9417e-02,  5.5970e-02, -7.5683e-02, -2.8857e-01,\n",
       "         -7.4508e-01, -2.4854e-01, -1.9617e-01, -3.8576e-01, -6.2549e-02,\n",
       "         -1.6575e-01, -2.1031e-02, -2.0120e-01,  1.5696e-02,  2.3655e-01,\n",
       "          3.3276e-01, -3.8777e-02, -1.5743e-01,  1.3988e-01, -2.6598e-01,\n",
       "         -4.6218e-01,  1.5315e-01,  1.1649e-01,  3.1543e-01,  2.5448e-01,\n",
       "          1.3596e-01,  4.5315e-02,  2.4193e-01,  8.2351e-01, -2.9916e-01,\n",
       "         -3.6788e-03,  3.0610e-02,  2.3341e-01,  3.8247e-02,  6.7741e-02,\n",
       "          2.4659e-01,  4.2923e-01, -4.0727e-01,  9.8603e-03, -4.0565e-01,\n",
       "         -1.7102e-02,  2.9580e-01, -7.5447e-02, -6.3153e-02, -1.2610e-01,\n",
       "         -1.6850e-01,  2.2476e-02, -2.3697e-01, -1.4582e-01,  1.6657e-01,\n",
       "         -8.5528e-04,  1.5795e-01, -3.0823e-02,  1.4803e-01, -1.1145e-02,\n",
       "         -2.8717e-01, -1.1367e-01,  7.5366e-02,  2.9261e-01, -5.0048e-02,\n",
       "          1.8688e-01,  3.4424e-02, -2.0296e-01, -3.7226e+00, -8.2308e-02,\n",
       "          3.5841e-01, -1.0290e-01,  2.0081e-01,  1.4443e-01, -2.0429e-01,\n",
       "         -1.9022e-01, -4.2506e-01,  1.6072e-02,  8.8613e-02, -4.3560e-01,\n",
       "          2.5664e-01,  2.6066e-01,  3.1352e-01, -7.2468e-02,  1.5161e-01,\n",
       "         -3.2179e-01, -1.5134e-01,  3.0454e-01, -2.2478e-01, -5.8132e-01,\n",
       "          1.8244e-01, -1.1386e-01,  2.2980e-01,  4.6868e-01, -2.5199e-01,\n",
       "         -2.8351e-01, -2.2031e-01, -1.2520e-01, -1.1825e-01, -1.4060e-01,\n",
       "          7.5026e-02,  4.2895e-01,  2.3252e-01,  8.8305e-02,  2.4156e-01,\n",
       "         -3.9067e-01, -4.5263e-01, -5.5202e-01, -7.7482e-02, -6.5282e-01,\n",
       "         -8.1000e-02, -4.6860e-02,  7.7946e-01, -2.3135e-01,  4.2299e-02,\n",
       "         -2.4425e-01,  1.4814e-01,  1.3635e-02,  1.0820e-01,  3.5893e-02,\n",
       "         -2.8015e-01, -3.0644e-02, -2.1125e-01, -2.7123e-03,  3.8365e-01,\n",
       "          2.7024e-01, -1.8038e-01, -2.2373e-01,  1.8229e-01, -8.8699e-02,\n",
       "         -4.0650e-01,  4.8222e-02, -1.5203e-01, -2.1219e-01, -4.1523e-01,\n",
       "         -2.1530e-01,  9.7611e-02,  1.4501e-01, -3.2646e-01,  3.1582e-01,\n",
       "         -6.3990e-01, -3.6956e-01, -2.9102e-02, -3.1874e-01,  2.1676e-01,\n",
       "         -2.5344e-01, -3.9459e-02, -6.5115e-02, -2.4033e-01, -5.8969e-01,\n",
       "          1.6512e-01, -2.8128e-01, -3.5020e-02, -5.5929e-01,  1.4330e-01,\n",
       "         -1.5762e-01, -5.2775e-02, -6.0579e-01,  3.5510e-01,  3.2717e-02,\n",
       "          1.2993e-01,  1.4348e-01,  2.3758e-01,  8.9841e-02,  3.4788e-01,\n",
       "         -1.7998e-01,  2.8378e-01, -1.5002e-01,  1.8214e-02, -1.1403e-01,\n",
       "          4.6348e-01, -8.9293e-02,  5.7468e-02, -6.5106e-02, -1.5359e-01,\n",
       "          2.8191e-01,  5.8933e-02,  7.4622e-02,  1.1302e-01, -2.9166e-01,\n",
       "          5.8469e-01, -3.2285e-01, -1.9226e-03, -1.4001e-01,  4.6424e-01,\n",
       "          6.9725e-01,  8.8354e-03, -1.5404e-01, -5.0337e-02,  4.1364e-01,\n",
       "         -2.1735e-01, -8.7914e-02, -1.8079e-01, -2.2118e-02, -2.7776e-01,\n",
       "          2.2618e-01,  8.6601e-02, -1.6207e-02, -2.0418e-01, -1.2121e-01,\n",
       "          1.1868e-01,  3.7417e-01,  4.5120e-01,  2.7179e-03, -8.1015e-02,\n",
       "         -8.0478e-01, -1.5834e-01,  4.4560e-01,  1.0243e-01,  2.9584e-01,\n",
       "         -3.8407e-03, -9.3195e-02,  8.9223e-02,  4.9324e-01,  1.5418e-01,\n",
       "          1.0250e-01, -9.0251e-03,  1.4168e-01, -5.1637e-01, -6.8311e-02,\n",
       "         -1.9540e-01, -1.3386e-01,  8.9944e-02,  3.7046e-01,  3.0392e-01,\n",
       "         -5.6814e-02,  7.9617e-03, -3.2817e-01,  1.4756e-01,  1.4483e-01,\n",
       "          2.6463e-01,  2.1839e-01, -1.7180e-02,  3.6357e-01,  1.1744e-01,\n",
       "         -6.7156e-02, -1.4304e-01,  1.3168e-01, -2.2620e-01, -4.6039e-02,\n",
       "         -4.2478e-02, -2.5753e-01, -2.8340e-01,  3.3096e-01, -1.5737e-01,\n",
       "         -1.8757e-01, -1.2678e-01,  2.6465e-01, -1.3511e-01,  6.8910e-02,\n",
       "         -1.2703e-01, -1.2090e-01,  4.0738e-01,  2.7461e-01,  1.7787e-01,\n",
       "         -3.2041e-01, -3.0029e-01,  9.4008e-02,  2.5788e-01,  2.0697e-01,\n",
       "         -1.2554e-01, -1.4517e-02, -2.3841e-01, -3.1407e-01,  2.8531e-01,\n",
       "         -3.2707e-01,  2.6945e-02,  2.6941e-01,  1.1733e-01, -1.5303e-01,\n",
       "         -3.0693e-01,  2.5517e-01,  2.6109e-02, -3.7733e-01,  1.1485e-01,\n",
       "          2.0250e-01,  8.0086e-02,  1.0127e-01, -4.9539e-01, -1.7264e-01,\n",
       "         -2.3207e-01,  1.2299e-01,  7.7520e-02, -2.7739e-01, -7.8338e-02,\n",
       "         -3.5331e-01, -4.2344e-01,  5.3231e-02, -1.1618e-01, -6.4618e-02,\n",
       "          2.7008e-02,  1.7380e-02, -3.3853e-01, -1.1939e-01,  5.3278e-02,\n",
       "         -4.2707e-02, -3.6553e-01, -3.1910e-01,  2.0717e-01, -8.8318e-01,\n",
       "          5.8205e-03,  1.3234e-01,  7.8235e-02,  5.5099e-02,  1.1310e-01,\n",
       "         -6.2367e-01, -2.2755e-01, -1.2056e-01,  6.6799e-02, -5.7964e-02,\n",
       "         -1.7285e-01, -2.4701e-01,  1.6317e-01,  1.8131e-02, -1.8556e-01,\n",
       "          4.7367e-01, -1.4860e-03,  1.6614e-01, -2.6461e-01,  2.1610e-01,\n",
       "         -2.1912e-01, -4.6416e-01,  8.5170e-02, -4.1552e-01, -1.9763e-01,\n",
       "         -8.5660e-02, -1.8009e-01, -1.8165e-01, -1.8865e-01, -3.1109e-01,\n",
       "         -9.8203e-03,  1.7224e-03,  2.4635e-01, -8.9735e-02, -5.6001e-02,\n",
       "          4.8109e-02,  1.4336e-01, -4.1029e-01, -2.5544e-02, -1.4825e-01,\n",
       "         -1.1609e-01, -9.6325e-02,  1.6972e-02,  4.4796e-02, -3.4981e-02,\n",
       "         -3.8600e-01,  2.5785e-01, -7.5646e-01, -1.4535e-01,  1.3699e-01,\n",
       "         -7.9703e-02, -2.0070e-01,  1.5506e-01, -5.6016e-01,  7.2408e-02,\n",
       "          5.8354e-01,  1.3202e-01, -6.7185e-02,  1.9297e-01, -2.9751e-02,\n",
       "          4.2133e-02,  3.7228e-01, -9.6065e-02,  5.6253e-02,  4.7438e-01,\n",
       "          2.3132e-01, -6.3431e-02, -2.0246e-02,  9.9917e-04, -9.2782e-02,\n",
       "          1.9079e-01,  7.2619e-02, -8.1209e-02, -4.6020e-02,  9.0865e-02,\n",
       "         -4.8155e-01,  1.7845e-02,  1.4898e-01, -1.3204e-01, -4.1101e-01,\n",
       "          5.4596e-01,  2.7957e-01, -2.9471e-01, -2.2491e-01,  1.1524e-01,\n",
       "         -7.9216e-02, -2.8785e-02, -2.6246e-02,  2.3621e-01,  6.4759e-02,\n",
       "          4.2253e-01,  1.5989e-02,  3.0326e-01,  4.8133e-01, -6.5065e-02,\n",
       "         -1.8389e-01, -1.0377e-01,  1.1657e-01, -3.9354e-02,  6.1161e-01,\n",
       "         -3.5237e-01,  3.0775e-01, -1.5098e-01, -2.0052e-01,  2.5457e-03,\n",
       "          1.7651e-01,  3.3062e-01, -1.3184e-01,  9.9961e-02,  8.6567e-02,\n",
       "          3.2626e-01,  2.4000e-01,  3.1204e-01,  3.1464e-01,  2.6471e-01,\n",
       "         -5.7212e-02,  6.8024e-01,  3.9403e-01,  1.6945e-01,  2.6327e-01,\n",
       "         -1.3352e-01, -8.2291e-03,  2.2960e-01,  7.2574e-02,  1.5571e-01,\n",
       "          4.0719e-01,  1.5579e-01,  8.6638e-01,  1.7282e-01,  3.1956e-01,\n",
       "          5.6074e-01, -4.1050e-01, -7.4373e-03,  2.3836e-01,  6.1124e-02,\n",
       "         -3.5871e-01,  6.7099e-02, -1.3526e-01,  2.0363e-01,  3.6423e-02,\n",
       "         -2.4628e-01, -3.2491e-01, -5.3458e-02,  2.4011e-01, -1.8838e-02,\n",
       "         -8.1581e-02, -2.7272e-01,  1.5778e-01, -6.3149e-02, -2.5072e-01,\n",
       "         -2.6044e-01, -5.8505e-02, -1.3382e-01, -2.2688e-01,  6.4598e-02,\n",
       "         -1.8448e-01, -2.9327e-01, -3.4885e-01, -6.0390e-02, -1.3473e-01,\n",
       "         -2.6676e-02, -1.0621e-01, -1.4336e-01, -3.3448e-01,  3.2128e-01,\n",
       "          1.6091e-01,  2.5492e-01, -1.0979e-01,  2.6753e-01, -2.4307e-01,\n",
       "         -4.0646e-01,  5.9847e-02,  1.2116e-01, -8.8559e-02,  1.0906e-02,\n",
       "          2.4140e-01, -1.7848e-01,  1.2069e-01, -3.8460e-02,  3.4517e-01,\n",
       "         -4.2541e-01,  5.1328e-02, -3.9473e-01,  1.5358e-01, -1.3179e-01,\n",
       "          4.2455e-02, -8.4768e-02,  3.5330e-02, -2.3872e-01, -4.7435e-01,\n",
       "         -1.2455e-02, -2.7202e-02, -2.7780e-01,  9.4297e-02,  4.1741e-01,\n",
       "          2.0971e-01, -1.9780e-01,  3.1102e-03,  7.0249e-02,  3.0144e-01,\n",
       "         -5.7469e-02, -1.2073e-01, -3.6823e-01, -2.2035e-01, -1.6178e-01,\n",
       "          7.6027e-03, -3.0814e-01, -8.6785e-02,  2.0348e-01,  2.5107e-01,\n",
       "         -4.7899e-02, -1.3175e-01,  7.2511e-01, -2.1538e-01, -3.6354e-01,\n",
       "         -1.2429e-01, -3.2739e-02, -1.6953e-01, -1.5265e-01,  5.6161e-02,\n",
       "          2.2470e-01, -2.8777e-01, -1.4799e-01, -3.0018e-01, -5.1899e-02,\n",
       "         -2.1196e-01,  1.1325e-01, -7.0163e-02]])"
      ]
     },
     "execution_count": 112,
     "metadata": {},
     "output_type": "execute_result"
    }
   ],
   "source": [
    "id_list[17307]"
   ]
  },
  {
   "cell_type": "code",
   "execution_count": 118,
   "metadata": {},
   "outputs": [
    {
     "data": {
      "text/plain": [
       "[(17980, array([[0.66054296]], dtype=float32)),\n",
       " (18213, array([[0.655092]], dtype=float32)),\n",
       " (17619, array([[0.6510023]], dtype=float32)),\n",
       " (18303, array([[0.6490078]], dtype=float32)),\n",
       " (17312, array([[0.64875615]], dtype=float32)),\n",
       " (17638, array([[0.64840347]], dtype=float32)),\n",
       " (17414, array([[0.64800763]], dtype=float32)),\n",
       " (17497, array([[0.64688313]], dtype=float32)),\n",
       " (17728, array([[0.6466852]], dtype=float32)),\n",
       " (17940, array([[0.6465748]], dtype=float32)),\n",
       " (17764, array([[0.6464273]], dtype=float32)),\n",
       " (18068, array([[0.64614534]], dtype=float32)),\n",
       " (17970, array([[0.645794]], dtype=float32)),\n",
       " (17629, array([[0.64481854]], dtype=float32)),\n",
       " (17734, array([[0.6445072]], dtype=float32)),\n",
       " (17888, array([[0.6443051]], dtype=float32)),\n",
       " (17574, array([[0.6439115]], dtype=float32)),\n",
       " (18391, array([[0.6435727]], dtype=float32)),\n",
       " (18276, array([[0.64287126]], dtype=float32)),\n",
       " (18420, array([[0.64269054]], dtype=float32)),\n",
       " (17354, array([[0.64189625]], dtype=float32)),\n",
       " (17858, array([[0.6406927]], dtype=float32)),\n",
       " (17670, array([[0.64028025]], dtype=float32)),\n",
       " (17690, array([[0.6400598]], dtype=float32)),\n",
       " (17802, array([[0.63971335]], dtype=float32)),\n",
       " (18328, array([[0.6396505]], dtype=float32)),\n",
       " (17571, array([[0.638605]], dtype=float32)),\n",
       " (17851, array([[0.6384051]], dtype=float32)),\n",
       " (17790, array([[0.6383011]], dtype=float32)),\n",
       " (18363, array([[0.63815844]], dtype=float32))]"
      ]
     },
     "execution_count": 118,
     "metadata": {},
     "output_type": "execute_result"
    }
   ],
   "source": [
    "get_cosine_similarity(query_embedding, id_list)[:30]"
   ]
  },
  {
   "cell_type": "markdown",
   "metadata": {},
   "source": [
    "### Preprocess before BERT"
   ]
  },
  {
   "cell_type": "code",
   "execution_count": 128,
   "metadata": {},
   "outputs": [],
   "source": [
    "# Create a function to clean data\n",
    "def clean_text(text):\n",
    "    # Remove non-ASCII characters\n",
    "    text = ''.join([char for char in text if ord(char) < 128])\n",
    "\n",
    "    # Lowercase\n",
    "    text = text.lower()\n",
    "\n",
    "    # Remove stop words\n",
    "    stop_words = set(stopwords.words('english'))\n",
    "    words = [word for word in text.split() if word not in stop_words]\n",
    "    text = ' '.join(words)\n",
    "\n",
    "    # Remove numbers\n",
    "    text = re.sub(r'[0-9]', '', text)\n",
    "\n",
    "    # Remove punctuation\n",
    "    text = re.sub(r'[^\\w\\s]', '', text)\n",
    "\n",
    "    # Remove single character\n",
    "    text = re.sub(r'\\s+[a-zA-Z]\\s+', ' ', text)\n",
    "\n",
    "    # Remove multiple spaces\n",
    "    text = re.sub(r'\\s+', ' ', text)\n",
    "\n",
    "    # Tokenize\n",
    "    tokens = word_tokenize(text)\n",
    "\n",
    "    # Lemmatize\n",
    "    text = ' '.join(tokens)\n",
    "    doc = nlp(text)\n",
    "    tokens = [token.lemma_ for token in doc]\n",
    "\n",
    "    return ' '.join(tokens)"
   ]
  },
  {
   "cell_type": "code",
   "execution_count": 129,
   "metadata": {},
   "outputs": [
    {
     "name": "stderr",
     "output_type": "stream",
     "text": [
      "C:\\Users\\nguye\\AppData\\Local\\Temp\\ipykernel_18296\\2687009515.py:1: SettingWithCopyWarning: \n",
      "A value is trying to be set on a copy of a slice from a DataFrame.\n",
      "Try using .loc[row_indexer,col_indexer] = value instead\n",
      "\n",
      "See the caveats in the documentation: https://pandas.pydata.org/pandas-docs/stable/user_guide/indexing.html#returning-a-view-versus-a-copy\n",
      "  data.loc[:,'article_cleaned'] = data['article'].apply(clean_text)\n"
     ]
    }
   ],
   "source": [
    "data.loc[:,'article_cleaned'] = data['article'].apply(clean_text)"
   ]
  },
  {
   "cell_type": "code",
   "execution_count": 132,
   "metadata": {},
   "outputs": [
    {
     "name": "stderr",
     "output_type": "stream",
     "text": [
      "C:\\Users\\nguye\\AppData\\Local\\Temp\\ipykernel_18296\\4265389592.py:2: SettingWithCopyWarning: \n",
      "A value is trying to be set on a copy of a slice from a DataFrame\n",
      "\n",
      "See the caveats in the documentation: https://pandas.pydata.org/pandas-docs/stable/user_guide/indexing.html#returning-a-view-versus-a-copy\n",
      "  data_cleaned.rename(columns={'article_cleaned': 'article'}, inplace=True)\n"
     ]
    },
    {
     "data": {
      "text/html": [
       "<div>\n",
       "<style scoped>\n",
       "    .dataframe tbody tr th:only-of-type {\n",
       "        vertical-align: middle;\n",
       "    }\n",
       "\n",
       "    .dataframe tbody tr th {\n",
       "        vertical-align: top;\n",
       "    }\n",
       "\n",
       "    .dataframe thead th {\n",
       "        text-align: right;\n",
       "    }\n",
       "</style>\n",
       "<table border=\"1\" class=\"dataframe\">\n",
       "  <thead>\n",
       "    <tr style=\"text-align: right;\">\n",
       "      <th></th>\n",
       "      <th>id</th>\n",
       "      <th>article</th>\n",
       "    </tr>\n",
       "  </thead>\n",
       "  <tbody>\n",
       "    <tr>\n",
       "      <th>0</th>\n",
       "      <td>17307</td>\n",
       "      <td>paris islamic state drive ancient city palmyra...</td>\n",
       "    </tr>\n",
       "    <tr>\n",
       "      <th>1</th>\n",
       "      <td>17292</td>\n",
       "      <td>angel everywhere muiz familys apartment bronx ...</td>\n",
       "    </tr>\n",
       "    <tr>\n",
       "      <th>2</th>\n",
       "      <td>17298</td>\n",
       "      <td>finally second avenue subway open new york cit...</td>\n",
       "    </tr>\n",
       "    <tr>\n",
       "      <th>3</th>\n",
       "      <td>17311</td>\n",
       "      <td>washington its time republicans tumultuous dec...</td>\n",
       "    </tr>\n",
       "    <tr>\n",
       "      <th>4</th>\n",
       "      <td>17339</td>\n",
       "      <td>megyn kelly shift fox news nbc host daily dayt...</td>\n",
       "    </tr>\n",
       "  </tbody>\n",
       "</table>\n",
       "</div>"
      ],
      "text/plain": [
       "      id                                            article\n",
       "0  17307  paris islamic state drive ancient city palmyra...\n",
       "1  17292  angel everywhere muiz familys apartment bronx ...\n",
       "2  17298  finally second avenue subway open new york cit...\n",
       "3  17311  washington its time republicans tumultuous dec...\n",
       "4  17339  megyn kelly shift fox news nbc host daily dayt..."
      ]
     },
     "execution_count": 132,
     "metadata": {},
     "output_type": "execute_result"
    }
   ],
   "source": [
    "data_cleaned = data[['id', 'article_cleaned']]\n",
    "data_cleaned.rename(columns={'article_cleaned': 'article'}, inplace=True)\n",
    "data_cleaned.head()"
   ]
  },
  {
   "cell_type": "code",
   "execution_count": 133,
   "metadata": {},
   "outputs": [],
   "source": [
    "id_list_cleaned = get_tokenized_and_embedded(data_cleaned, tokenizer, model)"
   ]
  },
  {
   "cell_type": "code",
   "execution_count": 137,
   "metadata": {},
   "outputs": [],
   "source": [
    "query = clean_text(query)\n",
    "\n",
    "# Tokenize\n",
    "encoding = tokenizer.encode_plus(query, padding=True, return_tensors='pt')\n",
    "\n",
    "# Get BERT model embeddings\n",
    "with torch.no_grad():\n",
    "    output = model(encoding['input_ids'], attention_mask=encoding['attention_mask'])\n",
    "\n",
    "# Get embedding\n",
    "query_embedding = output.last_hidden_state.mean(dim=1)\n"
   ]
  },
  {
   "cell_type": "code",
   "execution_count": 141,
   "metadata": {},
   "outputs": [
    {
     "data": {
      "text/plain": [
       "[(17929, array([[0.4088353]], dtype=float32)),\n",
       " (17976, array([[0.39024156]], dtype=float32)),\n",
       " (18067, array([[0.38874054]], dtype=float32)),\n",
       " (17779, array([[0.38761872]], dtype=float32)),\n",
       " (18293, array([[0.38514116]], dtype=float32)),\n",
       " (18364, array([[0.3767106]], dtype=float32)),\n",
       " (18273, array([[0.3765701]], dtype=float32)),\n",
       " (17807, array([[0.37559986]], dtype=float32)),\n",
       " (18213, array([[0.37556866]], dtype=float32)),\n",
       " (18240, array([[0.3749548]], dtype=float32)),\n",
       " (17515, array([[0.3736099]], dtype=float32)),\n",
       " (18262, array([[0.371885]], dtype=float32)),\n",
       " (18410, array([[0.37058473]], dtype=float32)),\n",
       " (18413, array([[0.36887658]], dtype=float32)),\n",
       " (18297, array([[0.36682183]], dtype=float32)),\n",
       " (17335, array([[0.36463523]], dtype=float32)),\n",
       " (17371, array([[0.36447257]], dtype=float32)),\n",
       " (17398, array([[0.36398777]], dtype=float32)),\n",
       " (18128, array([[0.36247224]], dtype=float32)),\n",
       " (17354, array([[0.3621183]], dtype=float32)),\n",
       " (18401, array([[0.36137396]], dtype=float32)),\n",
       " (17482, array([[0.36078012]], dtype=float32)),\n",
       " (18362, array([[0.36047432]], dtype=float32)),\n",
       " (18132, array([[0.3600365]], dtype=float32)),\n",
       " (17376, array([[0.3595533]], dtype=float32)),\n",
       " (18201, array([[0.3592245]], dtype=float32)),\n",
       " (17587, array([[0.35825133]], dtype=float32)),\n",
       " (18260, array([[0.35716712]], dtype=float32)),\n",
       " (17629, array([[0.35683605]], dtype=float32)),\n",
       " (18420, array([[0.35620743]], dtype=float32))]"
      ]
     },
     "execution_count": 141,
     "metadata": {},
     "output_type": "execute_result"
    }
   ],
   "source": [
    "get_cosine_similarity(query_embedding, id_list_cleaned)[:30]"
   ]
  }
 ],
 "metadata": {
  "kernelspec": {
   "display_name": ".venv",
   "language": "python",
   "name": "python3"
  },
  "language_info": {
   "codemirror_mode": {
    "name": "ipython",
    "version": 3
   },
   "file_extension": ".py",
   "mimetype": "text/x-python",
   "name": "python",
   "nbconvert_exporter": "python",
   "pygments_lexer": "ipython3",
   "version": "3.11.5"
  }
 },
 "nbformat": 4,
 "nbformat_minor": 2
}
