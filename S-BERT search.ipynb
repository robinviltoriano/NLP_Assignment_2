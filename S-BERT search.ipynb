{
 "cells": [
  {
   "cell_type": "code",
   "execution_count": 11,
   "metadata": {},
   "outputs": [],
   "source": [
    "import pandas as pd\n",
    "import time\n",
    "import re\n",
    "from tqdm import tqdm\n",
    "import seaborn as sns\n",
    "import numpy as np\n",
    "from textblob import TextBlob\n",
    "import matplotlib.pyplot as plt\n",
    "from sentence_transformers import SentenceTransformer\n",
    "model = SentenceTransformer('msmarco-distilbert-base-dot-prod-v3')"
   ]
  },
  {
   "cell_type": "code",
   "execution_count": 9,
   "metadata": {},
   "outputs": [
    {
     "data": {
      "text/html": [
       "<div>\n",
       "<style scoped>\n",
       "    .dataframe tbody tr th:only-of-type {\n",
       "        vertical-align: middle;\n",
       "    }\n",
       "\n",
       "    .dataframe tbody tr th {\n",
       "        vertical-align: top;\n",
       "    }\n",
       "\n",
       "    .dataframe thead th {\n",
       "        text-align: right;\n",
       "    }\n",
       "</style>\n",
       "<table border=\"1\" class=\"dataframe\">\n",
       "  <thead>\n",
       "    <tr style=\"text-align: right;\">\n",
       "      <th></th>\n",
       "      <th>id</th>\n",
       "      <th>article</th>\n",
       "    </tr>\n",
       "  </thead>\n",
       "  <tbody>\n",
       "    <tr>\n",
       "      <th>0</th>\n",
       "      <td>17307</td>\n",
       "      <td>PARIS  ?   When the Islamic State was about to...</td>\n",
       "    </tr>\n",
       "    <tr>\n",
       "      <th>1</th>\n",
       "      <td>17292</td>\n",
       "      <td>Angels are everywhere in the Mu?iz family?s ap...</td>\n",
       "    </tr>\n",
       "    <tr>\n",
       "      <th>2</th>\n",
       "      <td>17298</td>\n",
       "      <td>Finally. The Second Avenue subway opened in Ne...</td>\n",
       "    </tr>\n",
       "    <tr>\n",
       "      <th>3</th>\n",
       "      <td>17311</td>\n",
       "      <td>WASHINGTON  ?   It?s   or   time for Republica...</td>\n",
       "    </tr>\n",
       "    <tr>\n",
       "      <th>4</th>\n",
       "      <td>17339</td>\n",
       "      <td>For Megyn Kelly, the shift from Fox News to NB...</td>\n",
       "    </tr>\n",
       "  </tbody>\n",
       "</table>\n",
       "</div>"
      ],
      "text/plain": [
       "      id                                            article\n",
       "0  17307  PARIS  ?   When the Islamic State was about to...\n",
       "1  17292  Angels are everywhere in the Mu?iz family?s ap...\n",
       "2  17298  Finally. The Second Avenue subway opened in Ne...\n",
       "3  17311  WASHINGTON  ?   It?s   or   time for Republica...\n",
       "4  17339  For Megyn Kelly, the shift from Fox News to NB..."
      ]
     },
     "execution_count": 9,
     "metadata": {},
     "output_type": "execute_result"
    }
   ],
   "source": [
    "df = pd.read_csv('news_dataset.csv', encoding='latin-1')\n",
    "data = df[['id', 'article']]\n",
    "data.head()"
   ]
  },
  {
   "cell_type": "code",
   "execution_count": 12,
   "metadata": {},
   "outputs": [],
   "source": [
    "# Create a function to clean data\n",
    "def clean_text(text):\n",
    "    # Remove non-ASCII characters\n",
    "    text = ''.join([char for char in text if ord(char) < 128])\n",
    "\n",
    "    # Remove multiple spaces\n",
    "    text = re.sub(r'\\s+', ' ', text)\n",
    "\n",
    "    # Remove question mark problems\n",
    "    text = re.sub(r'(\\s\\?)',' ',text)\n",
    "    text = re.sub(r\"\\b\\?\\b\", \"\\'\", text)\n",
    "    text = re.sub(r\"(,\\?)\",\",\", text)\n",
    "    text = re.sub(r\"\\?+\", \"?\", text)\n",
    "    text = text.strip()\n",
    "\n",
    "    return text"
   ]
  },
  {
   "cell_type": "code",
   "execution_count": 81,
   "metadata": {},
   "outputs": [],
   "source": [
    "def chunk_text(data_index, data_text, chunk_size, chunk_overlap):\n",
    "\n",
    "    list_chunk_text = []\n",
    "\n",
    "    for position in range(len(data_index)):\n",
    "\n",
    "        words = clean_text(data_text[position]).split()\n",
    "\n",
    "        start = 0\n",
    "        part = 1\n",
    "        while start < len(words):\n",
    "            end = start + chunk_size\n",
    "            segment = ' '.join(words[start:end])\n",
    "            list_chunk_text.append((str(data_index[position]) + str(part), segment))\n",
    "            part += 1\n",
    "            start += (chunk_size - chunk_overlap)\n",
    "\n",
    "    return pd.DataFrame(list_chunk_text, columns=['id', 'article'])"
   ]
  },
  {
   "cell_type": "code",
   "execution_count": 82,
   "metadata": {},
   "outputs": [],
   "source": [
    "data_chunk = chunk_text(data['id'], data['article'], 500, 50)"
   ]
  },
  {
   "cell_type": "code",
   "execution_count": 83,
   "metadata": {},
   "outputs": [
    {
     "data": {
      "text/html": [
       "<div>\n",
       "<style scoped>\n",
       "    .dataframe tbody tr th:only-of-type {\n",
       "        vertical-align: middle;\n",
       "    }\n",
       "\n",
       "    .dataframe tbody tr th {\n",
       "        vertical-align: top;\n",
       "    }\n",
       "\n",
       "    .dataframe thead th {\n",
       "        text-align: right;\n",
       "    }\n",
       "</style>\n",
       "<table border=\"1\" class=\"dataframe\">\n",
       "  <thead>\n",
       "    <tr style=\"text-align: right;\">\n",
       "      <th></th>\n",
       "      <th>id</th>\n",
       "      <th>article</th>\n",
       "    </tr>\n",
       "  </thead>\n",
       "  <tbody>\n",
       "    <tr>\n",
       "      <th>0</th>\n",
       "      <td>173071</td>\n",
       "      <td>PARIS ? When the Islamic State was about to be...</td>\n",
       "    </tr>\n",
       "    <tr>\n",
       "      <th>1</th>\n",
       "      <td>173072</td>\n",
       "      <td>? He said it aimed to mobilize public opinion ...</td>\n",
       "    </tr>\n",
       "    <tr>\n",
       "      <th>2</th>\n",
       "      <td>173073</td>\n",
       "      <td>near Syria?s border with Iraq. Before fleeing,...</td>\n",
       "    </tr>\n",
       "    <tr>\n",
       "      <th>3</th>\n",
       "      <td>172921</td>\n",
       "      <td>Angels are everywhere in the Mu?iz family?s ap...</td>\n",
       "    </tr>\n",
       "    <tr>\n",
       "      <th>4</th>\n",
       "      <td>172922</td>\n",
       "      <td>Mu?iz?s life, surgeons removed his tongue and ...</td>\n",
       "    </tr>\n",
       "  </tbody>\n",
       "</table>\n",
       "</div>"
      ],
      "text/plain": [
       "       id                                            article\n",
       "0  173071  PARIS ? When the Islamic State was about to be...\n",
       "1  173072  ? He said it aimed to mobilize public opinion ...\n",
       "2  173073  near Syria?s border with Iraq. Before fleeing,...\n",
       "3  172921  Angels are everywhere in the Mu?iz family?s ap...\n",
       "4  172922  Mu?iz?s life, surgeons removed his tongue and ..."
      ]
     },
     "execution_count": 83,
     "metadata": {},
     "output_type": "execute_result"
    }
   ],
   "source": [
    "data_chunk.head()"
   ]
  },
  {
   "cell_type": "code",
   "execution_count": 86,
   "metadata": {},
   "outputs": [],
   "source": [
    "def fetch_data_info(dataframe_idx):\n",
    "    info = data_chunk.iloc[dataframe_idx]\n",
    "    meta_dict = {}\n",
    "    meta_dict['id'] = info['id']\n",
    "    meta_dict['article'] = info['article'][:500]\n",
    "    return meta_dict\n",
    "\n",
    "    \n",
    "def search(query, top_k, index, model):\n",
    "    query_vector = model.encode([query])\n",
    "    top_k = index.search(query_vector, top_k)\n",
    "    top_k_ids = list(top_k[1].tolist()[0])\n",
    "    # print(top_k_ids)\n",
    "    # top_k_ids = list(np.unique(top_k_ids))\n",
    "    results =  [fetch_data_info(idx) for idx in top_k_ids]\n",
    "    return results"
   ]
  },
  {
   "cell_type": "code",
   "execution_count": 28,
   "metadata": {},
   "outputs": [],
   "source": [
    "encoded_data = model.encode(data_chunk['article'].tolist())\n",
    "encoded_data = np.asarray(encoded_data.astype('float32'))"
   ]
  },
  {
   "cell_type": "code",
   "execution_count": 44,
   "metadata": {},
   "outputs": [
    {
     "data": {
      "text/plain": [
       "768"
      ]
     },
     "execution_count": 44,
     "metadata": {},
     "output_type": "execute_result"
    }
   ],
   "source": [
    "len(encoded_data[161])"
   ]
  },
  {
   "cell_type": "code",
   "execution_count": 87,
   "metadata": {},
   "outputs": [],
   "source": [
    "import faiss\n",
    "index = faiss.IndexIDMap(faiss.IndexFlatIP(768))\n",
    "# index.add_with_ids(encoded_data, np.array(data_chunk['id'].values))\n",
    "index.add_with_ids(encoded_data, np.array(range(0, len(data_chunk))))\n",
    "faiss.write_index(index, 'data_article.index')"
   ]
  },
  {
   "cell_type": "code",
   "execution_count": 68,
   "metadata": {},
   "outputs": [
    {
     "data": {
      "text/plain": [
       "3012"
      ]
     },
     "execution_count": 68,
     "metadata": {},
     "output_type": "execute_result"
    }
   ],
   "source": [
    "len(data_chunk)"
   ]
  },
  {
   "cell_type": "code",
   "execution_count": 91,
   "metadata": {},
   "outputs": [
    {
     "data": {
      "text/plain": [
       "[{'id': '175741',\n",
       "  'article': 'SEOUL, South Korea ? A special prosecutor investigating the corruption scandal that led to President Park ?s impeachment summoned the de facto head of Samsung for questioning on Wednesday, calling him a bribery suspect. The de facto leader, Jay Y. Lee, the vice chairman of Samsung, will be questioned on Thursday, according to the special prosecutor?s office, which recommended that he also be investigated on suspicion of perjury. Mr. Lee effectively runs Samsung, South Korea?s largest conglomerat'},\n",
       " {'id': '178513',\n",
       "  'article': 'in the Korean decision,? said Don Rosenberg, a lawyer for Qualcomm. The regulators, he said, ?were prodded and misled by commercial interests. ? In an email, Jee, a spokeswoman for Samsung, said it ?was one of many multinational corporations? that responded to questions from South Korean regulators. Qualcomm?s lawyer figures the Korean case may take years to move through the courts. And recent events, including the impeachment of South Korea?s president and a bribery scandal at Samsung, could co'},\n",
       " {'id': '177641',\n",
       "  'article': 'SEOUL, South Korea ? A South Korean court on Thursday blocked a prosecutor?s attempt to arrest Jay Y. Lee, the leader of Samsung, saying there was not enough evidence that Mr. Lee had bribed President Park in a scandal that led to her impeachment. A justice on the Central District Court in Seoul, Cho rejected the prosecutor?s request to issue an arrest warrant, saying said it was ?difficult to recognize the need? to incarcerate Mr. Lee. Mr. Lee, a scion and vice chairman of Samsung, one of the w'},\n",
       " {'id': '177642',\n",
       "  'article': 'the investigation from state prosecutors last month, has called Samsung?s contributions bribes that were exchanged for political favors from Ms. Park. That includes government support for a merger of two Samsung affiliates in 2015, which helped Mr. Lee inherit corporate control from his incapacitated father, the chairman, Lee according to the prosecutor. groups accused the prosecutor of overreaching in an attempt to find a scapegoat to soothe a public infuriated over Ms. Park?s corruption scanda'},\n",
       " {'id': '175742',\n",
       "  'article': 'prosecutor, which took over the investigations from the state prosecutors last month, has been looking into possible bribery charges against not only Ms. Park but the businesses, particularly Samsung. Ms. Park cannot be indicted while in office. Samsung gave the largest donations to Ms. Choi?s foundations, totaling $17 million. Unlike the other corporate contributors, it went beyond support for the foundations, signing an $18 million contract with a sports management company that Ms. Choi ran in'},\n",
       " {'id': '184433',\n",
       "  'article': 'appointed Chris Christie, New Jersey governor, as chairman of his transition months before Election Day, but decided to remove him and much of his team soon after his victory. The decision to oust Mr. Christie?s team, without quickly putting in place a new one, left the administration, which must still fill hundreds of top jobs, ill prepared for the nomination process. ?The vetting process is designed to identify issues about fitness and confirmability prior to public announcement,? said Leslie '},\n",
       " {'id': '182401',\n",
       "  'article': 'Vincent Viola, a billionaire Wall Street trader and President Trump?s nominee for secretary of the Army, abruptly withdrew his name for the post on Friday night after concluding it would be too difficult to untangle himself from his business ties, two government officials said. Mr. Viola is an owner of the Florida Panthers hockey club and a majority shareholder in Virtu Financial and Eastern Air Lines, among a number of other business interests. This week The New York Times reported that Mr. Vio'},\n",
       " {'id': '173541',\n",
       "  'article': 'The Wall Street lawyer Walter J. Clayton does not travel in political circles, nor is he well known in corporate America. He is the insider?s insider ? a deal maker. As such, his nomination to lead the Securities and Exchange Commission is a strong signal that financial regulation in the Trump administration will emphasize helping companies raise capital in the public markets over tightening regulation. In contrast, the agency?s two chairwomen under President Obama had regulatory or enforcement '},\n",
       " {'id': '182601',\n",
       "  'article': 'SEOUL, South Korea ? The chief of North Korea?s powerful secret police, long considered the man for the top leader, Kim has been dismissed on charges of corruption and abuse of power, the South Korean government said on Friday. The firing of the chief, Gen. Kim as minister of state security highlights the turmoil that has engulfed the upper reaches of Mr. Kim?s government. The general is the latest in a series of party and military officials Mr. Kim has fired, demoted or executed as he tried to '},\n",
       " {'id': '176291',\n",
       "  'article': 'LOS ANGELES ? The chief executive of Sony?s underperforming entertainment division, Michael Lynton, announced Friday that he would step down to focus more intently on the popular messaging service Snapchat, where he was an early investor. Mr. Lynton, who weathered various corporate crises at Sony Entertainment over his tenure, including a devastating cyberattack and a battle with activist investors, will step down on Feb. 2, the company said. After that, Kazuo Hirai, the president and chief exec'},\n",
       " {'id': '180683',\n",
       "  'article': '?misguided and a fundamental step backwards? and said it would create ?collateral damage to the country?s reputation and values. ? Microsoft was not the only company to become bolder in a few hours. Around 10 a. m. on Saturday, Mr. Chesky of Airbnb posted a vague message on Twitter saying ?open doors bring all of US together. ? By 6 p. m. he was advocating open protest. Early Sunday morning, he wrote a memo to employees warning that Mr. Trump?s new policy was ?a direct obstacle to our mission. ?'},\n",
       " {'id': '175362',\n",
       "  'article': 'Rogers, the head of the National Security Agency and of the military?s Cyber Command. John O. Brennan, director of the Central Intelligence Agency, and Mr. Comey also testified. Mr. Clapper largely repeated the conclusions of last week?s report, including that the goal of the Russian effort was to disparage Mrs. Clinton ? whom the Russians hoped to weaken if she won ? and over time to favor Mr. Trump. Under questioning, Mr. Clapper said he believed that President Vladimir V. Putin of Russia and '},\n",
       " {'id': '182452',\n",
       "  'article': 'filed against CKE Restaurants, the parent company of Carl?s Jr. and Hardee?s, as well as wage violations at those restaurants. Mr. Puzder is chief executive of CKE. His confirmation hearing before a Senate committee has been delayed four times. His spokesman said Mr. Puzder, 66, was working to divest from his company. ?He doesn?t view laws and regulations as things that help protect the most vulnerable from exploitation. He looks at them as things that hinder him from doing what he wants to do,?'},\n",
       " {'id': '182772',\n",
       "  'article': 'similar. Mr. Lu struck a strident tone on Friday in expressing China?s opposition to American plans to deploy a missile defense system in South Korea, one that Mr. Mattis said was intended to protect the country from North Korea?s nuclear threat. ?We firmly oppose? the deployment, Mr. Lu said at a regular news briefing. ?This will not change and has not changed. ? The system, which China says is an American attempt to interfere with China?s nuclear deterrent, ?will undermine the strategic balanc'},\n",
       " {'id': '175991',\n",
       "  'article': 'Good morning. Here?s what you need to know: ? Serious disagreements emerged between Donald J. Trump and some of his nominees in the third day of confirmation hearings. Mr. Trump?s choice for defense secretary, Gen. James N. Mattis, said Russia was trying to break NATO. Here?s where General Mattis stands on other issues. Rex W. Tillerson, the choice for secretary of state, faces a second round of questions ? Wednesday, he called for China to be denied access to its artificial islands in the South'},\n",
       " {'id': '178303',\n",
       "  'article': 'thing that got the Smothers Brothers in trouble, is all over prime time, even on comedies like ? . ? And now comes Donald J. Trump, who seems to have thin skin. The Smotherses incurred the wrath of two presidents, Lyndon B. Johnson and Richard M. Nixon. Tom Smothers, who turns 80 in February, said in an interview in 2000 that he had always believed Nixon was directly responsible for his show?s demise. ?There was a bigger game going on that was beyond our scope of understanding,? he said. Who kno'},\n",
       " {'id': '182102',\n",
       "  'article': 'only Muslims. _____ 6. The Super Bowl, scheduled for Sunday night in Houston, is infused with national politics like never before. During Fox?s pregame telecast, Bill O?Reilly will interview Mr. Trump, who is a friend of the Patriots? owner, coach and star player. There may be protests outside the stadium, or at the halftime show. Lady Gaga remained coy about the plans for her halftime performance. Fox and the N. F. L. are trying to keep game commercials apolitical. A lumber company?s ad depicti'},\n",
       " {'id': '180742',\n",
       "  'article': 'the secretary of homeland security, John F. Kelly, a retired Marine Corps general who served for 45 years, ending his military career as the commander of United States Southern Command. Both men remain principals on the council. The C. I. A. director, Mike Pompeo, is not mentioned at all in the reorganization order. A week ago, Mr. Trump went to C. I. A. headquarters to assure officers there that he had their backs and valued their contributions. But Mr. Pompeo?s predecessor, John O. Brennan, wa'},\n",
       " {'id': '175572',\n",
       "  'article': 'you?re gonna probably have cameras. ? He also added, apparently referring to a detail in the report about supposed sex videos with prostitutes, ?I?m also very much of a germaphobe, believe me. ? ? Discussing the topic the news conference was intended to address, Mr. Trump said he would not divest from his vast business holdings as he takes office. Instead, the will turn over the operations and control of those holdings to a trust controlled by his eldest sons, Eric Trump and Donald Trump Jr. ? T'},\n",
       " {'id': '175662',\n",
       "  'article': 'weeks ago, the team settled on Toby Cosgrove, the chief executive of the Cleveland Clinic and a former Air Force surgeon, but he turned down the offer, according to a person close to the transition team who was not authorized to speak publicly. That left the team divided. Some favored one of the few remaining candidates, Pete Hegseth, an Iraq veteran and Fox News commentator. But others saw him as too extreme because for years he ran Concerned Veterans for America, a small advocacy group finance'}]"
      ]
     },
     "execution_count": 91,
     "metadata": {},
     "output_type": "execute_result"
    }
   ],
   "source": [
    "query = \"Who is the vice chairman of Samsung?\"\n",
    "query = clean_text(query)\n",
    "results = search(query, top_k=20, index=index, model=model)\n",
    "results"
   ]
  },
  {
   "cell_type": "code",
   "execution_count": 75,
   "metadata": {},
   "outputs": [
    {
     "data": {
      "application/vnd.jupyter.widget-view+json": {
       "model_id": "bbf9e712beb5417babe3d933b37c1218",
       "version_major": 2,
       "version_minor": 0
      },
      "text/plain": [
       "config.json:   0%|          | 0.00/612 [00:00<?, ?B/s]"
      ]
     },
     "metadata": {},
     "output_type": "display_data"
    },
    {
     "name": "stderr",
     "output_type": "stream",
     "text": [
      "c:\\Users\\nguye\\Music\\2024 Tri 1_Applied NLP\\NLP_Assignment_2\\.venv\\Lib\\site-packages\\huggingface_hub\\file_download.py:149: UserWarning: `huggingface_hub` cache-system uses symlinks by default to efficiently store duplicated files but your machine does not support them in C:\\Users\\nguye\\.cache\\huggingface\\hub\\models--cross-encoder--ms-marco-TinyBERT-L-6. Caching files will still work but in a degraded version that might require more space on your disk. This warning can be disabled by setting the `HF_HUB_DISABLE_SYMLINKS_WARNING` environment variable. For more details, see https://huggingface.co/docs/huggingface_hub/how-to-cache#limitations.\n",
      "To support symlinks on Windows, you either need to activate Developer Mode or to run Python as an administrator. In order to see activate developer mode, see this article: https://docs.microsoft.com/en-us/windows/apps/get-started/enable-your-device-for-development\n",
      "  warnings.warn(message)\n"
     ]
    },
    {
     "data": {
      "application/vnd.jupyter.widget-view+json": {
       "model_id": "7947f15a33914ff6a0d7add5b18066cd",
       "version_major": 2,
       "version_minor": 0
      },
      "text/plain": [
       "pytorch_model.bin:   0%|          | 0.00/268M [00:00<?, ?B/s]"
      ]
     },
     "metadata": {},
     "output_type": "display_data"
    },
    {
     "data": {
      "application/vnd.jupyter.widget-view+json": {
       "model_id": "324caa791fe74e3dabfb3fbf7e375cae",
       "version_major": 2,
       "version_minor": 0
      },
      "text/plain": [
       "tokenizer_config.json:   0%|          | 0.00/541 [00:00<?, ?B/s]"
      ]
     },
     "metadata": {},
     "output_type": "display_data"
    },
    {
     "data": {
      "application/vnd.jupyter.widget-view+json": {
       "model_id": "d82c74bcc5ab4fd9ad39022abd9b1c0d",
       "version_major": 2,
       "version_minor": 0
      },
      "text/plain": [
       "vocab.txt:   0%|          | 0.00/232k [00:00<?, ?B/s]"
      ]
     },
     "metadata": {},
     "output_type": "display_data"
    },
    {
     "data": {
      "application/vnd.jupyter.widget-view+json": {
       "model_id": "f572fc5ec73f4f7597eb27766edaf94b",
       "version_major": 2,
       "version_minor": 0
      },
      "text/plain": [
       "special_tokens_map.json:   0%|          | 0.00/112 [00:00<?, ?B/s]"
      ]
     },
     "metadata": {},
     "output_type": "display_data"
    }
   ],
   "source": [
    "from sentence_transformers import CrossEncoder\n",
    "cross_model = CrossEncoder('cross-encoder/ms-marco-TinyBERT-L-6', max_length=512)"
   ]
  },
  {
   "cell_type": "code",
   "execution_count": 93,
   "metadata": {},
   "outputs": [],
   "source": [
    "def cross_score(model_inputs):\n",
    "    scores = cross_model.predict(model_inputs)\n",
    "    return scores\n",
    "\n",
    "model_inputs = [[query, item['article']] for item in results]\n",
    "scores = cross_score(model_inputs)\n",
    "\n",
    "#Sort the scores in decreasing order\n",
    "ranked_results = [{'Id': inp['id'], 'Score': score} for inp, score in zip(results, scores)]\n",
    "ranked_results = sorted(ranked_results, key=lambda x: x['Score'], reverse=True)"
   ]
  },
  {
   "cell_type": "code",
   "execution_count": 95,
   "metadata": {},
   "outputs": [
    {
     "name": "stdout",
     "output_type": "stream",
     "text": [
      "\n",
      "\n",
      "{'Id': '175741', 'Score': 0.9349358}\n",
      "\t None\n",
      "{'Id': '177642', 'Score': 0.077817224}\n",
      "\t None\n",
      "{'Id': '177641', 'Score': 0.06557797}\n",
      "\t None\n",
      "{'Id': '176291', 'Score': 0.00034940912}\n",
      "\t None\n",
      "{'Id': '178513', 'Score': 0.00022788203}\n",
      "\t None\n",
      "{'Id': '182772', 'Score': 0.0002067317}\n",
      "\t None\n",
      "{'Id': '175742', 'Score': 0.00019164718}\n",
      "\t None\n"
     ]
    }
   ],
   "source": [
    "from pprint import pprint\n",
    "\n",
    "print(\"\\n\")\n",
    "for result in ranked_results[:5]:\n",
    "    print('\\t',pprint(result))"
   ]
  },
  {
   "cell_type": "code",
   "execution_count": 125,
   "metadata": {},
   "outputs": [
    {
     "name": "stdout",
     "output_type": "stream",
     "text": [
      "\n",
      "\n",
      "{'Id': '183542', 'Score': 0.0002189889}\n",
      "\t None\n",
      "{'Id': '182611', 'Score': 0.00021261694}\n",
      "\t None\n",
      "{'Id': '181403', 'Score': 0.00021122393}\n",
      "\t None\n",
      "{'Id': '175383', 'Score': 0.00019030515}\n",
      "\t None\n",
      "{'Id': '181331', 'Score': 0.00018310206}\n",
      "\t None\n"
     ]
    }
   ],
   "source": [
    "query = \"who lives in Sheepshead Bay?\"\n",
    "query = clean_text(query)\n",
    "results = search(query, top_k=20, index=index, model=model)\n",
    "model_inputs = [[query, item['article']] for item in results]\n",
    "scores = cross_score(model_inputs)\n",
    "ranked_results = [{'Id': inp['id'], 'Score': score} for inp, score in zip(results, scores)]\n",
    "ranked_results = sorted(ranked_results, key=lambda x: x['Score'], reverse=True)\n",
    "print(\"\\n\")\n",
    "for result in ranked_results[:5]:\n",
    "    print('\\t',pprint(result))\n"
   ]
  },
  {
   "cell_type": "code",
   "execution_count": 130,
   "metadata": {},
   "outputs": [
    {
     "data": {
      "text/plain": [
       "Series([], Name: article, dtype: object)"
      ]
     },
     "execution_count": 130,
     "metadata": {},
     "output_type": "execute_result"
    }
   ],
   "source": [
    "data_index = data_chunk[data_chunk['id'] == 183542]\n",
    "data_index['article']"
   ]
  }
 ],
 "metadata": {
  "kernelspec": {
   "display_name": ".venv",
   "language": "python",
   "name": "python3"
  },
  "language_info": {
   "codemirror_mode": {
    "name": "ipython",
    "version": 3
   },
   "file_extension": ".py",
   "mimetype": "text/x-python",
   "name": "python",
   "nbconvert_exporter": "python",
   "pygments_lexer": "ipython3",
   "version": "3.11.5"
  }
 },
 "nbformat": 4,
 "nbformat_minor": 2
}
