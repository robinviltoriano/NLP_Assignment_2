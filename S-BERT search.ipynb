{
 "cells": [
  {
   "cell_type": "code",
   "execution_count": 1,
   "metadata": {},
   "outputs": [],
   "source": [
    "import pandas as pd\n",
    "import numpy as np\n",
    "import re\n",
    "\n",
    "from sentence_transformers import SentenceTransformer\n",
    "model = SentenceTransformer('msmarco-distilbert-base-dot-prod-v3')"
   ]
  },
  {
   "cell_type": "code",
   "execution_count": 2,
   "metadata": {},
   "outputs": [
    {
     "data": {
      "text/html": [
       "<div>\n",
       "<style scoped>\n",
       "    .dataframe tbody tr th:only-of-type {\n",
       "        vertical-align: middle;\n",
       "    }\n",
       "\n",
       "    .dataframe tbody tr th {\n",
       "        vertical-align: top;\n",
       "    }\n",
       "\n",
       "    .dataframe thead th {\n",
       "        text-align: right;\n",
       "    }\n",
       "</style>\n",
       "<table border=\"1\" class=\"dataframe\">\n",
       "  <thead>\n",
       "    <tr style=\"text-align: right;\">\n",
       "      <th></th>\n",
       "      <th>id</th>\n",
       "      <th>article</th>\n",
       "    </tr>\n",
       "  </thead>\n",
       "  <tbody>\n",
       "    <tr>\n",
       "      <th>0</th>\n",
       "      <td>17307</td>\n",
       "      <td>PARIS  ?   When the Islamic State was about to...</td>\n",
       "    </tr>\n",
       "    <tr>\n",
       "      <th>1</th>\n",
       "      <td>17292</td>\n",
       "      <td>Angels are everywhere in the Mu?iz family?s ap...</td>\n",
       "    </tr>\n",
       "    <tr>\n",
       "      <th>2</th>\n",
       "      <td>17298</td>\n",
       "      <td>Finally. The Second Avenue subway opened in Ne...</td>\n",
       "    </tr>\n",
       "    <tr>\n",
       "      <th>3</th>\n",
       "      <td>17311</td>\n",
       "      <td>WASHINGTON  ?   It?s   or   time for Republica...</td>\n",
       "    </tr>\n",
       "    <tr>\n",
       "      <th>4</th>\n",
       "      <td>17339</td>\n",
       "      <td>For Megyn Kelly, the shift from Fox News to NB...</td>\n",
       "    </tr>\n",
       "  </tbody>\n",
       "</table>\n",
       "</div>"
      ],
      "text/plain": [
       "      id                                            article\n",
       "0  17307  PARIS  ?   When the Islamic State was about to...\n",
       "1  17292  Angels are everywhere in the Mu?iz family?s ap...\n",
       "2  17298  Finally. The Second Avenue subway opened in Ne...\n",
       "3  17311  WASHINGTON  ?   It?s   or   time for Republica...\n",
       "4  17339  For Megyn Kelly, the shift from Fox News to NB..."
      ]
     },
     "execution_count": 2,
     "metadata": {},
     "output_type": "execute_result"
    }
   ],
   "source": [
    "df = pd.read_csv('news_dataset.csv', encoding='latin-1')\n",
    "data = df[['id', 'article']]\n",
    "data.head()"
   ]
  },
  {
   "cell_type": "code",
   "execution_count": 3,
   "metadata": {},
   "outputs": [
    {
     "data": {
      "text/html": [
       "<div>\n",
       "<style scoped>\n",
       "    .dataframe tbody tr th:only-of-type {\n",
       "        vertical-align: middle;\n",
       "    }\n",
       "\n",
       "    .dataframe tbody tr th {\n",
       "        vertical-align: top;\n",
       "    }\n",
       "\n",
       "    .dataframe thead th {\n",
       "        text-align: right;\n",
       "    }\n",
       "</style>\n",
       "<table border=\"1\" class=\"dataframe\">\n",
       "  <thead>\n",
       "    <tr style=\"text-align: right;\">\n",
       "      <th></th>\n",
       "      <th>id</th>\n",
       "      <th>article</th>\n",
       "    </tr>\n",
       "  </thead>\n",
       "  <tbody>\n",
       "    <tr>\n",
       "      <th>41</th>\n",
       "      <td>17313</td>\n",
       "      <td>The body of the Iraqi prisoner was found naked...</td>\n",
       "    </tr>\n",
       "    <tr>\n",
       "      <th>219</th>\n",
       "      <td>17545</td>\n",
       "      <td>DETROIT  ?   Just before the holidays, on a da...</td>\n",
       "    </tr>\n",
       "    <tr>\n",
       "      <th>220</th>\n",
       "      <td>17546</td>\n",
       "      <td>DETROIT  ?   Just before the holidays, on a da...</td>\n",
       "    </tr>\n",
       "    <tr>\n",
       "      <th>752</th>\n",
       "      <td>18185</td>\n",
       "      <td>The body of the Iraqi prisoner was found naked...</td>\n",
       "    </tr>\n",
       "    <tr>\n",
       "      <th>753</th>\n",
       "      <td>18186</td>\n",
       "      <td>The body of the Iraqi prisoner was found naked...</td>\n",
       "    </tr>\n",
       "    <tr>\n",
       "      <th>886</th>\n",
       "      <td>18337</td>\n",
       "      <td>HOUSTON  ?   The chants rang out loud and long...</td>\n",
       "    </tr>\n",
       "    <tr>\n",
       "      <th>887</th>\n",
       "      <td>18338</td>\n",
       "      <td>HOUSTON  ?   The chants rang out loud and long...</td>\n",
       "    </tr>\n",
       "    <tr>\n",
       "      <th>888</th>\n",
       "      <td>18339</td>\n",
       "      <td>Picking the pain reliever that?s best for you ...</td>\n",
       "    </tr>\n",
       "    <tr>\n",
       "      <th>889</th>\n",
       "      <td>18341</td>\n",
       "      <td>Picking the pain reliever that?s best for you ...</td>\n",
       "    </tr>\n",
       "  </tbody>\n",
       "</table>\n",
       "</div>"
      ],
      "text/plain": [
       "        id                                            article\n",
       "41   17313  The body of the Iraqi prisoner was found naked...\n",
       "219  17545  DETROIT  ?   Just before the holidays, on a da...\n",
       "220  17546  DETROIT  ?   Just before the holidays, on a da...\n",
       "752  18185  The body of the Iraqi prisoner was found naked...\n",
       "753  18186  The body of the Iraqi prisoner was found naked...\n",
       "886  18337  HOUSTON  ?   The chants rang out loud and long...\n",
       "887  18338  HOUSTON  ?   The chants rang out loud and long...\n",
       "888  18339  Picking the pain reliever that?s best for you ...\n",
       "889  18341  Picking the pain reliever that?s best for you ..."
      ]
     },
     "execution_count": 3,
     "metadata": {},
     "output_type": "execute_result"
    }
   ],
   "source": [
    "data[data.duplicated(subset=['article'], keep=False)]"
   ]
  },
  {
   "cell_type": "code",
   "execution_count": 4,
   "metadata": {},
   "outputs": [
    {
     "data": {
      "text/html": [
       "<div>\n",
       "<style scoped>\n",
       "    .dataframe tbody tr th:only-of-type {\n",
       "        vertical-align: middle;\n",
       "    }\n",
       "\n",
       "    .dataframe tbody tr th {\n",
       "        vertical-align: top;\n",
       "    }\n",
       "\n",
       "    .dataframe thead th {\n",
       "        text-align: right;\n",
       "    }\n",
       "</style>\n",
       "<table border=\"1\" class=\"dataframe\">\n",
       "  <thead>\n",
       "    <tr style=\"text-align: right;\">\n",
       "      <th></th>\n",
       "      <th>id</th>\n",
       "      <th>article</th>\n",
       "    </tr>\n",
       "  </thead>\n",
       "  <tbody>\n",
       "    <tr>\n",
       "      <th>0</th>\n",
       "      <td>17307</td>\n",
       "      <td>PARIS  ?   When the Islamic State was about to...</td>\n",
       "    </tr>\n",
       "    <tr>\n",
       "      <th>1</th>\n",
       "      <td>17292</td>\n",
       "      <td>Angels are everywhere in the Mu?iz family?s ap...</td>\n",
       "    </tr>\n",
       "    <tr>\n",
       "      <th>2</th>\n",
       "      <td>17298</td>\n",
       "      <td>Finally. The Second Avenue subway opened in Ne...</td>\n",
       "    </tr>\n",
       "    <tr>\n",
       "      <th>3</th>\n",
       "      <td>17311</td>\n",
       "      <td>WASHINGTON  ?   It?s   or   time for Republica...</td>\n",
       "    </tr>\n",
       "    <tr>\n",
       "      <th>4</th>\n",
       "      <td>17339</td>\n",
       "      <td>For Megyn Kelly, the shift from Fox News to NB...</td>\n",
       "    </tr>\n",
       "  </tbody>\n",
       "</table>\n",
       "</div>"
      ],
      "text/plain": [
       "      id                                            article\n",
       "0  17307  PARIS  ?   When the Islamic State was about to...\n",
       "1  17292  Angels are everywhere in the Mu?iz family?s ap...\n",
       "2  17298  Finally. The Second Avenue subway opened in Ne...\n",
       "3  17311  WASHINGTON  ?   It?s   or   time for Republica...\n",
       "4  17339  For Megyn Kelly, the shift from Fox News to NB..."
      ]
     },
     "execution_count": 4,
     "metadata": {},
     "output_type": "execute_result"
    }
   ],
   "source": [
    "data_no_dup = data.drop_duplicates(subset=['article'],keep='first').reset_index(drop=True)\n",
    "data_no_dup.head()"
   ]
  },
  {
   "cell_type": "code",
   "execution_count": 5,
   "metadata": {},
   "outputs": [],
   "source": [
    "# Create a function to clean data\n",
    "def clean_text(text):\n",
    "    # Remove non-ASCII characters\n",
    "    text = ''.join([char for char in text if ord(char) < 128])\n",
    "\n",
    "    # Remove multiple spaces\n",
    "    text = re.sub(r'\\s+', ' ', text)\n",
    "\n",
    "    # Remove question mark problems\n",
    "    text = re.sub(r'(\\s\\?)',' ',text)\n",
    "    text = re.sub(r\"\\b\\?\\b\", \"\\'\", text)\n",
    "    text = re.sub(r\"(,\\?)\",\",\", text)\n",
    "    text = re.sub(r\"\\?+\", \"?\", text)\n",
    "    text = text.strip()\n",
    "\n",
    "    return text"
   ]
  },
  {
   "cell_type": "code",
   "execution_count": 6,
   "metadata": {},
   "outputs": [],
   "source": [
    "def chunk_text(data_index, data_text, chunk_size, chunk_overlap):\n",
    "\n",
    "    list_chunk_text = []\n",
    "\n",
    "    for position in range(len(data_index)):\n",
    "\n",
    "        words = clean_text(data_text[position]).split()\n",
    "\n",
    "        start = 0\n",
    "        part = 1\n",
    "        while start < len(words):\n",
    "            end = start + chunk_size\n",
    "            segment = ' '.join(words[start:end])\n",
    "            list_chunk_text.append((str(data_index[position]) + str(part), segment))\n",
    "            part += 1\n",
    "            start += (chunk_size - chunk_overlap)\n",
    "\n",
    "    return pd.DataFrame(list_chunk_text, columns=['id', 'article'])"
   ]
  },
  {
   "cell_type": "code",
   "execution_count": 30,
   "metadata": {},
   "outputs": [],
   "source": [
    "data_chunk_train = chunk_text(data_no_dup[:5]['id'], data_no_dup[:5]['article'], 100, 50)\n",
    "data_chunk_train.to_csv('data_chunk_train.csv', index=False)"
   ]
  },
  {
   "cell_type": "code",
   "execution_count": 37,
   "metadata": {},
   "outputs": [
    {
     "data": {
      "text/plain": [
       "0      17307\n",
       "1      17292\n",
       "2      17298\n",
       "3      17311\n",
       "4      17339\n",
       "       ...  \n",
       "990    18460\n",
       "991    18461\n",
       "992    18462\n",
       "993    18463\n",
       "994    18465\n",
       "Name: id, Length: 995, dtype: int64"
      ]
     },
     "execution_count": 37,
     "metadata": {},
     "output_type": "execute_result"
    }
   ],
   "source": [
    "data_no_dup['id']"
   ]
  },
  {
   "cell_type": "code",
   "execution_count": 40,
   "metadata": {},
   "outputs": [
    {
     "data": {
      "text/html": [
       "<div>\n",
       "<style scoped>\n",
       "    .dataframe tbody tr th:only-of-type {\n",
       "        vertical-align: middle;\n",
       "    }\n",
       "\n",
       "    .dataframe tbody tr th {\n",
       "        vertical-align: top;\n",
       "    }\n",
       "\n",
       "    .dataframe thead th {\n",
       "        text-align: right;\n",
       "    }\n",
       "</style>\n",
       "<table border=\"1\" class=\"dataframe\">\n",
       "  <thead>\n",
       "    <tr style=\"text-align: right;\">\n",
       "      <th></th>\n",
       "      <th>id</th>\n",
       "      <th>article</th>\n",
       "    </tr>\n",
       "  </thead>\n",
       "  <tbody>\n",
       "    <tr>\n",
       "      <th>0</th>\n",
       "      <td>173401</td>\n",
       "      <td>Megyn Kelly's new office at NBC News sits a bl...</td>\n",
       "    </tr>\n",
       "    <tr>\n",
       "      <th>1</th>\n",
       "      <td>173402</td>\n",
       "      <td>closer to a news program than the typical dayt...</td>\n",
       "    </tr>\n",
       "    <tr>\n",
       "      <th>2</th>\n",
       "      <td>173403</td>\n",
       "      <td>taking over Fox News's 7 p. m. slot, have also...</td>\n",
       "    </tr>\n",
       "    <tr>\n",
       "      <th>3</th>\n",
       "      <td>173421</td>\n",
       "      <td>In the technology industry, the sharks have ne...</td>\n",
       "    </tr>\n",
       "    <tr>\n",
       "      <th>4</th>\n",
       "      <td>173422</td>\n",
       "      <td>sales were flat last year, and after a monster...</td>\n",
       "    </tr>\n",
       "    <tr>\n",
       "      <th>...</th>\n",
       "      <td>...</td>\n",
       "      <td>...</td>\n",
       "    </tr>\n",
       "    <tr>\n",
       "      <th>2942</th>\n",
       "      <td>184633</td>\n",
       "      <td>New Orleans but was rebuffed. Dolan, he said, ...</td>\n",
       "    </tr>\n",
       "    <tr>\n",
       "      <th>2943</th>\n",
       "      <td>184634</td>\n",
       "      <td>relationships with many of his former teammate...</td>\n",
       "    </tr>\n",
       "    <tr>\n",
       "      <th>2944</th>\n",
       "      <td>184651</td>\n",
       "      <td>Hans Rosling, a Swedish doctor who transformed...</td>\n",
       "    </tr>\n",
       "    <tr>\n",
       "      <th>2945</th>\n",
       "      <td>184652</td>\n",
       "      <td>the flair of a seasoned performer (he once dem...</td>\n",
       "    </tr>\n",
       "    <tr>\n",
       "      <th>2946</th>\n",
       "      <td>184653</td>\n",
       "      <td>nude! He's nude! ? Dr. Rosling told The Guardi...</td>\n",
       "    </tr>\n",
       "  </tbody>\n",
       "</table>\n",
       "<p>2947 rows × 2 columns</p>\n",
       "</div>"
      ],
      "text/plain": [
       "          id                                            article\n",
       "0     173401  Megyn Kelly's new office at NBC News sits a bl...\n",
       "1     173402  closer to a news program than the typical dayt...\n",
       "2     173403  taking over Fox News's 7 p. m. slot, have also...\n",
       "3     173421  In the technology industry, the sharks have ne...\n",
       "4     173422  sales were flat last year, and after a monster...\n",
       "...      ...                                                ...\n",
       "2942  184633  New Orleans but was rebuffed. Dolan, he said, ...\n",
       "2943  184634  relationships with many of his former teammate...\n",
       "2944  184651  Hans Rosling, a Swedish doctor who transformed...\n",
       "2945  184652  the flair of a seasoned performer (he once dem...\n",
       "2946  184653  nude! He's nude! ? Dr. Rosling told The Guardi...\n",
       "\n",
       "[2947 rows x 2 columns]"
      ]
     },
     "execution_count": 40,
     "metadata": {},
     "output_type": "execute_result"
    }
   ],
   "source": [
    "data_no_train = data_no_dup[5:].reset_index(drop=True)\n",
    "data_chunk = chunk_text(data_no_train['id'], data_no_train['article'], 500, 50)\n",
    "data_chunk"
   ]
  },
  {
   "cell_type": "code",
   "execution_count": 41,
   "metadata": {},
   "outputs": [],
   "source": [
    "data_chunk.to_csv('data_chunk.csv', index=False)"
   ]
  },
  {
   "cell_type": "code",
   "execution_count": 42,
   "metadata": {},
   "outputs": [
    {
     "data": {
      "text/html": [
       "<div>\n",
       "<style scoped>\n",
       "    .dataframe tbody tr th:only-of-type {\n",
       "        vertical-align: middle;\n",
       "    }\n",
       "\n",
       "    .dataframe tbody tr th {\n",
       "        vertical-align: top;\n",
       "    }\n",
       "\n",
       "    .dataframe thead th {\n",
       "        text-align: right;\n",
       "    }\n",
       "</style>\n",
       "<table border=\"1\" class=\"dataframe\">\n",
       "  <thead>\n",
       "    <tr style=\"text-align: right;\">\n",
       "      <th></th>\n",
       "      <th>id</th>\n",
       "      <th>article</th>\n",
       "    </tr>\n",
       "  </thead>\n",
       "  <tbody>\n",
       "    <tr>\n",
       "      <th>0</th>\n",
       "      <td>173401</td>\n",
       "      <td>Megyn Kelly's new office at NBC News sits a bl...</td>\n",
       "    </tr>\n",
       "    <tr>\n",
       "      <th>1</th>\n",
       "      <td>173402</td>\n",
       "      <td>closer to a news program than the typical dayt...</td>\n",
       "    </tr>\n",
       "    <tr>\n",
       "      <th>2</th>\n",
       "      <td>173403</td>\n",
       "      <td>taking over Fox News's 7 p. m. slot, have also...</td>\n",
       "    </tr>\n",
       "    <tr>\n",
       "      <th>3</th>\n",
       "      <td>173421</td>\n",
       "      <td>In the technology industry, the sharks have ne...</td>\n",
       "    </tr>\n",
       "    <tr>\n",
       "      <th>4</th>\n",
       "      <td>173422</td>\n",
       "      <td>sales were flat last year, and after a monster...</td>\n",
       "    </tr>\n",
       "  </tbody>\n",
       "</table>\n",
       "</div>"
      ],
      "text/plain": [
       "       id                                            article\n",
       "0  173401  Megyn Kelly's new office at NBC News sits a bl...\n",
       "1  173402  closer to a news program than the typical dayt...\n",
       "2  173403  taking over Fox News's 7 p. m. slot, have also...\n",
       "3  173421  In the technology industry, the sharks have ne...\n",
       "4  173422  sales were flat last year, and after a monster..."
      ]
     },
     "execution_count": 42,
     "metadata": {},
     "output_type": "execute_result"
    }
   ],
   "source": [
    "data_chunk.head()"
   ]
  },
  {
   "cell_type": "code",
   "execution_count": 43,
   "metadata": {},
   "outputs": [],
   "source": [
    "def fetch_data_info(dataframe_idx, score):\n",
    "    info = data_chunk.iloc[dataframe_idx]\n",
    "    meta_dict = {}\n",
    "    meta_dict['id'] = info['id']\n",
    "    meta_dict['article'] = info['article']\n",
    "    meta_dict['score'] = score\n",
    "    return meta_dict\n",
    "\n",
    "    \n",
    "def search(query, top_k, index, model):\n",
    "    query_vector = model.encode([query])\n",
    "    top_k = index.search(query_vector, top_k)\n",
    "    print(top_k)\n",
    "    top_k_ids = list(top_k[1].tolist()[0])\n",
    "    score = list(top_k[0].tolist()[0])\n",
    "    results =  [fetch_data_info(idx, score) for idx, score in zip(top_k_ids, score)]\n",
    "    return results"
   ]
  },
  {
   "cell_type": "code",
   "execution_count": 44,
   "metadata": {},
   "outputs": [],
   "source": [
    "encoded_data = model.encode(data_chunk['article'].tolist())\n",
    "encoded_data = np.asarray(encoded_data.astype('float32'))"
   ]
  },
  {
   "cell_type": "code",
   "execution_count": 45,
   "metadata": {},
   "outputs": [],
   "source": [
    "import faiss\n",
    "index = faiss.IndexIDMap(faiss.IndexFlatIP(768))\n",
    "index.add_with_ids(encoded_data, np.array(range(0, len(data_chunk))))\n",
    "faiss.write_index(index, 'data_article.index')"
   ]
  },
  {
   "cell_type": "code",
   "execution_count": 46,
   "metadata": {},
   "outputs": [],
   "source": [
    "import faiss\n",
    "index = faiss.read_index('data_article.index')"
   ]
  },
  {
   "cell_type": "code",
   "execution_count": 47,
   "metadata": {},
   "outputs": [
    {
     "name": "stdout",
     "output_type": "stream",
     "text": [
      "(array([[53.687637, 50.57049 , 49.184822, 47.497726, 44.04258 , 43.050102,\n",
      "        42.99745 , 42.868958, 42.802124, 42.406384, 42.37947 , 41.848022,\n",
      "        41.833664, 41.7257  , 41.68076 , 41.54087 , 41.514153, 41.352108,\n",
      "        41.108116, 40.851246]], dtype=float32), array([[ 699, 1429, 1200, 1201,  700,  157, 2431, 1366, 2074, 2012, 2377,\n",
      "        2896,  857,  660,  772, 1726, 1292, 2612, 2392,  144]],\n",
      "      dtype=int64))\n"
     ]
    },
    {
     "data": {
      "text/plain": [
       "[{'id': '175741',\n",
       "  'article': \"SEOUL, South Korea A special prosecutor investigating the corruption scandal that led to President Park s impeachment summoned the de facto head of Samsung for questioning on Wednesday, calling him a bribery suspect. The de facto leader, Jay Y. Lee, the vice chairman of Samsung, will be questioned on Thursday, according to the special prosecutor's office, which recommended that he also be investigated on suspicion of perjury. Mr. Lee effectively runs Samsung, South Korea's largest conglomerate he is the son of its chairman, Lee who has been incapacitated with health problems. He is expected to be asked whether donations that Samsung made to two foundations controlled by Choi a longtime friend of the president, amounted to bribes, and what role, if any, he played in the decision to give the money. Investigators at the special prosecutor's office have questioned other senior Samsung executives as suspects about the bribery accusations. Neither Samsung nor Mr. Lee responded immediately to the announcement on Wednesday. Allegations that Ms. Park helped Ms. Choi extort millions in bribes from Samsung and other companies are at the heart of the corruption scandal that led to the National Assembly's vote to impeach her last month. Since then, Ms. Park's powers have been suspended, and she is on trial at the Constitutional Court, which will ultimately decide whether to end her presidency. Last month, Mr. Lee testified at a National Assembly hearing that he was not involved in the decision by Samsung to make the donations. He also said that the donations were not voluntary, suggesting that the company was a victim of extortion, not a participant in bribery. The reference on Wednesday to possible perjury charges against Mr. Lee stemmed from that testimony. The special prosecutor's office said it had evidence that Mr. Lee had received a request for bribery from the president and ordered Samsung subsidiaries to send bribes to destinations designated by the president. It asked the National Assembly to file a perjury complaint against Mr. Lee, which would authorize the special prosecutor to open an investigation of that charge. Asked whether investigators would seek to arrest Mr. Lee on bribery charges, a spokesman for the special prosecutor's office, Lee said, All possibilities are open. In November, state prosecutors indicted Ms. Choi on charges of coercing 53 big businesses, including Samsung, to contribute $69 million to her two foundations. They identified Ms. Park as an accomplice but stopped short of filing any charges against the businesses, all of which insisted that they were under government pressure to donate. In its impeachment bill, the National Assembly asserted that the donations were bribes, made with the expectation of political favors from the president. The special prosecutor, which took over the investigations from the state prosecutors last month, has been looking into possible bribery charges against not only Ms. Park but the businesses, particularly Samsung. Ms. Park cannot be indicted while in office. Samsung gave the largest donations to Ms. Choi's foundations, totaling $17 million. Unlike the other corporate\",\n",
       "  'score': 53.68763732910156},\n",
       " {'id': '178513',\n",
       "  'article': \"said Don Rosenberg, a lawyer for Qualcomm. The regulators, he said, were prodded and misled by commercial interests. In an email, Jee, a spokeswoman for Samsung, said it was one of many multinational corporations? that responded to questions from South Korean regulators. Qualcomm's lawyer figures the Korean case may take years to move through the courts. And recent events, including the impeachment of South Korea's president and a bribery scandal at Samsung, could complicate, or eliminate, Qualcomm's regulatory issues there. Additionally, the F. T. C. has just three of its normal five commissioners. One of those, Maureen Ohlhausen, a Republican, voted against the suit. She may be named chairwoman when the current chairwoman, Edith Ramirez, a Democrat, steps down on Feb. 10. Neither the F. T. C. nor Apple would comment on the United States case against Qualcomm. It's disappointing when our partners want to pay less after we've contributed to their success, said Derek Aberle, Qualcomm's president. Now it must get out ahead of other technology inventors in 5G, possibly while paying billions in fines and dealing with a painful restructuring and fraying relationships with its biggest customers. We're not sitting still? while the problems are sorted, Mr. Aberle said. You have to invest, and invent cool stuff that will change the way people live their lives. In other words, create unique technology so people will keep paying for Qualcomm's expensive intellectual property.\",\n",
       "  'score': 50.570491790771484},\n",
       " {'id': '177641',\n",
       "  'article': \"SEOUL, South Korea A South Korean court on Thursday blocked a prosecutor's attempt to arrest Jay Y. Lee, the leader of Samsung, saying there was not enough evidence that Mr. Lee had bribed President Park in a scandal that led to her impeachment. A justice on the Central District Court in Seoul, Cho rejected the prosecutor's request to issue an arrest warrant, saying said it was difficult to recognize the need? to incarcerate Mr. Lee. Mr. Lee, a scion and vice chairman of Samsung, one of the world's biggest conglomerates, was immediately released from a detention center outside Seoul, where he had been waiting for the court to decide whether he should be formally arrested. South Koreans have paid keen attention to the fate of Mr. Lee. Some analysts said his case was a test of whether the country's relatively youthful democracy and judicial system are ready to crack down on the crimes of conglomerates. No Samsung leader has ever been jailed, though the company has been investigated many times for corruption. The court's decision is likely to anger many South Koreans who have held weekend rallies calling for Ms. Park's ouster and the arrest of business tycoons on corruption charges. The special prosecutor called the court decision very regrettable. But he has yet to announce whether he will offer more evidence in a renewed effort to have Mr. Lee arrested. He can also indict Mr. Lee on bribery or lesser charges without arresting him. We will take necessary steps and persist in our investigation without wavering, said Lee a spokesman for the special prosecutor, without elaborating. Samsung welcomed the court's decision. For now, the ruling allows Mr. Lee to continue to lead Samsung. It dealt a blow to the special prosecutor who had tried to build a bribery case against Mr. Lee and Ms. Park. Mr. Lee's father has twice been convicted of bribery and tax evasion but has never spent a day in prison. Each time, he received a presidential pardon and returned to management. Mr. Lee, 48, was accused of paying $36 million to Ms. Park's secretive confidante, Choi . The special prosecutor and Mr. Lee's lawyers have been arguing over how to characterize the money. In November, state prosecutors indicted Ms. Choi on extortion charges, saying she leveraged her connections with Ms. Park to coerce Samsung and scores of other big businesses to contribute tens of millions of dollars to two foundations Ms. Choi controlled or to companies run by her or her associates. They identified Ms. Park as an accomplice, but they brought no charges against the businesses, which they saw as victims of extortion. But the special prosecutor, Park who took over the investigation from state prosecutors last month, has called Samsung's contributions bribes that were exchanged for political favors from Ms. Park. That includes government support for a merger of two Samsung affiliates in 2015, which helped Mr. Lee inherit corporate control from his incapacitated father, the chairman, Lee according to the prosecutor.\",\n",
       "  'score': 49.18482208251953},\n",
       " {'id': '177642',\n",
       "  'article': \"from state prosecutors last month, has called Samsung's contributions bribes that were exchanged for political favors from Ms. Park. That includes government support for a merger of two Samsung affiliates in 2015, which helped Mr. Lee inherit corporate control from his incapacitated father, the chairman, Lee according to the prosecutor. groups accused the prosecutor of overreaching in an attempt to find a scapegoat to soothe a public infuriated over Ms. Park's corruption scandal and fed up with decades of collusive ties between the government and the chaebol. Mr. Lee was the most prominent businessman to be ensnared in the special prosecutor's broadening investigation into the corruption scandal that led to Ms. Park's impeachment by Parliament last month. Ms. Park's presidential powers remained suspended, while the Constitutional Court is expected to rule in coming weeks whether she should be reinstated or formally removed from office. We have been too lenient toward chaebol corruption, said Moon an opposition politician who leads in polls on contenders to replace Ms. Park if she is removed. Speaking to a group of foreign reporters hours before the court's decision, Mr. Moon said Samsung was typical of a chaebol whose top boss wielded imperial powers? over his sprawling business group but was seldom held accountable? for corruption or managerial failures. Ms. Park denies any wrongdoing. Mr. Lee and Samsung have also denied bribery they argued that the donations? Samsung paid out to Ms. Choi were coerced, not meant as a quid pro quo for political favors from Ms. Park.\",\n",
       "  'score': 47.49772644042969},\n",
       " {'id': '175742',\n",
       "  'article': \"over the investigations from the state prosecutors last month, has been looking into possible bribery charges against not only Ms. Park but the businesses, particularly Samsung. Ms. Park cannot be indicted while in office. Samsung gave the largest donations to Ms. Choi's foundations, totaling $17 million. Unlike the other corporate contributors, it went beyond support for the foundations, signing an $18 million contract with a sports management company that Ms. Choi ran in Germany, to fund a program for training Korean equestrians, which mainly benefited Ms. Choi's daughter. Samsung also contributed $1. 3 million to a winter sports program for young athletes that Ms. Choi and her nephew ran. Also on Wednesday, the special prosecutor's office said it had acquired a tablet computer used by Ms. Choi that contained emails she exchanged with a Samsung executive. The emails contained information about the financial support provided by Samsung, the prosecutor's office said. The special prosecutor has been investigating whether Samsung gave its support to Ms. Choi in exchange for a decision by the National Pension Service to support a contentious merger of two Samsung affiliates in 2015. Moon chairman of the pension fund, was arrested last month on charges that he illegally pressured the fund to back that merger when he was South Korea's health and welfare minister. The national pension fund's support was crucial for the merger, which analysts said helped Mr. Lee inherit control of Samsung from his father.\",\n",
       "  'score': 44.042579650878906},\n",
       " {'id': '173541',\n",
       "  'article': \"The Wall Street lawyer Walter J. Clayton does not travel in political circles, nor is he well known in corporate America. He is the insider's insider a deal maker. As such, his nomination to lead the Securities and Exchange Commission is a strong signal that financial regulation in the Trump administration will emphasize helping companies raise capital in the public markets over tightening regulation. In contrast, the agency's two chairwomen under President Obama had regulatory or enforcement backgrounds. Mr. Clayton, known as Jay, has spent nearly his entire career in corporate boardrooms. His regulatory experience stems from advising banks on dealings with the government and helping several financial institutions with their settlements related to mortgage securities. He had a seat to the financial crisis, advising Barclays Capital in buying the assets of the bankrupt Lehman Brothers in 2008 and Bear Stearns in its fire sale to JPMorgan Chase in 2007. He has advised on mergers and initial public offerings, including the biggest ever, the $25 billion offering by Alibaba Group of China in 2013. If Mr. Clayton is confirmed, he may have to recuse himself from some matters. A similar scrutiny was applied to Mary Jo White, the agency's current chairwoman. She had been a litigator at Debevoise Plimpton, where her clients included JPMorgan Chase, Rupert Murdoch's News Corporation and Kenneth D. Lewis, a former Bank of America chief executive. Still, such recusals are not unusual. Laura S. Unger, a former commissioner and acting chairwoman, said that during her tenure, she had to recuse herself from a number of matters before the commission. She said the process of deciding when to recuse oneself often took place in consultation with the commission's ethics officer. An ethics officer at the S. E. C. knows all of your intimate details, and the ethics officer flags for you what may be potential conflicts, she noted. Yet Mr. Clayton's nomination will be sure to fuel criticism that Goldman Sachs could wield too much influence in the Trump administration. Sullivan Cromwell, where Mr. Clayton is a partner, has been Goldman's law firm for more than a century. Mr. Clayton advised Goldman Sachs on perhaps its most important deal, the $5 billion investment by Warren E. Buffett's Berkshire Hathaway amid the financial crisis. Mr. Clayton's wife works as a adviser at Goldman. The S. E. C. nomination follows the appointment of Goldman's No. 2 executive, Gary D. Cohn, to be the top economic policy adviser to Donald J. Trump, and the selection of a hedge fund manager who was a former Goldman trader, Steven T. Mnuchin, to be Treasury secretary. Mr. Trump's chief strategist, Stephen K. Bannon, is a former Goldman banker. During the presidential campaign, Mr. Trump had repeatedly criticized Goldman Sachs as an emblem of a financial elite. Mr. Trump, who met with Mr. Clayton on Dec. 22, said in a statement that the lawyer will ensure our financial institutions can thrive and create jobs while playing by the rules at the same time. Mr.\",\n",
       "  'score': 43.05010223388672},\n",
       " {'id': '182601',\n",
       "  'article': \"SEOUL, South Korea The chief of North Korea's powerful secret police, long considered the man for the top leader, Kim has been dismissed on charges of corruption and abuse of power, the South Korean government said on Friday. The firing of the chief, Gen. Kim as minister of state security highlights the turmoil that has engulfed the upper reaches of Mr. Kim's government. The general is the latest in a series of party and military officials Mr. Kim has fired, demoted or executed as he tried to consolidate his totalitarian power through what South Korean officials and North Korean defectors have called a reign of terror. General Kim was fired in after he was demoted to a general from a one, said Jeong a spokesman for the South's Unification Ministry. The general's surprise downfall was the latest indication that even top lieutenants are at risk as Mr. Kim has rival agencies monitor one another to detect and punish any sign of disrespect or disloyalty. Until his dismissal, General Kim had been Mr. Kim's chief henchman in purging potential enemies. Kim has been a key aide to Kim and has buttressed his reign of terror, Mr. Jeong said. His dismissal could further deepen unrest among officials and add to the instability of the regime by weakening its control on the people. Mr. Jeong said General Kim was accused of corruption and held responsible for various human rights violations, including torture, committed at his agency. But other political machinations could be at play behind the dismissal, Mr. Jeong said, citing speculation about a rivalry among different power centers. Mr. Jeong noted that the dismissal resulted from an investigation by another powerful agency, the Organization and Guidance Department of the governing Workers? Party of North Korea. The department supervises all state agencies and is reportedly directly overseen by Mr. Kim. The Organization and Guidance Department is conducting an intensive investigation of Kim and the Ministry of State Security, so the level of punishment and the number of people affected could be expanded, Mr. Jeong said, without disclosing how the South Korean government learned of the reported purge transpiring inside a secretive regime. The Ministry of State Security, which serves as the secret police and intelligence agency in the North, is one of the most feared tools of government there, responsible for arresting dissidents and running a network of prison gulags. When Mr. Kim executed his own uncle and No. 2 official, Jang on charges of factionalism, corruption and plotting to overthrow his government in 2013, it was General Kim's ministry that arrested and Mr. Jang. Since taking power after the death of his father in 2011, Mr. Kim has frequently reshuffled the party and military elites as he has moved swiftly to establish his monolithic authority in North Korea, which his family has ruled for seven decades. Mr. Kim has executed at least 140 senior officials, usually killing them with machine guns and even flamethrowers, according to the Institute for National Security Strategy,\",\n",
       "  'score': 42.99745178222656},\n",
       " {'id': '178303',\n",
       "  'article': \"Brothers in trouble, is all over prime time, even on comedies like . And now comes Donald J. Trump, who seems to have thin skin. The Smotherses incurred the wrath of two presidents, Lyndon B. Johnson and Richard M. Nixon. Tom Smothers, who turns 80 in February, said in an interview in 2000 that he had always believed Nixon was directly responsible for his show's demise. There was a bigger game going on that was beyond our scope of understanding, he said. Who knows what games lie ahead as a Twitter president takes office?\",\n",
       "  'score': 42.86895751953125},\n",
       " {'id': '181143',\n",
       "  'article': \"including some of the women in the department. Among them is Anne Patterson, 67, the assistant secretary of state for Near Eastern affairs and a former ambassador to Pakistan and Egypt, two of the biggest tinderboxes Mr. Trump will face. Victoria J. Nuland, 55, one of the department's top Russia experts and former ambassador to NATO, who dealt with the Ukraine crisis, decided to retire after concluding there was probably no place for her in Mr. Trump's administration. Such a housecleaning leaves open the question of whether Mr. Tillerson, who has extensive experience abroad as chief executive of Exxon Mobil but none as a diplomat, will have the kind of help he needs in a very different kind of enterprise than negotiating on behalf of the world's largest oil company. In such an atmosphere, even seemingly routine moves like the reorganization of the National Security Council take on a political air. On Sunday, Mr. Trump's chief strategist, and chief ideologue, Stephen K. Bannon, was designated a permanent member of the principals committee? of the National Security Council, putting a political aide on par with the secretaries of state and defense. Meanwhile, the director of national intelligence and the chairman of the Joint Chiefs of Staff appeared to be downgraded, told to attend only when their issues were on the table. This is stone cold crazy, Susan E. Rice, the national security adviser until earlier this month, wrote in a Twitter post. Who needs military advice or intell to make policy on ISIL, Syria, Afghanistan, DPRK? she said, using acronyms for the Islamic State and North Korea. Mr. Trump's answer is simple: When you have come to upend the establishment, the establishment must vacate the premises.\",\n",
       "  'score': 42.8021240234375},\n",
       " {'id': '180683',\n",
       "  'article': \"the country's reputation and values. Microsoft was not the only company to become bolder in a few hours. Around 10 a. m. on Saturday, Mr. Chesky of Airbnb posted a vague message on Twitter saying open doors bring all of US together. By 6 p. m. he was advocating open protest. Early Sunday morning, he wrote a memo to employees warning that Mr. Trump's new policy was a direct obstacle to our mission. It was a long, dizzying day for an industry that is struggling to find its footing under the new president. It feels like the air itself has changed, like when a storm comes, said Shervin Pishevar, a founder of Sherpa Capital and Hyperloop One. Even before the executive order, pressure had been building on companies to speak out against measures being endorsed by Mr. Trump. Some of that impetus came from employees, and some from activists. Engineers and product managers at several tech companies spoke to The New York Times on the condition of anonymity. They have signed nondisclosure agreements at their companies and are generally not authorized to speak to the news media. At Twitter, a number of workers felt frustrated with the disconnect between their company's product a platform for free speech and the extent to which Mr. Trump has used it to attack those who question him and proclaim outright falsehoods to the American public. On Saturday, Jack Dorsey, Twitter's chief executive, posted and reposted numerous messages denouncing the travel ban. At Facebook, employees felt a similar sense of discord. Some complained about how long it took Mr. Zuckerberg and Sheryl Sandberg, the chief operating officer, to speak out. Others were upset at the continued presence of Peter Thiel, a venture capitalist and a longtime confidant of Mr. Zuckerberg's, as a director on Facebook's board. Mr. Thiel was a donor to Mr. Trump?s campaign and has since become an adviser, and he issued a statement on Saturday evening that reaffirmed his support for the president. Uber is under one of the brightest spotlights. Travis Kalanick, its chief executive, is part of Mr. Trump's economic advisory team. That has made Uber a target of protesters, some of whom shut down access to its headquarters on Inauguration Day. In an email to employees on Saturday titled Standing up for what's right, Mr. Kalanick stressed the importance of pushing for change by working to have a seat at the table and discussing any differences. He said he would be seeing Mr. Trump on Friday. As protesters at Kennedy International Airport in New York multiplied on Saturday night, cabdrivers largely immigrants began a work stoppage at the airport as a form of protest against the executive order. Uber did not follow suit. Instead, it posted on Twitter that it was suspending surge pricing at Kennedy Airport. That prompted accusations that it was trying to break the strike, which the company awkwardly denied in another Twitter post. On Sunday morning, its competitor Lyft said it was donating $1 million\",\n",
       "  'score': 42.4063835144043},\n",
       " {'id': '182401',\n",
       "  'article': \"Vincent Viola, a billionaire Wall Street trader and President Trump's nominee for secretary of the Army, abruptly withdrew his name for the post on Friday night after concluding it would be too difficult to untangle himself from his business ties, two government officials said. Mr. Viola is an owner of the Florida Panthers hockey club and a majority shareholder in Virtu Financial and Eastern Air Lines, among a number of other business interests. This week The New York Times reported that Mr. Viola had been negotiating to swap his stake in Eastern Air Lines for a stake in Swift Air, an airline with government subcontracts. If his nomination had continued, he would have faced certain scrutiny for potentially becoming a government official who benefits from federal contracts. The Trump administration did not announce his withdrawal, which was reported earlier on Friday by Bloomberg News, but a senior administration official and a Pentagon official separately confirmed his decision, which the White House accepted Friday. Both officials spoke on the condition of anonymity. Mr. Viola is a 1977 graduate of the United States Military Academy at West Point, and he last served in the Army Reserves at the rank of major. He remained connected to the military through donations to West Point, including to the academy's Combating Terrorism Center. A former Pentagon official and close friend said Mr. Viola was devastated over having to withdraw from what he described as a lifelong dream job. But the former official said Mr. Viola felt he was unable to sell his interest in some of his holdings because doing so could have destroyed those companies. His decision followed weeks of negotiations between his lawyers and the government as they sought to find a solution. Ultimately, they could not. Mr. Viola has a net worth of almost $1. 8 billion and is a of Virtu. Virtu had planned to go public in 2014, but pulled the plug on the move because of choppy markets and lingering questions around how trading firms like Virtu make money. In a regulatory filing at the time, Virtu said regulators were looking into its trading practices. It is not known if this issue played a role in Mr. Viola's decision to withdraw his name for the Army secretary job, which is a post that requires Senate confirmation. His decision to withdraw comes the same week another of Mr. Trump's appointees, Anthony Scaramucci, was told he would not get a top job at the White House amid concerns about the recent sale of his company to a large Chinese conglomerate. In an episode unrelated to the finances of Mr. Viola, it was recently revealed that he was involved in an altercation in August: He was accused of punching a concessions worker at a racehorse auction in Saratoga Springs, N. Y. No charges were brought against him. Mr. Viola was one of the first nominations Mr. Trump issued the day he was inaugurated. Vincent Viola, everybody likes Vincent, Mr. Trump said just hours\",\n",
       "  'score': 42.37947082519531},\n",
       " {'id': '184433',\n",
       "  'article': \"as chairman of his transition months before Election Day, but decided to remove him and much of his team soon after his victory. The decision to oust Mr. Christie's team, without quickly putting in place a new one, left the administration, which must still fill hundreds of top jobs, ill prepared for the nomination process. The vetting process is designed to identify issues about fitness and confirmability prior to public announcement, said Leslie B. Kiernan, a former deputy White House counsel for President Obama and now a partner with the law firm Akin Gump. The confirmation hearing for Mr. Puzder, the billionaire restaurant to head the Labor Department, was postponed several times because of a delay in filing his financial disclosure statement. Mr. Puzder's hearing is now scheduled for Thursday after the ethics office on Wednesday cleared his financial disclosure statement and ethics agreement. In the agreement, Mr. Puzder said that if confirmed, he would divest himself of his holdings in CKE Restaurants, the operator of the Hardee's and Carl's Jr. chains that he heads. Todd Ricketts, the deputy commerce secretary nominee, has not had a confirmation hearing yet, even though he was announced by the Trump team on Nov. 30. Mr. Ricketts is the scion of a wealthy family and of the Chicago Cubs. A letter on Feb. 7 to Mr. Ricketts by several Democratic senators asked him for more information about his political activity. Despite the setbacks for Mr. Trump, the administration has had ample resources at its disposal. One bipartisan program, called the Center for Presidential Transition, met with the remaining campaigns in the spring to offer advice on a process it calls big, complicated and dangerous. In the months before the election, the Office of Government Ethics also communicated with representatives for Mr. Trump. After his victory, the office offered to bring over supplies, including regulatory books and ethics guides, according to internal emails made public by the agency in response to records requests. But with the turnover at the Trump transition team in the wake of the election, the communication with the agency stopped. Walter M. Shaub Jr. director of the office, cautioned in a Nov. 18 email that cabinet nominees who did not make use of the office for prescreening posed the risk of embarrassment for the and his appointees. Mr. Shaub wrote in one email, We seem to have lost contact with the transition since the election. The messy start to the ethics process could still come back to haunt the administration. In 2000, when Mr. Bush faced a condensed timeline after the contested election in Florida, his team moved aggressively to minimize potential surprises, said Mr. Johnson, who was executive director of the transition. Their approach was to demand answers to the tough questions at the beginning of the process, before anyone was announced. It becomes you tell us everything we need to know, he said. If you don't tell us something, we drop you faster than a blink of an eye.\",\n",
       "  'score': 41.8480224609375},\n",
       " {'id': '176291',\n",
       "  'article': \"LOS ANGELES The chief executive of Sony's underperforming entertainment division, Michael Lynton, announced Friday that he would step down to focus more intently on the popular messaging service Snapchat, where he was an early investor. Mr. Lynton, who weathered various corporate crises at Sony Entertainment over his tenure, including a devastating cyberattack and a battle with activist investors, will step down on Feb. 2, the company said. After that, Kazuo Hirai, the president and chief executive of Sony Corporation, based in Tokyo, will take a more role at the conglomerate's movie, television and music division, at least for a time. Mr. Hirai will begin keeping a second office at Sony's studio complex in Culver City, Calif. the company said, and take the additional title of executive of Sony Entertainment. Mr. Lynton will also serve as executive for a period starting in February to help Mr. Hirai learn the inner workings of the movie and television businesses and select a permanent successor. In the meantime, Mr. Lynton, 57, will officially become chairman of the board at Snap Inc. which owns Snapchat. Snap is expected to go public with an eye toward being valued at $30 billion or more this spring. As chairman, Mr. Lynton is not expected to play a direct management role, but rather focus on matters involving strategy and governance in support of Evan Spiegel, Snap's chief executive. I have been involved with Evan and Snapchat since its early days, and, given its growth since then, decided the time was right to transition, Mr. Lynton said in a statement. He added that he was confident that the broad changes we have made and new management team we have assembled over the last few years? at Sony would bear fruit. Despite wrenching turnaround efforts Mr. Lynton hired a new movie chief in 2015 Sony's film operation, which includes the Columbia, Screen Gems and TriStar labels, has experienced a prolonged shortage of breakout hits. Last year, Sony released 22 movies (not including those distributed by its New art house unit) and collected $911. 5 million at the domestic box office, with moderate successes like The Angry Birds Movie? offset by clunkers like The Brothers Grimsby. Among the six major Hollywood studios, only Paramount fared worse, with 15 releases taking in $876. 8 million. The leader, Walt Disney Studios, where Mr. Lynton worked in the 1990s, had 13 releases and $3 billion in domestic sales. In a statement, Mr. Hirai said Mr. Lynton's structural changes set the path for restoring profitability and future growth, though we recognize current challenges in the motion picture businesses and its turnaround will take some time. That suggests Mr. Hirai plans to be patient with Thomas E. Rothman, the chairman of Sony Pictures, who has ruffled feathers at the studio as he has pushed for change. Mr. Hirai also emphasized that the studio was not for sale a persistent topic of Hollywood speculation calling movies, television and music essential parts of Sony. Although the studio's top television\",\n",
       "  'score': 41.83366394042969},\n",
       " {'id': '175572',\n",
       "  'article': \"to a detail in the report about supposed sex videos with prostitutes, I'm also very much of a germaphobe, believe me. Discussing the topic the news conference was intended to address, Mr. Trump said he would not divest from his vast business holdings as he takes office. Instead, the will turn over the operations and control of those holdings to a trust controlled by his eldest sons, Eric Trump and Donald Trump Jr. The said that he had considered letting the Affordable Care Act implode? on its own and letting Democrats take the political hit he said would follow. But he said he had decided on a more forthright strategy: repeal and replace almost simultaneously. Mr. Trump was short on details but clearer in his intention to try to keep Democrats responsible. We don't want to own it politically, he said. Mr. Trump said that he had asked David J. Shulkin, a current under secretary at the Department of Veterans Affairs, to lead that agency after his team had interviewed at least 100 people? in the search for a secretary. Near the end of the news conference, Mr. Trump got into a shouting match with Jim Acosta of CNN, who tried to press the into taking a question. Since you were attacking our news organization, can you give us a chance? Mr. Acosta asked. To which Mr. Trump replied: Your organization's terrible, and don't be rude, before dismissing the request once and for all: You are fake news. (CNN was the first to report that Mr. Trump and President Obama had been briefed by intelligence officials on the uncorroborated documents, but the network did not publish them.) Sean Spicer, the incoming White House press secretary, spoke first to address the publication of the unverified reports by BuzzFeed on Tuesday. Mr. Spicer called the reports a frankly outrageous and highly irresponsible? attack on Mr. Trump and a sad, pathetic attempt to get clicks. Mr. Spicer said the documents were not an intelligence report and were categorically false. Vice Mike Pence followed Mr. Spicer and amplified his condemnation of news reports by BuzzFeed and other news outlets, which he said were irresponsible? and aimed at discrediting Mr. Trump's legitimate election victory. Mr. Trump began by thanking news organizations that did not report what he called the nonsense that was released. He said he has great respect for freedom of the press, and all of that. Mr. Trump said that the document was released by maybe the intelligence agencies, who knows, which would be a tremendous blot on their record. He went on to cast blame on the Democratic National Committee for the hacking. He praised the Republican National Committee for having better defenses and commended Reince Priebus, his incoming chief of staff, who was the committee chairman. Mr. Trump reiterated his description of the report printed by BuzzFeed as fake news, saying he did not think Mr. Putin had compromising information about him or the Republican Party. I'll be honest, if he\",\n",
       "  'score': 41.72570037841797},\n",
       " {'id': '175991',\n",
       "  'article': \"Good morning. Here's what you need to know: Serious disagreements emerged between Donald J. Trump and some of his nominees in the third day of confirmation hearings. Mr. Trump's choice for defense secretary, Gen. James N. Mattis, said Russia was trying to break NATO. Here's where General Mattis stands on other issues. Rex W. Tillerson, the choice for secretary of state, faces a second round of questions Wednesday, he called for China to be denied access to its artificial islands in the South China Sea. Follow our coverage of the hearings. _____ The intrigue over a sensational but entirely unverified dossier on Mr. Trump's ties to Russia deepened. The who compiled the information disappeared from his home in Britain, saying he feared for his safety. Mr. Trump discussed the dossier with James R. Clapper Jr. the director of national intelligence. They had radically different takeaways from the conversation. And the Justice Department said it would investigate the decision by James B. Comey, above, the F. B. I. chief, to inform Congress about a new review in the Hillary Clinton email investigation ahead of the election. _____ Prosecutors in South Korea are planning to use revelations about a cultural blacklist to strengthen the impeachment charges against President Park . So far, two versions of the blacklist have been reported by the news media, citing anonymous sources. One version listed more than 9, 000 people, including some of the country's most beloved filmmakers, actors and writers. Above, Hong one of the artists who was reportedly blacklisted. _____ Japan's prime minister, Shinzo Abe, ended a visit with President Rodrigo Duterte of the Philippines in which he promised the country about $8. 7 billion worth of business deals, investments and equipment. Mr. Abe is on diplomatic push that will continue with stops in Australia, Indonesia and Vietnam. Separately, Mr. Duterte ordered government agencies to provide free contraception to women, especially the poor, in a move that is likely to face strong resistance from Catholic leadership in the country. Above, protesters in the Philippines. _____ And we look at Aceh Province, Indonesia, which began enforcing Shariah law in 2001. Women are required to wear head scarves, alcohol is prohibited and many offenses are punishable by public whipping. The nation has drifted in a conservative direction, but one Aceh politician says that a silent majority? thinks the local government has gone too far. In the country's capital, Jakarta, three candidates vying to be governor of the city will meet for a televised debate tonight. The incumbent, a Christian, is on trial over charges that he insulted the Quran. _____ India's largest conglomerate, the Tata Group, named Natarajan Chandrasekaran, 53, to be chairman of its holding company, Tata Sons, ending months of turmoil. Health care stocks tumbled after Mr. Trump denounced pharmaceutical companies for shifting manufacturing abroad. But many of the imports are generic drugs a large percentage of which are manufactured in India that help keep costs down. The Environmental Protection Agency accused Fiat Chrysler of\",\n",
       "  'score': 41.68075942993164},\n",
       " {'id': '179611',\n",
       "  'article': \"By the time Donald Glover puzzled Hollywood's finest by thanking Migos, the trendsetting Atlanta rap trio, during his Golden Globes acceptance speech this month, the group had already locked up its first No. 1 hit on the Billboard chart. Not that you would have known it by the behavior of the music industry's mainstream gatekeepers. While Bad and Boujee, which Mr. Glover, the star and creator of Atlanta? on FX, unexpectedly called the best song ever? onstage, had been building in clubs and online since its August release, it had only recently reached radio and was far from the of other more anodyne (and, notably, whiter) streaming smashes. For weeks, as the song turned into a sensation through a torrent of internet memes and listens on YouTube and Spotify (with now more than 250 million combined streams) representatives for Migos had been trying to book the roguish group made up of the rappers Quavo, Offset and Takeoff a performance on television, a rite of passage for rising acts. They were repeatedly brushed off. They gave all kinds of excuses not the right time, it's not this, it's not that, recalled Pierre Thomas, better known as Pee, the chief executive of Quality Control Music, Migos's label. But as soon as Donald Glover did that, the next day, all the people who had just denied us wanted them on their show. The very next week, Migos took Bad and Boujee? to Jimmy Kimmel Live!? Battling fickle tastes has been a constant for Migos since the trio stormed the firmament in 2013, bringing a Gucci bag full of flashy new tricks, including their trademark stuttering, triplet flow and an endless series of sticky catchphrases, and vocal tics (?Grrr, That way! ). But those who start trends don't always reap the rewards. Versace, the group's breakout song, was lifted, but then eclipsed, by Drake's faithful remix, while dabbing, once Migos lingo, morphed into a dance craze. As repeated arrests sidelined Migos's members at crucial moments, like the to their debut album, Yung Rich Nation? a commercial flop in 2015, selling just 15, 000 copies its first week the group risked becoming another casualty of rap's culture, where younger viral artists are always bubbling, especially in Atlanta. With a refined strategy for harnessing the rise of streaming, where young listeners flock to rap, Migos is now zooming at an even higher level. With the release of its second album, Culture, out digitally on Friday, the trio focused its exuberant songwriting. It is choosing more airy, ornate trap beats and taming its staccato verbal onslaught to make better use of empty space, while tending to both its online and boosters. In New York this week, Takeoff, 22, the group's most reserved member, compared the album to Christmas Eve, his sleepy eyes lighting up. You just know that everything you asked for is going to be there up under that Christmas tree, he said. It's our time now. Migos's de facto leader, Quavo, 25, is its most\",\n",
       "  'score': 41.540870666503906},\n",
       " {'id': '178023',\n",
       "  'article': \"first Chinese head of state to do so, his message was clear: China is ready for the world stage. He championed free trade and open markets, setting the tone for the week. On the sidelines, the country's business leaders echoed that sentiment. Among the delegation that arrived in Davos with Mr. Xi were some of China's biggest business leaders including Mr. Ma, Wang Jianlin of Dalian Wanda, and top executives from Baidu, Huawei Technologies and China Telecom. Through the week, they have been meeting with investors and talking deals with erstwhile partners. With Mr. Xi's help, China has fashioned itself here as a new leader of the world. I wasn't sure if it was President Xi or Ronald Reagan, joked Thomas W. Farley, president of the New York Stock Exchange. At a lunch with Mr. Ma of Alibaba, Mr. Xi was quoting Abraham Lincoln, Mr. Ma told a small group of participants on Wednesday. It was a message somewhat at odds with the roots of China's ruling Communist Party. And back in Washington, Wilbur Ross, Mr. Trump's nominee for commerce secretary, did not mince words, calling China the most protectionist? major economy, setting the stage for a possible trade war. But in Davos, there was a sense that change in the economic order was afoot. Alicia Brcena Ibarra, who heads the United Nations Economic Commission for Latin America and the Caribbean, told a small group that China could soon overtake the United States when it comes to importance in Latin America. She described how on the same day last year that Mr. Trump told the world he would not sign the Partnership, Mr. Xi arrived for a summit meeting in Chile. So can you imagine the impact when he came talking about free trade as he did this morning? she said, referring to Mr. Xi's address on Tuesday in Davos. China now is the important trade partner of Latin America after the U. S. Maybe this is going to change, she added. Very soon.\",\n",
       "  'score': 41.51415252685547},\n",
       " {'id': '183332',\n",
       "  'article': \"an Android device. More than 46 billion digital red packets online versions of envelopes of cash were sent on WeChat, the Chinese social media platform, during the Lunar New Year period, China's media reported. President Trump's travel ban has disrupted the business of corporate travel to the U. S. Many groups will just look to move the meeting elsewhere, one industry leader said. The new head of the Federal Communications Commission, Ajit Pai, has rapidly moved against net neutrality and consumer protections. Qatar Airways inaugurated the world's longest scheduled commercial flight, 16 hours and 20 minutes, connecting Doha to Auckland, New Zealand. U. S. stocks were weaker. Here's a snapshot of global markets. India's southern Tamil Nadu state is set to swear in Sasikala Natarajan as chief minister, a confidante of her predecessor: the influential politician Jayalalithaa Jayaram, or Amma, who died two months ago. The opposition has been scathing, the Supreme Court is considering a petition to block the move until it rules on a corruption case against her. [The Financial Express] An Australian panel investigating child sexual abuse confronted reports of 4, 444 allegations involving Catholic priests between 1980 and 2015. [Al Jazeera] A South Australian senator, Cory Bernardi, is expected to resign from the Liberals to establish a conservative party, despite a flood of pleas from his colleagues trying to save the government. [ABC] In France, Marine Le Pen, the leader of the National Front, set the tone for her bid for April's presidential election in a speech with echoes of President Trump that warned against globalization and Islamism. [The New York Times] The U. N. mission in Afghanistan reported that 2016 was another year of record civilian casualties, expressing particular concern over a 65 percent jump in the number of children killed or injured by explosive remnants. [The New York Times] The police in Myanmar confiscated more than 4. 6 million methamphetamine pills from a Buddhist monk. [The Irrawaddy] Xiao Jianhua, the tycoon missing since being escorted from a Hong Kong hotel by mainland officers last week, shared something with many mainland billionaires: a preference for female bodyguards. [South China Morning Post] We're all busy in the morning, so don't waste time: Here's how to do the shortest workout possible. Two brothers and a sister credit a surprising source for their lifelong closeness: their parents? ugly divorce. Recipe of the day: Everyone needs a spicy noodle dish that comes together in less than half an hour. Here's a great one. The golfer Aditi Ashok is ranked No. 100 in the world at the age of 18, but she is just the second Indian member of the L. P. G. A. and among the few female professionals in her nation. Queen Elizabeth II's sapphire jubilee, marking 65 years on the British throne, brought new coins, a stamp and gun salutes. The only thing missing? The queen, 90, who spent a private and reflective day. The Berlin International Film Festival opens this week with a tale of survival,\",\n",
       "  'score': 41.352108001708984},\n",
       " {'id': '182452',\n",
       "  'article': \"the parent company of Carl's Jr. and Hardee's, as well as wage violations at those restaurants. Mr. Puzder is chief executive of CKE. His confirmation hearing before a Senate committee has been delayed four times. His spokesman said Mr. Puzder, 66, was working to divest from his company. He doesn't view laws and regulations as things that help protect the most vulnerable from exploitation. He looks at them as things that hinder him from doing what he wants to do, said Judy Conti, who oversees federal advocacy for the National Employment Law Project. That's antithetical to the mission of the Department of Labor. Mr. Shenker led a life fit for the movies. A Jew, he fled Russia as an orphaned teenager in the 1920s to join his older brothers in St. Louis. He went on to become one of the lawyers in America. He was also a mob lawyer. In his thick accent, Mr. Shenker sometimes said he would rather see a guilty man go free than an innocent man go to jail. But his work on behalf of organized crime figures went beyond the courtroom. Through one of his most notorious clients, the former Teamsters president Jimmy Hoffa, Mr. Shenker gained influence in the over the Teamsters? enormous Central States pension fund. According to an investigation by Life magazine, Mr. Shenker built a fortune from fees he was paid to loans from the fund to businesses. In 1973, he took control of the Dunes Hotel and Casino in Las Vegas and a resort in California. Married and supporting two children, Mr. Puzder began working at the Shenker law firm while a student at Washington University School of Law in St. Louis, finding it more attractive than the construction work he had been doing to earn money. Mr. Puzder joined the firm full time after graduating in 1978, a career choice that bewildered some who knew him. The firm was fading in relevance, with its famous principal spending much of his time in Las Vegas. But Peter Sadowski, who worked part time at the firm with Mr. Puzder while both were in law school, said Mr. Shenker had enticed Mr. Puzder with the chance to handle the lawsuit already underway in Las Vegas. Shenker wanted him to lead the defense, said Mr. Sadowski, now an executive vice president at Fidelity National Financial, a major seller of title insurance. Politico recently reported on Mr. Puzder's work for Mr. Shenker. Mr. Shenker's fortunes had changed quickly after Congress passed the Employee Retirement Income Security Act of 1974, which, among other things, protects worker pensions from being raided by their employers. The next year, the Teamsters pension fund backed out of a $40 million loan that Mr. Shenker wanted for an expansion of the Dunes. Mr. Shenker sued, and the Labor Department joined the case with the pension fund. In 1980, after a federal judge summarily dismissed the case halfway through the trial, Mr. Puzder presented the appeal at the United States Court\",\n",
       "  'score': 41.108116149902344},\n",
       " {'id': '173344',\n",
       "  'article': 'around with Americans? Medicare, Medicaid and health care, Mr. Schumer responded after meeting with the president. He warned that Republicans would throw the entire health care system into chaos. Representative Nancy Pelosi of California, the House minority leader, tried to coin a phrase: Make America sick again? Is that what Republicans want? The Trump transition office named the lawyer Jay Clayton to be the next chairman of the Securities and Exchange Commission. The last time Mr. Trump held a real news conference was on July 27, when he said President Vladimir V. Putin of Russia had called him a genius and wrongly insisted that many people? saw bombs strewn all over the floor of the San Bernardino, Calif. attackers? home and failed to report it. That long stretch without a real news media grilling did not do him much harm. He did, after all, win the election. But he says he will hold a true, open news conference next Wednesday. No word yet whether this session will take the place of the one he scheduled for last month, then canceled, to specifically reveal his plans for the future of his corporation.',\n",
       "  'score': 40.85124588012695}]"
      ]
     },
     "execution_count": 47,
     "metadata": {},
     "output_type": "execute_result"
    }
   ],
   "source": [
    "query = \"Who is the vice chairman of Samsung?\"\n",
    "query = clean_text(query)\n",
    "results = search(query, top_k=20, index=index, model=model)\n",
    "results"
   ]
  },
  {
   "cell_type": "markdown",
   "metadata": {},
   "source": [
    "## Cross Encoder"
   ]
  },
  {
   "cell_type": "code",
   "execution_count": 48,
   "metadata": {},
   "outputs": [],
   "source": [
    "from sentence_transformers import CrossEncoder\n",
    "cross_model = CrossEncoder('cross-encoder/ms-marco-TinyBERT-L-6', max_length=512)"
   ]
  },
  {
   "cell_type": "code",
   "execution_count": 49,
   "metadata": {},
   "outputs": [],
   "source": [
    "def cross_score(model_inputs):\n",
    "    scores = cross_model.predict(model_inputs)\n",
    "    return scores\n",
    "\n",
    "model_inputs = [[query, result['article']] for result in results]\n",
    "scores = cross_score(model_inputs)\n",
    "\n",
    "#Sort the scores in decreasing order\n",
    "ranked_results = [{'Id': result['id'], 'Score': score} for result, score in zip(results, scores)]\n",
    "ranked_results = sorted(ranked_results, key=lambda x: x['Score'], reverse=True)"
   ]
  },
  {
   "cell_type": "code",
   "execution_count": 50,
   "metadata": {},
   "outputs": [
    {
     "name": "stdout",
     "output_type": "stream",
     "text": [
      "\n",
      "\n",
      "{'Id': '175741', 'Score': 0.93238395}\n",
      "\t None\n",
      "{'Id': '177641', 'Score': 0.75574094}\n",
      "\t None\n",
      "{'Id': '177642', 'Score': 0.046901602}\n",
      "\t None\n",
      "{'Id': '175742', 'Score': 0.0065609324}\n",
      "\t None\n",
      "{'Id': '178513', 'Score': 0.0010543187}\n",
      "\t None\n"
     ]
    }
   ],
   "source": [
    "from pprint import pprint\n",
    "\n",
    "print(\"\\n\")\n",
    "for result in ranked_results[:5]:\n",
    "    print('\\t',pprint(result))"
   ]
  },
  {
   "cell_type": "code",
   "execution_count": 51,
   "metadata": {},
   "outputs": [
    {
     "name": "stdout",
     "output_type": "stream",
     "text": [
      "(array([[39.005157, 38.923374, 37.96611 , 37.959103, 37.91911 , 37.274223,\n",
      "        36.828144, 36.226395, 36.163   , 35.62926 ]], dtype=float32), array([[1584, 2616,  645,  763, 2310,  867, 2120, 2691, 2126, 2659]],\n",
      "      dtype=int64))\n",
      "\n",
      "\n",
      "{'Id': '183661', 'Score': 0.0007293035}\n",
      "\t None\n",
      "{'Id': '179103', 'Score': 0.00019763244}\n",
      "\t None\n",
      "{'Id': '175501', 'Score': 0.00018643167}\n",
      "\t None\n",
      "{'Id': '181351', 'Score': 0.00018178276}\n",
      "\t None\n",
      "{'Id': '183343', 'Score': 0.00018148297}\n",
      "\t None\n"
     ]
    }
   ],
   "source": [
    "query = \"who lives in Sheepshead Bay?\"\n",
    "query = clean_text(query)\n",
    "results = search(query, top_k=10, index=index, model=model)\n",
    "model_inputs = [[query, item['article']] for item in results]\n",
    "scores = cross_score(model_inputs)\n",
    "\n",
    "ranked_results = [{'Id': inp['id'], 'Score': score} for inp, score in zip(results, scores)]\n",
    "ranked_results = sorted(ranked_results, key=lambda x: x['Score'], reverse=True)\n",
    "print(\"\\n\")\n",
    "for result in ranked_results[:5]:\n",
    "    print('\\t',pprint(result))"
   ]
  },
  {
   "cell_type": "markdown",
   "metadata": {},
   "source": [
    "## BERT score"
   ]
  },
  {
   "cell_type": "code",
   "execution_count": 24,
   "metadata": {},
   "outputs": [],
   "source": [
    "import bert_score\n",
    "from bert_score import score"
   ]
  },
  {
   "cell_type": "code",
   "execution_count": 25,
   "metadata": {},
   "outputs": [
    {
     "name": "stderr",
     "output_type": "stream",
     "text": [
      "Some weights of RobertaModel were not initialized from the model checkpoint at roberta-large and are newly initialized: ['roberta.pooler.dense.bias', 'roberta.pooler.dense.weight']\n",
      "You should probably TRAIN this model on a down-stream task to be able to use it for predictions and inference.\n",
      "Some weights of RobertaModel were not initialized from the model checkpoint at roberta-large and are newly initialized: ['roberta.pooler.dense.bias', 'roberta.pooler.dense.weight']\n",
      "You should probably TRAIN this model on a down-stream task to be able to use it for predictions and inference.\n",
      "Some weights of RobertaModel were not initialized from the model checkpoint at roberta-large and are newly initialized: ['roberta.pooler.dense.bias', 'roberta.pooler.dense.weight']\n",
      "You should probably TRAIN this model on a down-stream task to be able to use it for predictions and inference.\n",
      "Some weights of RobertaModel were not initialized from the model checkpoint at roberta-large and are newly initialized: ['roberta.pooler.dense.bias', 'roberta.pooler.dense.weight']\n",
      "You should probably TRAIN this model on a down-stream task to be able to use it for predictions and inference.\n",
      "Some weights of RobertaModel were not initialized from the model checkpoint at roberta-large and are newly initialized: ['roberta.pooler.dense.bias', 'roberta.pooler.dense.weight']\n",
      "You should probably TRAIN this model on a down-stream task to be able to use it for predictions and inference.\n",
      "Some weights of RobertaModel were not initialized from the model checkpoint at roberta-large and are newly initialized: ['roberta.pooler.dense.bias', 'roberta.pooler.dense.weight']\n",
      "You should probably TRAIN this model on a down-stream task to be able to use it for predictions and inference.\n",
      "Some weights of RobertaModel were not initialized from the model checkpoint at roberta-large and are newly initialized: ['roberta.pooler.dense.bias', 'roberta.pooler.dense.weight']\n",
      "You should probably TRAIN this model on a down-stream task to be able to use it for predictions and inference.\n",
      "Some weights of RobertaModel were not initialized from the model checkpoint at roberta-large and are newly initialized: ['roberta.pooler.dense.bias', 'roberta.pooler.dense.weight']\n",
      "You should probably TRAIN this model on a down-stream task to be able to use it for predictions and inference.\n",
      "Some weights of RobertaModel were not initialized from the model checkpoint at roberta-large and are newly initialized: ['roberta.pooler.dense.bias', 'roberta.pooler.dense.weight']\n",
      "You should probably TRAIN this model on a down-stream task to be able to use it for predictions and inference.\n",
      "Some weights of RobertaModel were not initialized from the model checkpoint at roberta-large and are newly initialized: ['roberta.pooler.dense.bias', 'roberta.pooler.dense.weight']\n",
      "You should probably TRAIN this model on a down-stream task to be able to use it for predictions and inference.\n"
     ]
    }
   ],
   "source": [
    "query = \"Who is the vice chairman of Samsung?\"\n",
    "query = clean_text(query)\n",
    "ranked_results_bert = []\n",
    "\n",
    "for result in results:\n",
    "    P, R, F1 = score([result['article']], [query], lang='en')\n",
    "    ranked_results_bert.append({'Id': result['id'], 'Score': F1.numpy()[0]})"
   ]
  },
  {
   "cell_type": "code",
   "execution_count": 26,
   "metadata": {},
   "outputs": [
    {
     "name": "stdout",
     "output_type": "stream",
     "text": [
      "\n",
      "\n",
      "{'Id': '176332', 'Score': 0.80943394}\n",
      "\t None\n",
      "{'Id': '183343', 'Score': 0.80591106}\n",
      "\t None\n",
      "{'Id': '175943', 'Score': 0.8052438}\n",
      "\t None\n",
      "{'Id': '182113', 'Score': 0.8026211}\n",
      "\t None\n",
      "{'Id': '179103', 'Score': 0.8021943}\n",
      "\t None\n"
     ]
    }
   ],
   "source": [
    "ranked_results_bert = sorted(ranked_results_bert, key=lambda x: x['Score'], reverse=True)\n",
    "print(\"\\n\")\n",
    "for result in ranked_results_bert[:5]:\n",
    "    print('\\t',pprint(result))"
   ]
  },
  {
   "cell_type": "code",
   "execution_count": null,
   "metadata": {},
   "outputs": [],
   "source": []
  }
 ],
 "metadata": {
  "kernelspec": {
   "display_name": ".venv",
   "language": "python",
   "name": "python3"
  },
  "language_info": {
   "codemirror_mode": {
    "name": "ipython",
    "version": 3
   },
   "file_extension": ".py",
   "mimetype": "text/x-python",
   "name": "python",
   "nbconvert_exporter": "python",
   "pygments_lexer": "ipython3",
   "version": "3.11.5"
  }
 },
 "nbformat": 4,
 "nbformat_minor": 2
}
